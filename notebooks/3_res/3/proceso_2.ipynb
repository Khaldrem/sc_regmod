{
 "cells": [
  {
   "cell_type": "code",
   "execution_count": 1,
   "metadata": {},
   "outputs": [],
   "source": [
    "import os, sys\n",
    "path_to_package = os.path.abspath(os.path.join('../../..'))\n",
    "if path_to_package not in sys.path:\n",
    "    sys.path.append(path_to_package)\n",
    "\n",
    "\n",
    "from src.io import get_filepaths, read_phylip_file\n",
    "from src.models import data_preparation\n",
    "from src.utils import get_filename\n",
    "\n",
    "import matplotlib.pyplot as plt\n",
    "import numpy as np\n",
    "import pandas as pd\n",
    "import scipy as sp\n",
    "import seaborn as sns"
   ]
  },
  {
   "cell_type": "code",
   "execution_count": 2,
   "metadata": {},
   "outputs": [],
   "source": [
    "chromosome = \"diploides-euploides\"\n",
    "\n",
    "original_fps = get_filepaths('/home/khaldrem/code/sc_regmod/dataset/original')\n",
    "clean_fps = get_filepaths('/home/khaldrem/code/sc_regmod/dataset/clean')\n",
    "anova_fps_exp_2 = get_filepaths(f\"/home/khaldrem/code/sc_regmod/dataset/anova/anova_at_least_one_phenotype/p_value_0_01/{chromosome}\")"
   ]
  },
  {
   "cell_type": "code",
   "execution_count": 3,
   "metadata": {},
   "outputs": [
    {
     "name": "stdout",
     "output_type": "stream",
     "text": [
      "Cantidad de archivos proceso 2 - exp 3: 5955\n"
     ]
    }
   ],
   "source": [
    "print(f\"Cantidad de archivos proceso 2 - exp 3: {len(anova_fps_exp_2)}\")"
   ]
  },
  {
   "cell_type": "code",
   "execution_count": 4,
   "metadata": {},
   "outputs": [],
   "source": [
    "df_files = {}\n",
    "\n",
    "filenames = []\n",
    "original_length = []\n",
    "clean_length = []\n",
    "anova_length = []\n",
    "\n",
    "for f in original_fps:\n",
    "    data = read_phylip_file(f)\n",
    "    filename = get_filename(f)\n",
    "\n",
    "    filenames.append(filename)\n",
    "    original_length.append(data.get_alignment_length())\n",
    "\n",
    "    clean_path = f\"/home/khaldrem/code/sc_regmod/dataset/clean/{filename}.phylip\"\n",
    "    if os.path.exists(clean_path):\n",
    "        data2 = read_phylip_file(clean_path)\n",
    "        clean_length.append(data2.get_alignment_length())\n",
    "    else:\n",
    "        clean_length.append(-1)\n",
    "\n",
    "    anova_path = f\"/home/khaldrem/code/sc_regmod/dataset/anova/anova_at_least_one_phenotype/p_value_0_01/{chromosome}/{filename}.phylip\"\n",
    "    if os.path.exists(anova_path):\n",
    "        data3 = read_phylip_file(anova_path)\n",
    "        anova_length.append(data3.get_alignment_length())\n",
    "    else:\n",
    "        anova_length.append(-1)\n",
    "\n",
    "\n",
    "df_files[\"filenames\"] = filenames\n",
    "df_files[\"Original\"] = original_length\n",
    "df_files[\"Proceso_1\"] = clean_length\n",
    "df_files[\"Proceso_2\"] = anova_length\n",
    "\n",
    "df_len = pd.DataFrame.from_dict(df_files)"
   ]
  },
  {
   "cell_type": "code",
   "execution_count": 5,
   "metadata": {},
   "outputs": [
    {
     "data": {
      "text/plain": [
       "(6015, 4)"
      ]
     },
     "execution_count": 5,
     "metadata": {},
     "output_type": "execute_result"
    }
   ],
   "source": [
    "df_len.head()\n",
    "df_len.shape"
   ]
  },
  {
   "cell_type": "code",
   "execution_count": 6,
   "metadata": {},
   "outputs": [],
   "source": [
    "df_len.loc[df_len['Proceso_2']!= -1, 'percentage'] = 1 - (df_len[\"Proceso_2\"]/df_len[\"Proceso_1\"])"
   ]
  },
  {
   "cell_type": "code",
   "execution_count": 7,
   "metadata": {},
   "outputs": [
    {
     "name": "stdout",
     "output_type": "stream",
     "text": [
      "Cantidad de archivos que presentaron un 50% o mas de: 5878\n"
     ]
    }
   ],
   "source": [
    "print(f\"Cantidad de archivos que presentaron un 50% o mas de: {df_len.loc[(df_len['Proceso_2'] != -1) & (df_len['percentage'] >= 0.5)].shape[0]}\")"
   ]
  },
  {
   "cell_type": "code",
   "execution_count": 8,
   "metadata": {},
   "outputs": [
    {
     "name": "stdout",
     "output_type": "stream",
     "text": [
      "Cantida de archivos que fueron eliminados: 60 (Respecto a la cantidad original)\n"
     ]
    }
   ],
   "source": [
    "print(f\"Cantida de archivos que fueron eliminados: {df_len.loc[(df_len['Proceso_2'] == -1)].shape[0]} (Respecto a la cantidad original)\")"
   ]
  },
  {
   "cell_type": "code",
   "execution_count": 9,
   "metadata": {},
   "outputs": [
    {
     "name": "stdout",
     "output_type": "stream",
     "text": [
      "Nombres: \n",
      "22\n"
     ]
    },
    {
     "data": {
      "text/plain": [
       "['YHL049C',\n",
       " 'YHR054C',\n",
       " 'YAR066W',\n",
       " 'YLR462W',\n",
       " 'YPL281C',\n",
       " 'YLL066C',\n",
       " 'YCL066W',\n",
       " 'YLR463C',\n",
       " 'YER190W',\n",
       " 'YDL247W',\n",
       " 'YOR393W',\n",
       " 'YNR076W',\n",
       " 'YFL064C',\n",
       " 'YBL112C',\n",
       " 'YLR161W',\n",
       " 'YDL232W',\n",
       " 'YDL184C',\n",
       " 'YHR055C',\n",
       " 'YLL067C',\n",
       " 'YJR159W',\n",
       " 'YFL065C',\n",
       " 'YPR204W']"
      ]
     },
     "execution_count": 9,
     "metadata": {},
     "output_type": "execute_result"
    }
   ],
   "source": [
    "print(\"Nombres: \")\n",
    "print(len(df_len.loc[(df_len['Proceso_2'] == -1) & (df_len['Proceso_1'] != -1)][\"filenames\"].tolist()))\n",
    "df_len.loc[(df_len['Proceso_2'] == -1) & (df_len['Proceso_1'] != -1)][\"filenames\"].tolist()"
   ]
  },
  {
   "cell_type": "code",
   "execution_count": 10,
   "metadata": {},
   "outputs": [
    {
     "name": "stdout",
     "output_type": "stream",
     "text": [
      "Datos proceso 2: \n",
      "mean: 67.30623441396509\n",
      "std: 71.68721077195221\n",
      "var: 5139.056188262301\n",
      "\n"
     ]
    }
   ],
   "source": [
    "print(\"Datos proceso 2: \")\n",
    "print(f\"mean: {df_len['Proceso_2'].mean()}\")\n",
    "print(f\"std: {df_len['Proceso_2'].std()}\")\n",
    "print(f\"var: {df_len['Proceso_2'].var()}\")\n",
    "print()"
   ]
  },
  {
   "cell_type": "code",
   "execution_count": 11,
   "metadata": {},
   "outputs": [
    {
     "data": {
      "text/html": [
       "<div>\n",
       "<style scoped>\n",
       "    .dataframe tbody tr th:only-of-type {\n",
       "        vertical-align: middle;\n",
       "    }\n",
       "\n",
       "    .dataframe tbody tr th {\n",
       "        vertical-align: top;\n",
       "    }\n",
       "\n",
       "    .dataframe thead th {\n",
       "        text-align: right;\n",
       "    }\n",
       "</style>\n",
       "<table border=\"1\" class=\"dataframe\">\n",
       "  <thead>\n",
       "    <tr style=\"text-align: right;\">\n",
       "      <th></th>\n",
       "      <th>Original</th>\n",
       "      <th>Proceso_1</th>\n",
       "      <th>Proceso_2</th>\n",
       "      <th>percentage</th>\n",
       "    </tr>\n",
       "  </thead>\n",
       "  <tbody>\n",
       "    <tr>\n",
       "      <th>count</th>\n",
       "      <td>6015.000000</td>\n",
       "      <td>6015.000000</td>\n",
       "      <td>6015.000000</td>\n",
       "      <td>5955.000000</td>\n",
       "    </tr>\n",
       "    <tr>\n",
       "      <th>mean</th>\n",
       "      <td>1468.670158</td>\n",
       "      <td>220.279468</td>\n",
       "      <td>67.306234</td>\n",
       "      <td>0.689892</td>\n",
       "    </tr>\n",
       "    <tr>\n",
       "      <th>std</th>\n",
       "      <td>1132.129197</td>\n",
       "      <td>264.945442</td>\n",
       "      <td>71.687211</td>\n",
       "      <td>0.074104</td>\n",
       "    </tr>\n",
       "    <tr>\n",
       "      <th>min</th>\n",
       "      <td>78.000000</td>\n",
       "      <td>-1.000000</td>\n",
       "      <td>-1.000000</td>\n",
       "      <td>0.100000</td>\n",
       "    </tr>\n",
       "    <tr>\n",
       "      <th>25%</th>\n",
       "      <td>690.000000</td>\n",
       "      <td>93.000000</td>\n",
       "      <td>28.000000</td>\n",
       "      <td>0.649123</td>\n",
       "    </tr>\n",
       "    <tr>\n",
       "      <th>50%</th>\n",
       "      <td>1182.000000</td>\n",
       "      <td>159.000000</td>\n",
       "      <td>49.000000</td>\n",
       "      <td>0.690909</td>\n",
       "    </tr>\n",
       "    <tr>\n",
       "      <th>75%</th>\n",
       "      <td>1877.000000</td>\n",
       "      <td>270.000000</td>\n",
       "      <td>84.000000</td>\n",
       "      <td>0.733645</td>\n",
       "    </tr>\n",
       "    <tr>\n",
       "      <th>max</th>\n",
       "      <td>14737.000000</td>\n",
       "      <td>6609.000000</td>\n",
       "      <td>1457.000000</td>\n",
       "      <td>0.996032</td>\n",
       "    </tr>\n",
       "  </tbody>\n",
       "</table>\n",
       "</div>"
      ],
      "text/plain": [
       "           Original    Proceso_1    Proceso_2   percentage\n",
       "count   6015.000000  6015.000000  6015.000000  5955.000000\n",
       "mean    1468.670158   220.279468    67.306234     0.689892\n",
       "std     1132.129197   264.945442    71.687211     0.074104\n",
       "min       78.000000    -1.000000    -1.000000     0.100000\n",
       "25%      690.000000    93.000000    28.000000     0.649123\n",
       "50%     1182.000000   159.000000    49.000000     0.690909\n",
       "75%     1877.000000   270.000000    84.000000     0.733645\n",
       "max    14737.000000  6609.000000  1457.000000     0.996032"
      ]
     },
     "execution_count": 11,
     "metadata": {},
     "output_type": "execute_result"
    }
   ],
   "source": [
    "df_len.describe()"
   ]
  },
  {
   "cell_type": "code",
   "execution_count": 12,
   "metadata": {},
   "outputs": [
    {
     "data": {
      "text/html": [
       "<div>\n",
       "<style scoped>\n",
       "    .dataframe tbody tr th:only-of-type {\n",
       "        vertical-align: middle;\n",
       "    }\n",
       "\n",
       "    .dataframe tbody tr th {\n",
       "        vertical-align: top;\n",
       "    }\n",
       "\n",
       "    .dataframe thead th {\n",
       "        text-align: right;\n",
       "    }\n",
       "</style>\n",
       "<table border=\"1\" class=\"dataframe\">\n",
       "  <thead>\n",
       "    <tr style=\"text-align: right;\">\n",
       "      <th></th>\n",
       "      <th>filenames</th>\n",
       "      <th>Original</th>\n",
       "      <th>Proceso_1</th>\n",
       "      <th>Proceso_2</th>\n",
       "      <th>percentage</th>\n",
       "    </tr>\n",
       "  </thead>\n",
       "  <tbody>\n",
       "    <tr>\n",
       "      <th>0</th>\n",
       "      <td>YNR029C</td>\n",
       "      <td>1290</td>\n",
       "      <td>161</td>\n",
       "      <td>57</td>\n",
       "      <td>0.645963</td>\n",
       "    </tr>\n",
       "    <tr>\n",
       "      <th>1</th>\n",
       "      <td>YOR059C</td>\n",
       "      <td>1353</td>\n",
       "      <td>176</td>\n",
       "      <td>51</td>\n",
       "      <td>0.710227</td>\n",
       "    </tr>\n",
       "    <tr>\n",
       "      <th>2</th>\n",
       "      <td>YJR062C</td>\n",
       "      <td>1375</td>\n",
       "      <td>194</td>\n",
       "      <td>67</td>\n",
       "      <td>0.654639</td>\n",
       "    </tr>\n",
       "    <tr>\n",
       "      <th>3</th>\n",
       "      <td>YJL123C</td>\n",
       "      <td>1565</td>\n",
       "      <td>363</td>\n",
       "      <td>119</td>\n",
       "      <td>0.672176</td>\n",
       "    </tr>\n",
       "    <tr>\n",
       "      <th>4</th>\n",
       "      <td>YJL203W</td>\n",
       "      <td>843</td>\n",
       "      <td>122</td>\n",
       "      <td>36</td>\n",
       "      <td>0.704918</td>\n",
       "    </tr>\n",
       "  </tbody>\n",
       "</table>\n",
       "</div>"
      ],
      "text/plain": [
       "  filenames  Original  Proceso_1  Proceso_2  percentage\n",
       "0   YNR029C      1290        161         57    0.645963\n",
       "1   YOR059C      1353        176         51    0.710227\n",
       "2   YJR062C      1375        194         67    0.654639\n",
       "3   YJL123C      1565        363        119    0.672176\n",
       "4   YJL203W       843        122         36    0.704918"
      ]
     },
     "execution_count": 12,
     "metadata": {},
     "output_type": "execute_result"
    }
   ],
   "source": [
    "df_len.head()"
   ]
  },
  {
   "cell_type": "code",
   "execution_count": 15,
   "metadata": {},
   "outputs": [
    {
     "data": {
      "text/plain": [
       "Text(0, 0.5, 'Largo de la secuencia')"
      ]
     },
     "execution_count": 15,
     "metadata": {},
     "output_type": "execute_result"
    },
    {
     "data": {
      "image/png": "[encoded data removed]",
      "text/plain": [
       "<Figure size 720x720 with 1 Axes>"
      ]
     },
     "metadata": {
      "needs_background": "light"
     },
     "output_type": "display_data"
    }
   ],
   "source": [
    "NRO_EXP = 3\n",
    "proc2 = df_len.loc[df_len[\"Proceso_2\"] != -1]\n",
    "\n",
    "plt.rc('xtick', labelsize=20) \n",
    "plt.rc('ytick', labelsize=20)\n",
    "fig, ax = plt.subplots(figsize=(10, 10))\n",
    "ax.boxplot(proc2[\"Proceso_2\"])\n",
    "ax.set_title(f'Experimento Nro. {NRO_EXP}', fontsize=20)\n",
    "\n",
    "plt.xticks([1], ['Proceso 2'])\n",
    "plt.ylabel(\"Largo de la secuencia\", fontsize=20)"
   ]
  },
  {
   "cell_type": "code",
   "execution_count": null,
   "metadata": {},
   "outputs": [],
   "source": []
  },
  {
   "cell_type": "code",
   "execution_count": null,
   "metadata": {},
   "outputs": [],
   "source": []
  }
 ],
 "metadata": {
  "kernelspec": {
   "display_name": "Python 3.10.4 ('.env': venv)",
   "language": "python",
   "name": "python3"
  },
  "language_info": {
   "codemirror_mode": {
    "name": "ipython",
    "version": 3
   },
   "file_extension": ".py",
   "mimetype": "text/x-python",
   "name": "python",
   "nbconvert_exporter": "python",
   "pygments_lexer": "ipython3",
   "version": "3.10.4"
  },
  "orig_nbformat": 4,
  "vscode": {
   "interpreter": {
    "hash": "0c553806f052202d33c4aa0bba9e6ab658aab5d30cc44140daa08f372e9629d7"
   }
  }
 },
 "nbformat": 4,
 "nbformat_minor": 2
}
