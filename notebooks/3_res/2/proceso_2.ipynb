{
 "cells": [
  {
   "cell_type": "code",
   "execution_count": 1,
   "metadata": {},
   "outputs": [],
   "source": [
    "import os, sys\n",
    "path_to_package = os.path.abspath(os.path.join('../../..'))\n",
    "if path_to_package not in sys.path:\n",
    "    sys.path.append(path_to_package)\n",
    "\n",
    "\n",
    "from src.io import get_filepaths, read_phylip_file\n",
    "from src.models import data_preparation\n",
    "from src.utils import get_filename\n",
    "\n",
    "import matplotlib.pyplot as plt\n",
    "import numpy as np\n",
    "import pandas as pd\n",
    "import scipy as sp\n",
    "import seaborn as sns"
   ]
  },
  {
   "cell_type": "code",
   "execution_count": 2,
   "metadata": {},
   "outputs": [],
   "source": [
    "chromosome = \"haploide-euploide\"\n",
    "\n",
    "original_fps = get_filepaths('/home/khaldrem/code/sc_regmod/dataset/original')\n",
    "clean_fps = get_filepaths('/home/khaldrem/code/sc_regmod/dataset/clean')\n",
    "anova_fps_exp_2 = get_filepaths(f\"/home/khaldrem/code/sc_regmod/dataset/anova/anova_at_least_one_phenotype/p_value_0_01/{chromosome}\")"
   ]
  },
  {
   "cell_type": "code",
   "execution_count": 3,
   "metadata": {},
   "outputs": [
    {
     "name": "stdout",
     "output_type": "stream",
     "text": [
      "Cantidad de archivos proceso 2 - exp 1: 5882\n"
     ]
    }
   ],
   "source": [
    "print(f\"Cantidad de archivos proceso 2 - exp 1: {len(anova_fps_exp_2)}\")"
   ]
  },
  {
   "cell_type": "code",
   "execution_count": 4,
   "metadata": {},
   "outputs": [],
   "source": [
    "df_files = {}\n",
    "\n",
    "filenames = []\n",
    "original_length = []\n",
    "clean_length = []\n",
    "anova_length = []\n",
    "\n",
    "for f in original_fps:\n",
    "    data = read_phylip_file(f)\n",
    "    filename = get_filename(f)\n",
    "\n",
    "    filenames.append(filename)\n",
    "    original_length.append(data.get_alignment_length())\n",
    "\n",
    "    clean_path = f\"/home/khaldrem/code/sc_regmod/dataset/clean/{filename}.phylip\"\n",
    "    if os.path.exists(clean_path):\n",
    "        data2 = read_phylip_file(clean_path)\n",
    "        clean_length.append(data2.get_alignment_length())\n",
    "    else:\n",
    "        clean_length.append(-1)\n",
    "\n",
    "    anova_path = f\"/home/khaldrem/code/sc_regmod/dataset/anova/anova_at_least_one_phenotype/p_value_0_01/{chromosome}/{filename}.phylip\"\n",
    "    if os.path.exists(anova_path):\n",
    "        data3 = read_phylip_file(anova_path)\n",
    "        anova_length.append(data3.get_alignment_length())\n",
    "    else:\n",
    "        anova_length.append(-1)\n",
    "\n",
    "\n",
    "df_files[\"filenames\"] = filenames\n",
    "df_files[\"Original\"] = original_length\n",
    "df_files[\"Proceso_1\"] = clean_length\n",
    "df_files[\"Proceso_2\"] = anova_length\n",
    "\n",
    "df_len = pd.DataFrame.from_dict(df_files)"
   ]
  },
  {
   "cell_type": "code",
   "execution_count": 5,
   "metadata": {},
   "outputs": [
    {
     "data": {
      "text/html": [
       "<div>\n",
       "<style scoped>\n",
       "    .dataframe tbody tr th:only-of-type {\n",
       "        vertical-align: middle;\n",
       "    }\n",
       "\n",
       "    .dataframe tbody tr th {\n",
       "        vertical-align: top;\n",
       "    }\n",
       "\n",
       "    .dataframe thead th {\n",
       "        text-align: right;\n",
       "    }\n",
       "</style>\n",
       "<table border=\"1\" class=\"dataframe\">\n",
       "  <thead>\n",
       "    <tr style=\"text-align: right;\">\n",
       "      <th></th>\n",
       "      <th>filenames</th>\n",
       "      <th>Original</th>\n",
       "      <th>Proceso_1</th>\n",
       "      <th>Proceso_2</th>\n",
       "    </tr>\n",
       "  </thead>\n",
       "  <tbody>\n",
       "    <tr>\n",
       "      <th>0</th>\n",
       "      <td>YNR029C</td>\n",
       "      <td>1290</td>\n",
       "      <td>161</td>\n",
       "      <td>2</td>\n",
       "    </tr>\n",
       "    <tr>\n",
       "      <th>1</th>\n",
       "      <td>YOR059C</td>\n",
       "      <td>1353</td>\n",
       "      <td>176</td>\n",
       "      <td>2</td>\n",
       "    </tr>\n",
       "    <tr>\n",
       "      <th>2</th>\n",
       "      <td>YJR062C</td>\n",
       "      <td>1375</td>\n",
       "      <td>194</td>\n",
       "      <td>34</td>\n",
       "    </tr>\n",
       "    <tr>\n",
       "      <th>3</th>\n",
       "      <td>YJL123C</td>\n",
       "      <td>1565</td>\n",
       "      <td>363</td>\n",
       "      <td>37</td>\n",
       "    </tr>\n",
       "    <tr>\n",
       "      <th>4</th>\n",
       "      <td>YJL203W</td>\n",
       "      <td>843</td>\n",
       "      <td>122</td>\n",
       "      <td>15</td>\n",
       "    </tr>\n",
       "  </tbody>\n",
       "</table>\n",
       "</div>"
      ],
      "text/plain": [
       "  filenames  Original  Proceso_1  Proceso_2\n",
       "0   YNR029C      1290        161          2\n",
       "1   YOR059C      1353        176          2\n",
       "2   YJR062C      1375        194         34\n",
       "3   YJL123C      1565        363         37\n",
       "4   YJL203W       843        122         15"
      ]
     },
     "execution_count": 5,
     "metadata": {},
     "output_type": "execute_result"
    }
   ],
   "source": [
    "df_len.head()"
   ]
  },
  {
   "cell_type": "code",
   "execution_count": 6,
   "metadata": {},
   "outputs": [],
   "source": [
    "df_len.loc[df_len['Proceso_2']!= -1, 'percentage'] = 1 - (df_len[\"Proceso_2\"]/df_len[\"Proceso_1\"])"
   ]
  },
  {
   "cell_type": "code",
   "execution_count": 7,
   "metadata": {},
   "outputs": [
    {
     "name": "stdout",
     "output_type": "stream",
     "text": [
      "Cantidad de archivos que presentaron un 50% o mas de: 5881\n"
     ]
    }
   ],
   "source": [
    "print(f\"Cantidad de archivos que presentaron un 50% o mas de: {df_len.loc[(df_len['Proceso_2'] != -1) & (df_len['percentage'] >= 0.5)].shape[0]}\")"
   ]
  },
  {
   "cell_type": "code",
   "execution_count": 8,
   "metadata": {},
   "outputs": [
    {
     "name": "stdout",
     "output_type": "stream",
     "text": [
      "Cantida de archivos que fueron eliminados: 133 (Respecto a la cantidad original)\n"
     ]
    }
   ],
   "source": [
    "print(f\"Cantida de archivos que fueron eliminados: {df_len.loc[(df_len['Proceso_2'] == -1)].shape[0]} (Respecto a la cantidad original)\")"
   ]
  },
  {
   "cell_type": "code",
   "execution_count": 9,
   "metadata": {},
   "outputs": [
    {
     "name": "stdout",
     "output_type": "stream",
     "text": [
      "Nombres: \n",
      "95\n"
     ]
    },
    {
     "data": {
      "text/plain": [
       "['YPR039W',\n",
       " 'YDR210W',\n",
       " 'YDL067C',\n",
       " 'YPL280W',\n",
       " 'YAR068W',\n",
       " 'YHL049C',\n",
       " 'YPL271W',\n",
       " 'YLR167W',\n",
       " 'YCR083W',\n",
       " 'YGL029W',\n",
       " 'YGR226C',\n",
       " 'YLR043C',\n",
       " 'YNL019C',\n",
       " 'YER189W',\n",
       " 'YIL065C',\n",
       " 'YJL009W',\n",
       " 'YCL056C',\n",
       " 'YOL139C',\n",
       " 'YOR302W',\n",
       " 'YOR174W',\n",
       " 'YCR096C',\n",
       " 'YJR012C',\n",
       " 'YHR087W',\n",
       " 'YMR072W',\n",
       " 'YHR054C',\n",
       " 'YLR402W',\n",
       " 'YFL061W',\n",
       " 'YDL158C',\n",
       " 'YGL042C',\n",
       " 'YJR157W',\n",
       " 'YCL012C',\n",
       " 'YLR327C',\n",
       " 'YAR064W',\n",
       " 'YOR045W',\n",
       " 'YDR007W',\n",
       " 'YJR123W',\n",
       " 'YAR066W',\n",
       " 'YKL224C',\n",
       " 'YJR014W',\n",
       " 'YIL029C',\n",
       " 'YNL015W',\n",
       " 'YCR040W',\n",
       " 'YER057C',\n",
       " 'YLR462W',\n",
       " 'YPL281C',\n",
       " 'YGR008C',\n",
       " 'YNL031C',\n",
       " 'YDR008C',\n",
       " 'YBR302C',\n",
       " 'YDL118W',\n",
       " 'YNL335W',\n",
       " 'YJL222W',\n",
       " 'YCR039C',\n",
       " 'YGL041C',\n",
       " 'YPR016C',\n",
       " 'YNL030W',\n",
       " 'YLL066C',\n",
       " 'YDL050C',\n",
       " 'YPL142C',\n",
       " 'YMR175W',\n",
       " 'YOL037C',\n",
       " 'YCL066W',\n",
       " 'YLR463C',\n",
       " 'YNR037C',\n",
       " 'YDL245C',\n",
       " 'YLL064C',\n",
       " 'YDL247W',\n",
       " 'YNR076W',\n",
       " 'YNL079C',\n",
       " 'YFL066C',\n",
       " 'YGL221C',\n",
       " 'YOR020C',\n",
       " 'YFL064C',\n",
       " 'YIL008W',\n",
       " 'YOL040C',\n",
       " 'YNL028W',\n",
       " 'YBL112C',\n",
       " 'YHR147C',\n",
       " 'YLR161W',\n",
       " 'YIL027C',\n",
       " 'YLR162W',\n",
       " 'YGR018C',\n",
       " 'YDL232W',\n",
       " 'YGR020C',\n",
       " 'YLL067C',\n",
       " 'YDR167W',\n",
       " 'YAR047C',\n",
       " 'YOR268C',\n",
       " 'YGR105W',\n",
       " 'YAR069C',\n",
       " 'YDR417C',\n",
       " 'YDL208W',\n",
       " 'YJR159W',\n",
       " 'YFL065C',\n",
       " 'YPR204W']"
      ]
     },
     "execution_count": 9,
     "metadata": {},
     "output_type": "execute_result"
    }
   ],
   "source": [
    "print(\"Nombres: \")\n",
    "print(len(df_len.loc[(df_len['Proceso_2'] == -1) & (df_len['Proceso_1'] != -1)][\"filenames\"].tolist()))\n",
    "df_len.loc[(df_len['Proceso_2'] == -1) & (df_len['Proceso_1'] != -1)][\"filenames\"].tolist()"
   ]
  },
  {
   "cell_type": "code",
   "execution_count": 10,
   "metadata": {},
   "outputs": [
    {
     "name": "stdout",
     "output_type": "stream",
     "text": [
      "Datos proceso 2: \n",
      "mean: 16.84638403990025\n",
      "std: 21.893581457155324\n",
      "var: 479.32890902109546\n",
      "\n"
     ]
    }
   ],
   "source": [
    "print(\"Datos proceso 2: \")\n",
    "print(f\"mean: {df_len['Proceso_2'].mean()}\")\n",
    "print(f\"std: {df_len['Proceso_2'].std()}\")\n",
    "print(f\"var: {df_len['Proceso_2'].var()}\")\n",
    "print()"
   ]
  },
  {
   "cell_type": "code",
   "execution_count": 11,
   "metadata": {},
   "outputs": [
    {
     "data": {
      "text/html": [
       "<div>\n",
       "<style scoped>\n",
       "    .dataframe tbody tr th:only-of-type {\n",
       "        vertical-align: middle;\n",
       "    }\n",
       "\n",
       "    .dataframe tbody tr th {\n",
       "        vertical-align: top;\n",
       "    }\n",
       "\n",
       "    .dataframe thead th {\n",
       "        text-align: right;\n",
       "    }\n",
       "</style>\n",
       "<table border=\"1\" class=\"dataframe\">\n",
       "  <thead>\n",
       "    <tr style=\"text-align: right;\">\n",
       "      <th></th>\n",
       "      <th>Original</th>\n",
       "      <th>Proceso_1</th>\n",
       "      <th>Proceso_2</th>\n",
       "      <th>percentage</th>\n",
       "    </tr>\n",
       "  </thead>\n",
       "  <tbody>\n",
       "    <tr>\n",
       "      <th>count</th>\n",
       "      <td>6015.000000</td>\n",
       "      <td>6015.000000</td>\n",
       "      <td>6015.000000</td>\n",
       "      <td>5882.000000</td>\n",
       "    </tr>\n",
       "    <tr>\n",
       "      <th>mean</th>\n",
       "      <td>1468.670158</td>\n",
       "      <td>220.279468</td>\n",
       "      <td>16.846384</td>\n",
       "      <td>0.922665</td>\n",
       "    </tr>\n",
       "    <tr>\n",
       "      <th>std</th>\n",
       "      <td>1132.129197</td>\n",
       "      <td>264.945442</td>\n",
       "      <td>21.893581</td>\n",
       "      <td>0.041268</td>\n",
       "    </tr>\n",
       "    <tr>\n",
       "      <th>min</th>\n",
       "      <td>78.000000</td>\n",
       "      <td>-1.000000</td>\n",
       "      <td>-1.000000</td>\n",
       "      <td>0.473373</td>\n",
       "    </tr>\n",
       "    <tr>\n",
       "      <th>25%</th>\n",
       "      <td>690.000000</td>\n",
       "      <td>93.000000</td>\n",
       "      <td>6.000000</td>\n",
       "      <td>0.903042</td>\n",
       "    </tr>\n",
       "    <tr>\n",
       "      <th>50%</th>\n",
       "      <td>1182.000000</td>\n",
       "      <td>159.000000</td>\n",
       "      <td>11.000000</td>\n",
       "      <td>0.928571</td>\n",
       "    </tr>\n",
       "    <tr>\n",
       "      <th>75%</th>\n",
       "      <td>1877.000000</td>\n",
       "      <td>270.000000</td>\n",
       "      <td>21.000000</td>\n",
       "      <td>0.949845</td>\n",
       "    </tr>\n",
       "    <tr>\n",
       "      <th>max</th>\n",
       "      <td>14737.000000</td>\n",
       "      <td>6609.000000</td>\n",
       "      <td>457.000000</td>\n",
       "      <td>0.995413</td>\n",
       "    </tr>\n",
       "  </tbody>\n",
       "</table>\n",
       "</div>"
      ],
      "text/plain": [
       "           Original    Proceso_1    Proceso_2   percentage\n",
       "count   6015.000000  6015.000000  6015.000000  5882.000000\n",
       "mean    1468.670158   220.279468    16.846384     0.922665\n",
       "std     1132.129197   264.945442    21.893581     0.041268\n",
       "min       78.000000    -1.000000    -1.000000     0.473373\n",
       "25%      690.000000    93.000000     6.000000     0.903042\n",
       "50%     1182.000000   159.000000    11.000000     0.928571\n",
       "75%     1877.000000   270.000000    21.000000     0.949845\n",
       "max    14737.000000  6609.000000   457.000000     0.995413"
      ]
     },
     "execution_count": 11,
     "metadata": {},
     "output_type": "execute_result"
    }
   ],
   "source": [
    "df_len.describe()"
   ]
  },
  {
   "cell_type": "code",
   "execution_count": 12,
   "metadata": {},
   "outputs": [
    {
     "data": {
      "text/html": [
       "<div>\n",
       "<style scoped>\n",
       "    .dataframe tbody tr th:only-of-type {\n",
       "        vertical-align: middle;\n",
       "    }\n",
       "\n",
       "    .dataframe tbody tr th {\n",
       "        vertical-align: top;\n",
       "    }\n",
       "\n",
       "    .dataframe thead th {\n",
       "        text-align: right;\n",
       "    }\n",
       "</style>\n",
       "<table border=\"1\" class=\"dataframe\">\n",
       "  <thead>\n",
       "    <tr style=\"text-align: right;\">\n",
       "      <th></th>\n",
       "      <th>filenames</th>\n",
       "      <th>Original</th>\n",
       "      <th>Proceso_1</th>\n",
       "      <th>Proceso_2</th>\n",
       "      <th>percentage</th>\n",
       "    </tr>\n",
       "  </thead>\n",
       "  <tbody>\n",
       "    <tr>\n",
       "      <th>0</th>\n",
       "      <td>YNR029C</td>\n",
       "      <td>1290</td>\n",
       "      <td>161</td>\n",
       "      <td>2</td>\n",
       "      <td>0.987578</td>\n",
       "    </tr>\n",
       "    <tr>\n",
       "      <th>1</th>\n",
       "      <td>YOR059C</td>\n",
       "      <td>1353</td>\n",
       "      <td>176</td>\n",
       "      <td>2</td>\n",
       "      <td>0.988636</td>\n",
       "    </tr>\n",
       "    <tr>\n",
       "      <th>2</th>\n",
       "      <td>YJR062C</td>\n",
       "      <td>1375</td>\n",
       "      <td>194</td>\n",
       "      <td>34</td>\n",
       "      <td>0.824742</td>\n",
       "    </tr>\n",
       "    <tr>\n",
       "      <th>3</th>\n",
       "      <td>YJL123C</td>\n",
       "      <td>1565</td>\n",
       "      <td>363</td>\n",
       "      <td>37</td>\n",
       "      <td>0.898072</td>\n",
       "    </tr>\n",
       "    <tr>\n",
       "      <th>4</th>\n",
       "      <td>YJL203W</td>\n",
       "      <td>843</td>\n",
       "      <td>122</td>\n",
       "      <td>15</td>\n",
       "      <td>0.877049</td>\n",
       "    </tr>\n",
       "  </tbody>\n",
       "</table>\n",
       "</div>"
      ],
      "text/plain": [
       "  filenames  Original  Proceso_1  Proceso_2  percentage\n",
       "0   YNR029C      1290        161          2    0.987578\n",
       "1   YOR059C      1353        176          2    0.988636\n",
       "2   YJR062C      1375        194         34    0.824742\n",
       "3   YJL123C      1565        363         37    0.898072\n",
       "4   YJL203W       843        122         15    0.877049"
      ]
     },
     "execution_count": 12,
     "metadata": {},
     "output_type": "execute_result"
    }
   ],
   "source": [
    "df_len.head()"
   ]
  },
  {
   "cell_type": "code",
   "execution_count": 16,
   "metadata": {},
   "outputs": [
    {
     "data": {
      "text/plain": [
       "Text(0, 0.5, 'Largo de la secuencia')"
      ]
     },
     "execution_count": 16,
     "metadata": {},
     "output_type": "execute_result"
    },
    {
     "data": {
      "image/png": "[encoded data removed]",
      "text/plain": [
       "<Figure size 720x720 with 1 Axes>"
      ]
     },
     "metadata": {
      "needs_background": "light"
     },
     "output_type": "display_data"
    }
   ],
   "source": [
    "NRO_EXP = 2\n",
    "proc2 = df_len.loc[df_len[\"Proceso_2\"] != -1]\n",
    "\n",
    "plt.rc('xtick', labelsize=20) \n",
    "plt.rc('ytick', labelsize=20)\n",
    "fig, ax = plt.subplots(figsize=(10, 10))\n",
    "ax.boxplot(proc2[\"Proceso_2\"])\n",
    "ax.set_title(f'Experimento Nro. {NRO_EXP}', fontsize=20)\n",
    "\n",
    "plt.xticks([1], ['Proceso 2'])\n",
    "plt.ylabel(\"Largo de la secuencia\", fontsize=20)"
   ]
  },
  {
   "cell_type": "code",
   "execution_count": null,
   "metadata": {},
   "outputs": [],
   "source": []
  }
 ],
 "metadata": {
  "kernelspec": {
   "display_name": "Python 3.10.4 ('.env': venv)",
   "language": "python",
   "name": "python3"
  },
  "language_info": {
   "codemirror_mode": {
    "name": "ipython",
    "version": 3
   },
   "file_extension": ".py",
   "mimetype": "text/x-python",
   "name": "python",
   "nbconvert_exporter": "python",
   "pygments_lexer": "ipython3",
   "version": "3.10.4"
  },
  "orig_nbformat": 4,
  "vscode": {
   "interpreter": {
    "hash": "0c553806f052202d33c4aa0bba9e6ab658aab5d30cc44140daa08f372e9629d7"
   }
  }
 },
 "nbformat": 4,
 "nbformat_minor": 2
}
