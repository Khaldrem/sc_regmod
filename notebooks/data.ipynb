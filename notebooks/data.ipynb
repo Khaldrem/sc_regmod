{
 "cells": [
  {
   "cell_type": "code",
   "execution_count": 1,
   "metadata": {},
   "outputs": [],
   "source": [
    "import os, sys\n",
    "path_to_package = os.path.abspath(os.path.join('../'))\n",
    "if path_to_package not in sys.path:\n",
    "    sys.path.append(path_to_package)\n",
    "\n",
    "\n",
    "from src.io import get_filepaths, read_phylip_file\n",
    "from src.models import data_preparation\n",
    "from src.utils import get_filename\n",
    "\n",
    "import matplotlib.pyplot as plt\n",
    "import numpy as np\n",
    "import pandas as pd\n",
    "import scipy as sp\n",
    "import seaborn as sns"
   ]
  },
  {
   "cell_type": "code",
   "execution_count": 2,
   "metadata": {},
   "outputs": [],
   "source": [
    "ORIGINAL_DATA_PATH = \"/home/khaldrem/code/sc_regmod/dataset/original\""
   ]
  },
  {
   "cell_type": "code",
   "execution_count": 25,
   "metadata": {},
   "outputs": [],
   "source": [
    "filepaths = get_filepaths(ORIGINAL_DATA_PATH)"
   ]
  },
  {
   "cell_type": "code",
   "execution_count": null,
   "metadata": {},
   "outputs": [],
   "source": [
    "# Detectar si el archivo presenta simbolo -\n",
    "\n",
    "def detect_symbol(data, symbol):\n",
    "    for row in range(len(data)):\n",
    "        if(symbol in data[row, :].seq):\n",
    "            return True\n",
    "    \n",
    "    return False\n",
    "\n",
    "count_symbol = 0\n",
    "for fp in filepaths:\n",
    "    data = read_phylip_file(fp)\n",
    "    if detect_symbol(data, \"-\"):\n",
    "        count_symbol += 1"
   ]
  },
  {
   "cell_type": "code",
   "execution_count": 26,
   "metadata": {},
   "outputs": [
    {
     "name": "stdout",
     "output_type": "stream",
     "text": [
      "{'a': 2847459970, 't': 2429202202, 'g': 1794394936, 'c': 1667812477, 'r': 2638378, 'y': 2707368, 's': 380937, 'w': 463077, 'm': 433836, 'k': 356213, '-': 185376167}\n"
     ]
    }
   ],
   "source": [
    "# base freq for all filesas_integer_ratio\n",
    "            if special:\n",
    "            \n",
    "            else:\n",
    "                if(min > data.get_alignment_length())\n",
    "                \n",
    "        else:\n",
    "            #All files\n",
    "\n",
    "all_bases = {}\n",
    "# filepaths = filepaths[:1]\n",
    "for fp in filepaths:\n",
    "    data = read_phylip_file(fp)\n",
    "    bases = {}\n",
    "    for row in range(len(data)):\n",
    "        unique_bases_row = set(data[row, :].seq)\n",
    "        for key in unique_bases_row:\n",
    "            if key not in bases.keys():\n",
    "                bases[key] = 0\n",
    "            \n",
    "            freq = str(data[row, :].seq).count(key)\n",
    "            bases[key] += freq\n",
    "    \n",
    "    for key in bases:\n",
    "        if key not in all_bases.keys():\n",
    "            all_bases[key] = 0\n",
    "        \n",
    "        all_bases[key] += bases[key]\n",
    "\n",
    "    # print(f\"file: {get_filename(fp)} -> max_data: {data.get_alignment_length() * 1011}\")\n",
    "\n",
    "print(all_bases)\n",
    "\n"
   ]
  },
  {
   "cell_type": "code",
   "execution_count": 33,
   "metadata": {},
   "outputs": [
    {
     "name": "stdout",
     "output_type": "stream",
     "text": [
      "key: a -> 0.31882\n",
      "key: t -> 0.27199\n",
      "key: g -> 0.20091\n",
      "key: c -> 0.18674\n",
      "key: r -> 0.0003\n",
      "key: y -> 0.0003\n",
      "key: s -> 4e-05\n",
      "key: w -> 5e-05\n",
      "key: m -> 5e-05\n",
      "key: k -> 4e-05\n",
      "key: - -> 0.02076\n"
     ]
    }
   ],
   "source": [
    "total = 0\n",
    "for key in all_bases:\n",
    "    total += all_bases[key]\n",
    "\n",
    "for key in all_bases:\n",
    "    print(f\"key: {key} -> {round(all_bases[key]/total,5)}\")"
   ]
  },
  {
   "cell_type": "code",
   "execution_count": 28,
   "metadata": {},
   "outputs": [
    {
     "name": "stdout",
     "output_type": "stream",
     "text": [
      "8931225561\n"
     ]
    }
   ],
   "source": [
    "print(total)"
   ]
  },
  {
   "cell_type": "markdown",
   "metadata": {},
   "source": [
    "{\n",
    "    'a': 2847459970, \n",
    "    't': 2429202202, \n",
    "    'g': 1794394936, \n",
    "    'c': 1667812477, \n",
    "    'r': 2638378, \n",
    "    'y': 2707368, \n",
    "    's': 380937, \n",
    "    'w': 463077, \n",
    "    'm': 433836, \n",
    "    'k': 356213, \n",
    "    '-': 185376167\n",
    "}"
   ]
  },
  {
   "cell_type": "code",
   "execution_count": 2,
   "metadata": {},
   "outputs": [],
   "source": [
    "# Chequear cuantos archivos fueron removidos en el proceso 1\n",
    "\n",
    "original_fps = get_filepaths('/home/khaldrem/code/sc_regmod/dataset/original')\n",
    "clean_fps = get_filepaths('/home/khaldrem/code/sc_regmod/dataset/clean')"
   ]
  },
  {
   "cell_type": "code",
   "execution_count": 3,
   "metadata": {},
   "outputs": [
    {
     "name": "stdout",
     "output_type": "stream",
     "text": [
      "Cantidad de archivos original: 6015\n",
      "Cantidad de archivos clean   : 5977\n",
      "38\n"
     ]
    }
   ],
   "source": [
    "print(f\"Cantidad de archivos original: {len(original_fps)}\")\n",
    "print(f\"Cantidad de archivos clean   : {len(clean_fps)}\")\n",
    "print(len(original_fps)- len(clean_fps))"
   ]
  },
  {
   "cell_type": "code",
   "execution_count": 4,
   "metadata": {},
   "outputs": [
    {
     "name": "stdout",
     "output_type": "stream",
     "text": [
      "6015\n",
      "6015\n"
     ]
    }
   ],
   "source": [
    "df_files = {}\n",
    "\n",
    "filenames = []\n",
    "original_length = []\n",
    "clean_length = []\n",
    "\n",
    "for f in original_fps:\n",
    "    data = read_phylip_file(f)\n",
    "    filename = get_filename(f)\n",
    "\n",
    "    filenames.append(filename)\n",
    "    original_length.append(data.get_alignment_length())\n",
    "\n",
    "    clean_path = f\"/home/khaldrem/code/sc_regmod/dataset/clean/{filename}.phylip\"\n",
    "    if os.path.exists(clean_path):\n",
    "        data2 = read_phylip_file(clean_path)\n",
    "        clean_length.append(data2.get_alignment_length())\n",
    "    else:\n",
    "        clean_length.append(-1)\n",
    "\n",
    "\n",
    "df_files[\"filenames\"] = filenames\n",
    "df_files[\"Original\"] = original_length\n",
    "df_files[\"Proceso_1\"] = clean_length\n",
    "\n",
    "\n",
    "print(len(original_length))\n",
    "print(len(clean_length))\n",
    "\n",
    "df_len = pd.DataFrame.from_dict(df_files)"
   ]
  },
  {
   "cell_type": "code",
   "execution_count": 5,
   "metadata": {},
   "outputs": [],
   "source": [
    "df_len.loc[df_len['Proceso_1']!= -1, 'percentage'] = 1 - (df_len[\"Proceso_1\"]/df_len[\"Original\"])"
   ]
  },
  {
   "cell_type": "code",
   "execution_count": 9,
   "metadata": {},
   "outputs": [],
   "source": [
    "sorted_df = df_len.sort_values(by=\"percentage\", ascending=False)\n",
    "sorted_df['index'] = range(1, len(sorted_df) + 1)\n",
    "sorted_df.head(25).to_csv(\"archivos_mas_cambiaron.csv\")"
   ]
  },
  {
   "cell_type": "code",
   "execution_count": 11,
   "metadata": {},
   "outputs": [
    {
     "name": "stdout",
     "output_type": "stream",
     "text": [
      "mean: 1468.6701579384871\n",
      "std: 1132.1291967159752\n",
      "var: 1281716.5180567594\n",
      "\n",
      "mean: 220.27946799667498\n",
      "std: 264.94544155237764\n",
      "var: 70196.08699938437\n"
     ]
    },
    {
     "data": {
      "text/html": [
       "<div>\n",
       "<style scoped>\n",
       "    .dataframe tbody tr th:only-of-type {\n",
       "        vertical-align: middle;\n",
       "    }\n",
       "\n",
       "    .dataframe tbody tr th {\n",
       "        vertical-align: top;\n",
       "    }\n",
       "\n",
       "    .dataframe thead th {\n",
       "        text-align: right;\n",
       "    }\n",
       "</style>\n",
       "<table border=\"1\" class=\"dataframe\">\n",
       "  <thead>\n",
       "    <tr style=\"text-align: right;\">\n",
       "      <th></th>\n",
       "      <th>filenames</th>\n",
       "      <th>Original</th>\n",
       "      <th>Proceso_1</th>\n",
       "    </tr>\n",
       "  </thead>\n",
       "  <tbody>\n",
       "    <tr>\n",
       "      <th>0</th>\n",
       "      <td>YNR029C</td>\n",
       "      <td>1290</td>\n",
       "      <td>161</td>\n",
       "    </tr>\n",
       "    <tr>\n",
       "      <th>1</th>\n",
       "      <td>YOR059C</td>\n",
       "      <td>1353</td>\n",
       "      <td>176</td>\n",
       "    </tr>\n",
       "    <tr>\n",
       "      <th>2</th>\n",
       "      <td>YJR062C</td>\n",
       "      <td>1375</td>\n",
       "      <td>194</td>\n",
       "    </tr>\n",
       "    <tr>\n",
       "      <th>3</th>\n",
       "      <td>YJL123C</td>\n",
       "      <td>1565</td>\n",
       "      <td>363</td>\n",
       "    </tr>\n",
       "    <tr>\n",
       "      <th>4</th>\n",
       "      <td>YJL203W</td>\n",
       "      <td>843</td>\n",
       "      <td>122</td>\n",
       "    </tr>\n",
       "  </tbody>\n",
       "</table>\n",
       "</div>"
      ],
      "text/plain": [
       "  filenames  Original  Proceso_1\n",
       "0   YNR029C      1290        161\n",
       "1   YOR059C      1353        176\n",
       "2   YJR062C      1375        194\n",
       "3   YJL123C      1565        363\n",
       "4   YJL203W       843        122"
      ]
     },
     "execution_count": 11,
     "metadata": {},
     "output_type": "execute_result"
    }
   ],
   "source": [
    "import matplotlib\n",
    "\n",
    "print(f\"mean: {df_len['Original'].mean()}\")\n",
    "print(f\"std: {df_len['Original'].std()}\")\n",
    "print(f\"var: {df_len['Original'].var()}\")\n",
    "print()\n",
    "print(f\"mean: {df_len['Proceso_1'].mean()}\")\n",
    "print(f\"std: {df_len['Proceso_1'].std()}\")\n",
    "print(f\"var: {df_len['Proceso_1'].var()}\")\n",
    "\n",
    "\n",
    "\n",
    "df_len.head()\n"
   ]
  },
  {
   "cell_type": "code",
   "execution_count": 15,
   "metadata": {},
   "outputs": [
    {
     "data": {
      "text/plain": [
       "Text(0, 0.5, 'Largo de las secuencias')"
      ]
     },
     "execution_count": 15,
     "metadata": {},
     "output_type": "execute_result"
    },
    {
     "data": {
      "image/png": "[encoded data removed]",
      "text/plain": [
       "<Figure size 864x648 with 1 Axes>"
      ]
     },
     "metadata": {},
     "output_type": "display_data"
    }
   ],
   "source": [
    "#Original\n",
    "sns.set(rc={'figure.figsize':(12,9)})\n",
    "\n",
    "pt = df_len[[\"Original\"]]\n",
    "b = sns.boxplot(data=pt)\n",
    "# patches = [matplotlib.patches.Patch(color=sns.color_palette()[i], label=t) for i,t in enumerate(t.get_text() for t in b.get_xticklabels())]\n",
    "# plt.legend(handles=patches, loc=\"upper left\") \n",
    "\n",
    "plt.xlabel(\"Conjunto de datos\")\n",
    "plt.ylabel(\"Largo de las secuencias\")"
   ]
  },
  {
   "cell_type": "code",
   "execution_count": 24,
   "metadata": {},
   "outputs": [
    {
     "data": {
      "text/plain": [
       "Text(0, 0.5, 'Largo de las secuencias')"
      ]
     },
     "execution_count": 24,
     "metadata": {},
     "output_type": "execute_result"
    },
    {
     "data": {
      "image/png": "[encoded data removed]",
      "text/plain": [
       "<Figure size 864x648 with 1 Axes>"
      ]
     },
     "metadata": {},
     "output_type": "display_data"
    }
   ],
   "source": [
    "#Original\n",
    "sns.set(rc={'figure.figsize':(12,9)})\n",
    "\n",
    "\n",
    "pt = df_len[df_len[\"Proceso_1\"] != -1]\n",
    "pt = pt[[\"Proceso_1\"]]\n",
    "b = sns.boxplot(data=pt, color=\"red\")\n",
    "# patches = [matplotlib.patches.Patch(color=sns.color_palette()[i], label=t) for i,t in enumerate(t.get_text() for t in b.get_xticklabels())]\n",
    "# plt.legend(handles=patches, loc=\"upper left\") \n",
    "\n",
    "plt.xlabel(\"Conjunto de datos\")\n",
    "plt.ylabel(\"Largo de las secuencias\")"
   ]
  },
  {
   "cell_type": "code",
   "execution_count": 25,
   "metadata": {},
   "outputs": [],
   "source": [
    "#ARCHIVOS ANOVA EXP_2\n",
    "\n",
    "anova_fps = get_filepaths(\"/home/khaldrem/code/sc_regmod/dataset/anova/anova_at_least_one_phenotype/p_value_0_01/haploide-euploide\")"
   ]
  },
  {
   "cell_type": "code",
   "execution_count": 32,
   "metadata": {},
   "outputs": [
    {
     "name": "stdout",
     "output_type": "stream",
     "text": [
      "proceso 2\n",
      "mean: 17.249914994899694\n",
      "std: 21.970919177862033\n",
      "var: 482.7212895201457\n"
     ]
    }
   ],
   "source": [
    "anova_data_len = []\n",
    "for f in anova_fps:\n",
    "    data = read_phylip_file(f)\n",
    "    anova_data_len.append(data.get_alignment_length())\n",
    "\n",
    "\n",
    "anova_dict = {\n",
    "    \"Anova\": anova_data_len\n",
    "}\n",
    "\n",
    "print(\"proceso 2\")\n",
    "print(f\"mean: {np.mean(anova_data_len)}\")\n",
    "print(f\"std: {np.std(anova_data_len)}\")\n",
    "print(f\"var: {np.var(anova_data_len)}\")"
   ]
  },
  {
   "cell_type": "code",
   "execution_count": 34,
   "metadata": {},
   "outputs": [
    {
     "data": {
      "text/plain": [
       "Text(0, 0.5, 'Largo de las secuencias')"
      ]
     },
     "execution_count": 34,
     "metadata": {},
     "output_type": "execute_result"
    },
    {
     "data": {
      "image/png": "[encoded data removed]",
      "text/plain": [
       "<Figure size 864x648 with 1 Axes>"
      ]
     },
     "metadata": {},
     "output_type": "display_data"
    }
   ],
   "source": [
    "#ANOVA at_least_one p-value: 0.01\n",
    "sns.set(rc={'figure.figsize':(12,9)})\n",
    "\n",
    "b = sns.boxplot(data=anova_dict[\"Anova\"], color=\"green\")\n",
    "# patches = [matplotlib.patches.Patch(color=sns.color_palette()[i], label=t) for i,t in enumerate(t.get_text() for t in b.get_xticklabels())]\n",
    "# plt.legend(handles=patches, loc=\"upper left\") \n",
    "\n",
    "plt.xlabel(\"Conjunto de datos\")\n",
    "plt.ylabel(\"Largo de las secuencias\")"
   ]
  },
  {
   "cell_type": "code",
   "execution_count": null,
   "metadata": {},
   "outputs": [],
   "source": []
  }
 ],
 "metadata": {
  "kernelspec": {
   "display_name": "Python 3.10.4 ('.env': venv)",
   "language": "python",
   "name": "python3"
  },
  "language_info": {
   "codemirror_mode": {
    "name": "ipython",
    "version": 3
   },
   "file_extension": ".py",
   "mimetype": "text/x-python",
   "name": "python",
   "nbconvert_exporter": "python",
   "pygments_lexer": "ipython3",
   "version": "3.10.4"
  },
  "orig_nbformat": 4,
  "vscode": {
   "interpreter": {
    "hash": "0c553806f052202d33c4aa0bba9e6ab658aab5d30cc44140daa08f372e9629d7"
   }
  }
 },
 "nbformat": 4,
 "nbformat_minor": 2
}
