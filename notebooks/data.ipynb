{
 "cells": [
  {
   "cell_type": "code",
   "execution_count": 1,
   "metadata": {},
   "outputs": [],
   "source": [
    "import os, sys\n",
    "path_to_package = os.path.abspath(os.path.join('../'))\n",
    "if path_to_package not in sys.path:\n",
    "    sys.path.append(path_to_package)\n",
    "\n",
    "\n",
    "from src.io import get_filepaths, read_phylip_file\n",
    "from src.models import data_preparation\n",
    "from src.utils import get_filename\n",
    "\n",
    "import matplotlib.pyplot as plt\n",
    "import numpy as np\n",
    "import pandas as pd\n",
    "import scipy as sp\n",
    "import seaborn as sns"
   ]
  },
  {
   "cell_type": "code",
   "execution_count": 2,
   "metadata": {},
   "outputs": [],
   "source": [
    "ORIGINAL_DATA_PATH = \"/home/khaldrem/code/sc_regmod/dataset/original\""
   ]
  },
  {
   "cell_type": "code",
   "execution_count": 3,
   "metadata": {},
   "outputs": [],
   "source": [
    "filepaths = get_filepaths(ORIGINAL_DATA_PATH)"
   ]
  },
  {
   "cell_type": "code",
   "execution_count": null,
   "metadata": {},
   "outputs": [],
   "source": [
    "# Detectar si el archivo presenta simbolo -\n",
    "\n",
    "def detect_symbol(data, symbol):\n",
    "    for row in range(len(data)):\n",
    "        if(symbol in data[row, :].seq):\n",
    "            return True\n",
    "    \n",
    "    return False\n",
    "\n",
    "count_symbol = 0\n",
    "for fp in filepaths:\n",
    "    data = read_phylip_file(fp)\n",
    "    if detect_symbol(data, \"-\"):\n",
    "        count_symbol += 1"
   ]
  },
  {
   "cell_type": "code",
   "execution_count": null,
   "metadata": {},
   "outputs": [],
   "source": [
    "# base freq for all filesas_integer_ratio\n",
    "            if special:\n",
    "            \n",
    "            else:\n",
    "                if(min > data.get_alignment_length())\n",
    "                \n",
    "        else:\n",
    "            #All files\n",
    "\n",
    "all_bases = {}\n",
    "# filepaths = filepaths[:1]\n",
    "for fp in filepaths:\n",
    "    data = read_phylip_file(fp)\n",
    "    bases = {}\n",
    "    for row in range(len(data)):\n",
    "        unique_bases_row = set(data[row, :].seq)\n",
    "        for key in unique_bases_row:\n",
    "            if key not in bases.keys():\n",
    "                bases[key] = 0\n",
    "            \n",
    "            freq = str(data[row, :].seq).count(key)\n",
    "            bases[key] += freq\n",
    "    \n",
    "    for key in bases:\n",
    "        if key not in all_bases.keys():\n",
    "            all_bases[key] = 0\n",
    "        \n",
    "        all_bases[key] += bases[key]\n",
    "\n",
    "    # print(f\"file: {get_filename(fp)} -> max_data: {data.get_alignment_length() * 1011}\")\n",
    "\n",
    "print(all_bases)\n",
    "\n"
   ]
  },
  {
   "cell_type": "code",
   "execution_count": null,
   "metadata": {},
   "outputs": [],
   "source": [
    "total = 0\n",
    "for key in all_bases:\n",
    "    total += all_bases[key]\n",
    "\n",
    "for key in all_bases:\n",
    "    print(f\"key: {key} -> {round(all_bases[key]/total,5)}\")"
   ]
  },
  {
   "cell_type": "code",
   "execution_count": null,
   "metadata": {},
   "outputs": [],
   "source": [
    "print(total)"
   ]
  },
  {
   "cell_type": "markdown",
   "metadata": {},
   "source": [
    "{\n",
    "    'a': 2847459970, \n",
    "    't': 2429202202, \n",
    "    'g': 1794394936, \n",
    "    'c': 1667812477, \n",
    "    'r': 2638378, \n",
    "    'y': 2707368, \n",
    "    's': 380937, \n",
    "    'w': 463077, \n",
    "    'm': 433836, \n",
    "    'k': 356213, \n",
    "    '-': 185376167\n",
    "}"
   ]
  },
  {
   "cell_type": "code",
   "execution_count": 4,
   "metadata": {},
   "outputs": [],
   "source": [
    "# Chequear cuantos archivos fueron removidos en el proceso 1\n",
    "\n",
    "original_fps = get_filepaths('/home/khaldrem/code/sc_regmod/dataset/original')\n",
    "clean_fps = get_filepaths('/home/khaldrem/code/sc_regmod/dataset/clean')"
   ]
  },
  {
   "cell_type": "code",
   "execution_count": 5,
   "metadata": {},
   "outputs": [
    {
     "name": "stdout",
     "output_type": "stream",
     "text": [
      "Cantidad de archivos original: 6015\n",
      "Cantidad de archivos clean   : 5977\n",
      "38\n"
     ]
    }
   ],
   "source": [
    "print(f\"Cantidad de archivos original: {len(original_fps)}\")\n",
    "print(f\"Cantidad de archivos clean   : {len(clean_fps)}\")\n",
    "print(len(original_fps)- len(clean_fps))"
   ]
  },
  {
   "cell_type": "code",
   "execution_count": 6,
   "metadata": {},
   "outputs": [
    {
     "ename": "KeyboardInterrupt",
     "evalue": "",
     "output_type": "error",
     "traceback": [
      "\u001b[0;31m---------------------------------------------------------------------------\u001b[0m",
      "\u001b[0;31mKeyboardInterrupt\u001b[0m                         Traceback (most recent call last)",
      "\u001b[1;32m/home/khaldrem/code/sc_regmod/notebooks/data.ipynb Cell 11\u001b[0m in \u001b[0;36m<cell line: 7>\u001b[0;34m()\u001b[0m\n\u001b[1;32m      <a href='vscode-notebook-cell:/home/khaldrem/code/sc_regmod/notebooks/data.ipynb#ch0000010?line=4'>5</a>\u001b[0m clean_length \u001b[39m=\u001b[39m []\n\u001b[1;32m      <a href='vscode-notebook-cell:/home/khaldrem/code/sc_regmod/notebooks/data.ipynb#ch0000010?line=6'>7</a>\u001b[0m \u001b[39mfor\u001b[39;00m f \u001b[39min\u001b[39;00m original_fps:\n\u001b[0;32m----> <a href='vscode-notebook-cell:/home/khaldrem/code/sc_regmod/notebooks/data.ipynb#ch0000010?line=7'>8</a>\u001b[0m     data \u001b[39m=\u001b[39m read_phylip_file(f)\n\u001b[1;32m      <a href='vscode-notebook-cell:/home/khaldrem/code/sc_regmod/notebooks/data.ipynb#ch0000010?line=8'>9</a>\u001b[0m     filename \u001b[39m=\u001b[39m get_filename(f)\n\u001b[1;32m     <a href='vscode-notebook-cell:/home/khaldrem/code/sc_regmod/notebooks/data.ipynb#ch0000010?line=10'>11</a>\u001b[0m     filenames\u001b[39m.\u001b[39mappend(filename)\n",
      "File \u001b[0;32m~/code/sc_regmod/src/io.py:26\u001b[0m, in \u001b[0;36mread_phylip_file\u001b[0;34m(filepath)\u001b[0m\n\u001b[1;32m     23\u001b[0m     \u001b[39mprint\u001b[39m(\u001b[39m\"\u001b[39m\u001b[39mArg \u001b[39m\u001b[39m'\u001b[39m\u001b[39mfilepath\u001b[39m\u001b[39m'\u001b[39m\u001b[39m is empty.\u001b[39m\u001b[39m\"\u001b[39m)\n\u001b[1;32m     24\u001b[0m     \u001b[39mreturn\u001b[39;00m []\n\u001b[0;32m---> 26\u001b[0m \u001b[39mreturn\u001b[39;00m AlignIO\u001b[39m.\u001b[39;49mread(filepath, \u001b[39m\"\u001b[39;49m\u001b[39mphylip-relaxed\u001b[39;49m\u001b[39m\"\u001b[39;49m)\n",
      "File \u001b[0;32m~/code/sc_regmod/.env/lib/python3.10/site-packages/Bio/AlignIO/__init__.py:386\u001b[0m, in \u001b[0;36mread\u001b[0;34m(handle, format, seq_count)\u001b[0m\n\u001b[1;32m    384\u001b[0m iterator \u001b[39m=\u001b[39m parse(handle, \u001b[39mformat\u001b[39m, seq_count)\n\u001b[1;32m    385\u001b[0m \u001b[39mtry\u001b[39;00m:\n\u001b[0;32m--> 386\u001b[0m     alignment \u001b[39m=\u001b[39m \u001b[39mnext\u001b[39;49m(iterator)\n\u001b[1;32m    387\u001b[0m \u001b[39mexcept\u001b[39;00m \u001b[39mStopIteration\u001b[39;00m:\n\u001b[1;32m    388\u001b[0m     \u001b[39mraise\u001b[39;00m \u001b[39mValueError\u001b[39;00m(\u001b[39m\"\u001b[39m\u001b[39mNo records found in handle\u001b[39m\u001b[39m\"\u001b[39m) \u001b[39mfrom\u001b[39;00m \u001b[39mNone\u001b[39m\n",
      "File \u001b[0;32m~/code/sc_regmod/.env/lib/python3.10/site-packages/Bio/AlignIO/__init__.py:337\u001b[0m, in \u001b[0;36mparse\u001b[0;34m(handle, format, seq_count)\u001b[0m\n\u001b[1;32m    334\u001b[0m \u001b[39melse\u001b[39;00m:\n\u001b[1;32m    335\u001b[0m     \u001b[39mraise\u001b[39;00m \u001b[39mValueError\u001b[39;00m(\u001b[39m\"\u001b[39m\u001b[39mUnknown format \u001b[39m\u001b[39m'\u001b[39m\u001b[39m%s\u001b[39;00m\u001b[39m'\u001b[39m\u001b[39m\"\u001b[39m \u001b[39m%\u001b[39m \u001b[39mformat\u001b[39m)\n\u001b[0;32m--> 337\u001b[0m \u001b[39myield from\u001b[39;00m i\n",
      "File \u001b[0;32m~/code/sc_regmod/.env/lib/python3.10/site-packages/Bio/AlignIO/PhylipIO.py:227\u001b[0m, in \u001b[0;36mPhylipIterator.__next__\u001b[0;34m(self)\u001b[0m\n\u001b[1;32m    224\u001b[0m \u001b[39m# By default, expects STRICT truncation / padding to 10 characters.\u001b[39;00m\n\u001b[1;32m    225\u001b[0m \u001b[39m# Does not require any whitespace between name and seq.\u001b[39;00m\n\u001b[1;32m    226\u001b[0m \u001b[39mfor\u001b[39;00m i \u001b[39min\u001b[39;00m \u001b[39mrange\u001b[39m(number_of_seqs):\n\u001b[0;32m--> 227\u001b[0m     line \u001b[39m=\u001b[39m handle\u001b[39m.\u001b[39;49mreadline()\u001b[39m.\u001b[39mrstrip()\n\u001b[1;32m    228\u001b[0m     sequence_id, s \u001b[39m=\u001b[39m \u001b[39mself\u001b[39m\u001b[39m.\u001b[39m_split_id(line)\n\u001b[1;32m    229\u001b[0m     ids\u001b[39m.\u001b[39mappend(sequence_id)\n",
      "\u001b[0;31mKeyboardInterrupt\u001b[0m: "
     ]
    }
   ],
   "source": [
    "df_files = {}\n",
    "\n",
    "filenames = []\n",
    "original_length = []\n",
    "clean_length = []\n",
    "\n",
    "for f in original_fps:\n",
    "    data = read_phylip_file(f)\n",
    "    filename = get_filename(f)\n",
    "\n",
    "    filenames.append(filename)\n",
    "    original_length.append(data.get_alignment_length())\n",
    "\n",
    "    clean_path = f\"/home/khaldrem/code/sc_regmod/dataset/clean/{filename}.phylip\"\n",
    "    if os.path.exists(clean_path):\n",
    "        data2 = read_phylip_file(clean_path)\n",
    "        clean_length.append(data2.get_alignment_length())\n",
    "    else:\n",
    "        clean_length.append(-1)\n",
    "\n",
    "\n",
    "df_files[\"filenames\"] = filenames\n",
    "df_files[\"Original\"] = original_length\n",
    "df_files[\"Proceso_1\"] = clean_length\n",
    "\n",
    "\n",
    "print(len(original_length))\n",
    "print(len(clean_length))\n",
    "\n",
    "df_len = pd.DataFrame.from_dict(df_files)"
   ]
  },
  {
   "cell_type": "code",
   "execution_count": null,
   "metadata": {},
   "outputs": [],
   "source": [
    "df_len.loc[df_len['Proceso_1']!= -1, 'percentage'] = 1 - (df_len[\"Proceso_1\"]/df_len[\"Original\"])"
   ]
  },
  {
   "cell_type": "code",
   "execution_count": null,
   "metadata": {},
   "outputs": [],
   "source": [
    "sorted_df = df_len.sort_values(by=\"percentage\", ascending=False)\n",
    "sorted_df['index'] = range(1, len(sorted_df) + 1)\n",
    "sorted_df.head(25).to_csv(\"archivos_mas_cambiaron.csv\")"
   ]
  },
  {
   "cell_type": "code",
   "execution_count": null,
   "metadata": {},
   "outputs": [],
   "source": [
    "import matplotlib\n",
    "\n",
    "print(f\"mean: {df_len['Original'].mean()}\")\n",
    "print(f\"std: {df_len['Original'].std()}\")\n",
    "print(f\"var: {df_len['Original'].var()}\")\n",
    "print()\n",
    "print(f\"mean: {df_len['Proceso_1'].mean()}\")\n",
    "print(f\"std: {df_len['Proceso_1'].std()}\")\n",
    "print(f\"var: {df_len['Proceso_1'].var()}\")\n",
    "\n",
    "\n",
    "\n",
    "df_len.head()\n"
   ]
  },
  {
   "cell_type": "code",
   "execution_count": null,
   "metadata": {},
   "outputs": [],
   "source": [
    "#Original\n",
    "sns.set(rc={'figure.figsize':(12,9)})\n",
    "\n",
    "pt = df_len[[\"Original\"]]\n",
    "b = sns.boxplot(data=pt)\n",
    "# patches = [matplotlib.patches.Patch(color=sns.color_palette()[i], label=t) for i,t in enumerate(t.get_text() for t in b.get_xticklabels())]\n",
    "# plt.legend(handles=patches, loc=\"upper left\") \n",
    "\n",
    "plt.xlabel(\"Conjunto de datos\")\n",
    "plt.ylabel(\"Largo de las secuencias\")\n",
    "\n",
    "\n",
    "\n"
   ]
  },
  {
   "cell_type": "code",
   "execution_count": null,
   "metadata": {},
   "outputs": [],
   "source": [
    "#Original\n",
    "sns.set(rc={'figure.figsize':(12,9)})\n",
    "\n",
    "\n",
    "pt = df_len[df_len[\"Proceso_1\"] != -1]\n",
    "pt = pt[[\"Proceso_1\"]]\n",
    "b = sns.boxplot(data=pt, color=\"red\")\n",
    "# patches = [matplotlib.patches.Patch(color=sns.color_palette()[i], label=t) for i,t in enumerate(t.get_text() for t in b.get_xticklabels())]\n",
    "# plt.legend(handles=patches, loc=\"upper left\") \n",
    "\n",
    "plt.xlabel(\"Conjunto de datos\")\n",
    "plt.ylabel(\"Largo de las secuencias\")"
   ]
  },
  {
   "cell_type": "code",
   "execution_count": null,
   "metadata": {},
   "outputs": [],
   "source": [
    "#ARCHIVOS ANOVA EXP_2\n",
    "\n",
    "anova_fps = get_filepaths(\"/home/khaldrem/code/sc_regmod/dataset/anova/anova_at_least_one_phenotype/p_value_0_01/haploide-euploide\")"
   ]
  },
  {
   "cell_type": "code",
   "execution_count": null,
   "metadata": {},
   "outputs": [],
   "source": [
    "anova_data_len = []\n",
    "for f in anova_fps:\n",
    "    data = read_phylip_file(f)\n",
    "    anova_data_len.append(data.get_alignment_length())\n",
    "\n",
    "\n",
    "anova_dict = {\n",
    "    \"Anova\": anova_data_len\n",
    "}\n",
    "\n",
    "print(\"proceso 2\")\n",
    "print(f\"mean: {np.mean(anova_data_len)}\")\n",
    "print(f\"std: {np.std(anova_data_len)}\")\n",
    "print(f\"var: {np.var(anova_data_len)}\")"
   ]
  },
  {
   "cell_type": "code",
   "execution_count": null,
   "metadata": {},
   "outputs": [],
   "source": [
    "#ANOVA at_least_one p-value: 0.01\n",
    "sns.set(rc={'figure.figsize':(12,9)})\n",
    "\n",
    "b = sns.boxplot(data=anova_dict[\"Anova\"], color=\"green\")\n",
    "# patches = [matplotlib.patches.Patch(color=sns.color_palette()[i], label=t) for i,t in enumerate(t.get_text() for t in b.get_xticklabels())]\n",
    "# plt.legend(handles=patches, loc=\"upper left\") \n",
    "\n",
    "plt.xlabel(\"Conjunto de datos\")\n",
    "plt.ylabel(\"Largo de las secuencias\")"
   ]
  },
  {
   "cell_type": "code",
   "execution_count": null,
   "metadata": {},
   "outputs": [],
   "source": []
  }
 ],
 "metadata": {
  "kernelspec": {
   "display_name": "Python 3.10.4 ('.env': venv)",
   "language": "python",
   "name": "python3"
  },
  "language_info": {
   "codemirror_mode": {
    "name": "ipython",
    "version": 3
   },
   "file_extension": ".py",
   "mimetype": "text/x-python",
   "name": "python",
   "nbconvert_exporter": "python",
   "pygments_lexer": "ipython3",
   "version": "3.10.4"
  },
  "orig_nbformat": 4,
  "vscode": {
   "interpreter": {
    "hash": "0c553806f052202d33c4aa0bba9e6ab658aab5d30cc44140daa08f372e9629d7"
   }
  }
 },
 "nbformat": 4,
 "nbformat_minor": 2
}
