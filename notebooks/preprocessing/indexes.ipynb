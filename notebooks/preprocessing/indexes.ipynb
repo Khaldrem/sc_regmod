{
 "cells": [
  {
   "cell_type": "code",
   "execution_count": 1,
   "metadata": {},
   "outputs": [],
   "source": [
    "#Imports\n",
    "import os, sys\n",
    "path_to_package = os.path.abspath(os.path.join('../..'))\n",
    "if path_to_package not in sys.path:\n",
    "    sys.path.append(path_to_package)\n",
    "\n",
    "\n",
    "import scipy.stats as stats\n",
    "import pandas as pd\n",
    "import plotly.express as px\n",
    "import plotly.io as pio\n",
    "pio.renderers.default = \"notebook_connected\"\n",
    "\n",
    "from src.io import *\n",
    "from src.anova import *\n",
    "from src.utils import *\n",
    "from src.visualization import *"
   ]
  },
  {
   "cell_type": "code",
   "execution_count": 2,
   "metadata": {},
   "outputs": [],
   "source": [
    "#ANOVA_DATASET_PATH = \"C:\\\\Users\\\\Hector\\\\Desktop\\\\code\\\\sc_regmod\\\\dataset\\\\anova\"\n",
    "#INDEX_DATASET_PATH = \"C:\\\\Users\\\\Hector\\\\Desktop\\\\code\\\\sc_regmod\\\\dataset\\\\indexes\"\n",
    "\n",
    "ANOVA_DATASET_PATH = \"/home/khaldrem/code/sc_regmod/dataset/anova\"\n",
    "INDEX_DATASET_PATH = \"/home/khaldrem/code/sc_regmod/dataset/indexes\""
   ]
  },
  {
   "cell_type": "code",
   "execution_count": 3,
   "metadata": {},
   "outputs": [],
   "source": [
    "filepaths = get_filepaths(ANOVA_DATASET_PATH)\n",
    "dataset = []\n",
    "for filepath in filepaths:\n",
    "    filename = get_filename(filepath=filepath)\n",
    "    data = {}\n",
    "    data[\"filepath\"] = filepath\n",
    "    data[\"filename\"] = filename\n",
    "    data[\"data\"] = read_phylip_file(filepath)\n",
    "    \n",
    "    dataset.append(data)"
   ]
  },
  {
   "cell_type": "code",
   "execution_count": 4,
   "metadata": {},
   "outputs": [],
   "source": [
    "def count_bases_per_file(data):\n",
    "    bases = {}\n",
    "    #Itero por columna\n",
    "    for col in range(data.get_alignment_length()):\n",
    "        #Obtengo los elementos unicos\n",
    "        unique_keys = set(list(data[:, col]))\n",
    "\n",
    "        #print(unique_keys)\n",
    "        for key in unique_keys:\n",
    "            if key not in bases:\n",
    "                bases[key] = 0\n",
    "\n",
    "            elm_count = list(data[:, col]).count(key)\n",
    "            bases[key] = bases[key] + elm_count\n",
    "\n",
    "    return  bases\n",
    "\n",
    "\n",
    "\n",
    "\n"
   ]
  },
  {
   "cell_type": "code",
   "execution_count": 5,
   "metadata": {},
   "outputs": [
    {
     "name": "stdout",
     "output_type": "stream",
     "text": [
      "YNL237W\n"
     ]
    }
   ],
   "source": [
    "#bases = count_bases_per_file(dataset[0][\"data\"])\n",
    "#json_filename = dataset[0][\"filename\"].split(\"/\")[-1]\n",
    "#Update indexes\n",
    "#update_index_base_data_anova(bases, INDEX_DATASET_PATH, json_filename)\n",
    "\n",
    "\n",
    "#print(dataset[0][\"filename\"].split(\"/\")[-1])\n",
    "\n",
    "\n",
    "for data in dataset:\n",
    "    bases = count_bases_per_file(data[\"data\"])\n",
    "    json_filename = data[\"filename\"].split(\"/\")[-1]\n",
    "    update_index_base_data_anova(bases, INDEX_DATASET_PATH, json_filename)"
   ]
  },
  {
   "cell_type": "code",
   "execution_count": null,
   "metadata": {},
   "outputs": [],
   "source": []
  }
 ],
 "metadata": {
  "interpreter": {
   "hash": "0c553806f052202d33c4aa0bba9e6ab658aab5d30cc44140daa08f372e9629d7"
  },
  "kernelspec": {
   "display_name": "Python 3.8.10 ('.env': venv)",
   "language": "python",
   "name": "python3"
  },
  "language_info": {
   "codemirror_mode": {
    "name": "ipython",
    "version": 3
   },
   "file_extension": ".py",
   "mimetype": "text/x-python",
   "name": "python",
   "nbconvert_exporter": "python",
   "pygments_lexer": "ipython3",
   "version": "3.8.10"
  },
  "orig_nbformat": 4
 },
 "nbformat": 4,
 "nbformat_minor": 2
}
