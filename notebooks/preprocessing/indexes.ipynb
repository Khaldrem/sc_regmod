{
 "cells": [
  {
   "cell_type": "code",
   "execution_count": 1,
   "metadata": {},
   "outputs": [],
   "source": [
    "#Imports\n",
    "import os, sys\n",
    "path_to_package = os.path.abspath(os.path.join('../..'))\n",
    "if path_to_package not in sys.path:\n",
    "    sys.path.append(path_to_package)\n",
    "\n",
    "\n",
    "import scipy.stats as stats\n",
    "import pandas as pd\n",
    "import plotly.express as px\n",
    "import plotly.io as pio\n",
    "pio.renderers.default = \"notebook_connected\"\n",
    "\n",
    "from src.io import *\n",
    "from src.anova import *\n",
    "from src.utils import *\n",
    "from src.visualization import *"
   ]
  },
  {
   "cell_type": "code",
   "execution_count": 2,
   "metadata": {},
   "outputs": [],
   "source": [
    "ANOVA_DATASET_PATH = \"C:\\\\Users\\\\Hector\\\\Desktop\\\\code\\\\sc_regmod\\\\dataset\\\\anova\"\n",
    "INDEX_DATASET_PATH = \"C:\\\\Users\\\\Hector\\\\Desktop\\\\code\\\\sc_regmod\\\\dataset\\\\indexes\""
   ]
  },
  {
   "cell_type": "code",
   "execution_count": 3,
   "metadata": {},
   "outputs": [],
   "source": [
    "filepaths = get_filepaths(ANOVA_DATASET_PATH)\n",
    "dataset = []\n",
    "for filepath in filepaths:\n",
    "    filename = get_filename(filepath=filepath)\n",
    "    data = {}\n",
    "    data[\"filepath\"] = filepath\n",
    "    data[\"filename\"] = filename\n",
    "    data[\"data\"] = read_phylip_file(filepath)\n",
    "    \n",
    "    dataset.append(data)"
   ]
  },
  {
   "cell_type": "code",
   "execution_count": null,
   "metadata": {},
   "outputs": [],
   "source": [
    "def count_bases_per_file(data):\n",
    "    bases = {}\n",
    "    #Itero por columna\n",
    "    for col in range(data[\"data\"].get_alignment_length()):\n",
    "        #Obtengo los elementos unicos\n",
    "        unique_keys = set(list(data[\"data\"][:, col]))\n",
    "\n",
    "        #print(unique_keys)\n",
    "        for key in unique_keys:\n",
    "            if key not in bases:\n",
    "                bases[key] = 0\n",
    "\n",
    "            elm_count = list(data[\"data\"][:, col]).count(key)\n",
    "            bases[key] = bases[key] + elm_count\n",
    "\n",
    "    return  bases\n",
    "\n",
    "\n",
    "\n",
    "\n",
    "\n",
    "\n",
    "\n"
   ]
  },
  {
   "cell_type": "code",
   "execution_count": null,
   "metadata": {},
   "outputs": [],
   "source": [
    "bases = count_bases_per_file(dataset[0][\"data\"])\n",
    "\n",
    "print(dataset[0][\"filename\"])\n",
    "print(bases)"
   ]
  }
 ],
 "metadata": {
  "interpreter": {
   "hash": "958c38ebaa87e00f8c8d8bd8b3c22abc7b058bf81654ba838f65f833a155b4c0"
  },
  "kernelspec": {
   "display_name": "Python 3.10.1 ('.env': venv)",
   "language": "python",
   "name": "python3"
  },
  "language_info": {
   "codemirror_mode": {
    "name": "ipython",
    "version": 3
   },
   "file_extension": ".py",
   "mimetype": "text/x-python",
   "name": "python",
   "nbconvert_exporter": "python",
   "pygments_lexer": "ipython3",
   "version": "3.10.1"
  },
  "orig_nbformat": 4
 },
 "nbformat": 4,
 "nbformat_minor": 2
}
