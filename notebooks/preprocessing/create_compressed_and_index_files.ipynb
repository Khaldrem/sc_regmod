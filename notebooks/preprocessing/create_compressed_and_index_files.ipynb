{
 "cells": [
  {
   "cell_type": "markdown",
   "metadata": {},
   "source": [
    "### Crear archivos comprimidos y el indice en base a los datos originales"
   ]
  },
  {
   "cell_type": "code",
   "execution_count": 1,
   "metadata": {},
   "outputs": [],
   "source": [
    "#IMPORTS\n",
    "\n",
    "import os, sys\n",
    "path_to_package = os.path.abspath(os.path.join('../..'))\n",
    "if path_to_package not in sys.path:\n",
    "    sys.path.append(path_to_package)\n",
    "\n",
    "\n",
    "from src.io import *\n",
    "from src.sequences import *\n",
    "from src.utils import *"
   ]
  },
  {
   "cell_type": "code",
   "execution_count": 2,
   "metadata": {},
   "outputs": [],
   "source": [
    "# GLOBAL VAR\n",
    "BASE_DIR = \"C:\\\\Users\\\\Hector\\\\Desktop\\\\code\\\\sc_regmod\\\\dataset\\\\Secuencias_alineadas\"\n",
    "COMPRESSED_FILEPATH = \"C:\\\\Users\\\\Hector\\\\Desktop\\\\code\\\\sc_regmod\\\\dataset\\\\compressed_sequences\"\n",
    "INDEXES_FILEPATH = \"C:\\\\Users\\\\Hector\\\\Desktop\\\\code\\\\sc_regmod\\\\dataset\\\\indexes\""
   ]
  },
  {
   "cell_type": "code",
   "execution_count": 3,
   "metadata": {},
   "outputs": [
    {
     "name": "stdout",
     "output_type": "stream",
     "text": [
      "Can't compress this file, because there are no changes in it.\n",
      "Can't compress this file, because there are no changes in it.\n",
      "Can't compress this file, because there are no changes in it.\n",
      "Can't compress this file, because there are no changes in it.\n",
      "Can't compress this file, because there are no changes in it.\n",
      "Can't compress this file, because there are no changes in it.\n",
      "Can't compress this file, because there are no changes in it.\n",
      "Can't compress this file, because there are no changes in it.\n",
      "Can't compress this file, because there are no changes in it.\n",
      "Can't compress this file, because there are no changes in it.\n",
      "Can't compress this file, because there are no changes in it.\n",
      "Can't compress this file, because there are no changes in it.\n",
      "Can't compress this file, because there are no changes in it.\n",
      "Can't compress this file, because there are no changes in it.\n",
      "Can't compress this file, because there are no changes in it.\n",
      "Can't compress this file, because there are no changes in it.\n",
      "Can't compress this file, because there are no changes in it.\n",
      "Can't compress this file, because there are no changes in it.\n",
      "Can't compress this file, because there are no changes in it.\n",
      "Can't compress this file, because there are no changes in it.\n",
      "Can't compress this file, because there are no changes in it.\n",
      "Can't compress this file, because there are no changes in it.\n",
      "Can't compress this file, because there are no changes in it.\n",
      "Can't compress this file, because there are no changes in it.\n",
      "Can't compress this file, because there are no changes in it.\n",
      "Can't compress this file, because there are no changes in it.\n",
      "Can't compress this file, because there are no changes in it.\n",
      "Can't compress this file, because there are no changes in it.\n",
      "Can't compress this file, because there are no changes in it.\n",
      "Can't compress this file, because there are no changes in it.\n",
      "Can't compress this file, because there are no changes in it.\n",
      "Can't compress this file, because there are no changes in it.\n",
      "Can't compress this file, because there are no changes in it.\n",
      "Can't compress this file, because there are no changes in it.\n",
      "Can't compress this file, because there are no changes in it.\n",
      "Can't compress this file, because there are no changes in it.\n",
      "Can't compress this file, because there are no changes in it.\n",
      "Can't compress this file, because there are no changes in it.\n"
     ]
    }
   ],
   "source": [
    "#Para crear el archivo comprimido, eliminamos las columnas que presentan un solo caracter en ellas.\n",
    "\n",
    "filepaths = get_filepaths(BASE_DIR)\n",
    "#print(filepaths)\n",
    "\n",
    "for filepath in filepaths:\n",
    "    data = read_phylip_file(filepath)\n",
    "    changes = detect_sequence_changes(data)\n",
    "    new_align = create_compressed_alignment(data, changes)\n",
    "\n",
    "    filename = get_filename(filepath)\n",
    "\n",
    "    #Archivo que no sufrio modicaciones\n",
    "    if changes == []:\n",
    "        write_phylip_file(data, COMPRESSED_FILEPATH, filename)\n",
    "    else:\n",
    "        write_phylip_file(new_align, COMPRESSED_FILEPATH, filename)\n",
    "\n",
    "    # Creamos los indices para este nuevo archivo comprimido, es decir, guardamos la posicion de la nueva columna, respecto a su posicion\n",
    "    # original en el archivo.\n",
    "    index_filepath = f\"{INDEXES_FILEPATH}\\\\{filename}.json\"\n",
    "    \n",
    "    index_data = {}\n",
    "    index_data[\"compressed_pos\"] = changes\n",
    "    write_compressed_index(index_data, index_filepath)"
   ]
  },
  {
   "cell_type": "code",
   "execution_count": null,
   "metadata": {},
   "outputs": [],
   "source": []
  }
 ],
 "metadata": {
  "interpreter": {
   "hash": "958c38ebaa87e00f8c8d8bd8b3c22abc7b058bf81654ba838f65f833a155b4c0"
  },
  "kernelspec": {
   "display_name": "Python 3.10.1 ('.env': venv)",
   "language": "python",
   "name": "python3"
  },
  "language_info": {
   "codemirror_mode": {
    "name": "ipython",
    "version": 3
   },
   "file_extension": ".py",
   "mimetype": "text/x-python",
   "name": "python",
   "nbconvert_exporter": "python",
   "pygments_lexer": "ipython3",
   "version": "3.10.1"
  },
  "orig_nbformat": 4
 },
 "nbformat": 4,
 "nbformat_minor": 2
}
