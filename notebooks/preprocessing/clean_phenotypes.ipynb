{
 "cells": [
  {
   "cell_type": "code",
   "execution_count": 1,
   "id": "435a1dff-2315-4546-aa30-b165d210d3c6",
   "metadata": {},
   "outputs": [],
   "source": [
    "import os, sys\n",
    "path_to_package = os.path.abspath(os.path.join('../..'))\n",
    "if path_to_package not in sys.path:\n",
    "    sys.path.append(path_to_package)\n",
    "\n",
    "import matplotlib.pyplot as plt\n",
    "from src.io import read_phenotypes_file"
   ]
  },
  {
   "cell_type": "code",
   "execution_count": 2,
   "id": "3b419b3c-fc4c-4562-805c-5b3caaf388b6",
   "metadata": {},
   "outputs": [],
   "source": [
    "FILEPATH = \"C:\\\\Users\\\\Hector\\\\Desktop\\\\code\\\\sc_regmod\\\\dataset\\\\fenotipos\\\\fenotipos.csv\"\n",
    "NEW_FILEPATH = \"C:\\\\Users\\\\Hector\\\\Desktop\\\\code\\\\sc_regmod\\\\dataset\\\\fenotipos\\\\fenotipos_clean.csv\""
   ]
  },
  {
   "cell_type": "code",
   "execution_count": 3,
   "id": "872423e8-ed16-4231-a547-dad1832b7fcb",
   "metadata": {},
   "outputs": [],
   "source": [
    "phenotypes_df = read_phenotypes_file(FILEPATH)"
   ]
  },
  {
   "cell_type": "code",
   "execution_count": 4,
   "id": "f3a28d84-b04d-43a2-9f83-ce2aabdb7ba7",
   "metadata": {},
   "outputs": [
    {
     "data": {
      "text/html": [
       "<div>\n",
       "<style scoped>\n",
       "    .dataframe tbody tr th:only-of-type {\n",
       "        vertical-align: middle;\n",
       "    }\n",
       "\n",
       "    .dataframe tbody tr th {\n",
       "        vertical-align: top;\n",
       "    }\n",
       "\n",
       "    .dataframe thead th {\n",
       "        text-align: right;\n",
       "    }\n",
       "</style>\n",
       "<table border=\"1\" class=\"dataframe\">\n",
       "  <thead>\n",
       "    <tr style=\"text-align: right;\">\n",
       "      <th></th>\n",
       "      <th>Standard;Haploide-Diploide;SM300-Efficiency;SM300-Rate;SM300-Lag;SM300-AUC;SM60-Efficiency;SM60-Rate;SM60-Lag;SM60-AUC;Ratio-Efficiency;Ratio-Rate;Ratio-Lag;Ratio-AUC;Ecological info</th>\n",
       "    </tr>\n",
       "  </thead>\n",
       "  <tbody>\n",
       "    <tr>\n",
       "      <th>0</th>\n",
       "      <td>AAA;haploide-euploide;NA;NA;NA;NA;NA;NA;NA;NA;...</td>\n",
       "    </tr>\n",
       "    <tr>\n",
       "      <th>1</th>\n",
       "      <td>AAB;haploide-euploide;0.44;0.01612;9.22;9.497;...</td>\n",
       "    </tr>\n",
       "    <tr>\n",
       "      <th>2</th>\n",
       "      <td>AAC;diploides-euploides;NA;NA;NA;NA;NA;NA;NA;N...</td>\n",
       "    </tr>\n",
       "    <tr>\n",
       "      <th>3</th>\n",
       "      <td>AAD;---;1.062;0.03776;6.062;25.59;0.6657;0.026...</td>\n",
       "    </tr>\n",
       "    <tr>\n",
       "      <th>4</th>\n",
       "      <td>AAE;haploide-euploide;0.9033;0.03103;9.111;18....</td>\n",
       "    </tr>\n",
       "  </tbody>\n",
       "</table>\n",
       "</div>"
      ],
      "text/plain": [
       "  Standard;Haploide-Diploide;SM300-Efficiency;SM300-Rate;SM300-Lag;SM300-AUC;SM60-Efficiency;SM60-Rate;SM60-Lag;SM60-AUC;Ratio-Efficiency;Ratio-Rate;Ratio-Lag;Ratio-AUC;Ecological info\n",
       "0  AAA;haploide-euploide;NA;NA;NA;NA;NA;NA;NA;NA;...                                                                                                                                    \n",
       "1  AAB;haploide-euploide;0.44;0.01612;9.22;9.497;...                                                                                                                                    \n",
       "2  AAC;diploides-euploides;NA;NA;NA;NA;NA;NA;NA;N...                                                                                                                                    \n",
       "3  AAD;---;1.062;0.03776;6.062;25.59;0.6657;0.026...                                                                                                                                    \n",
       "4  AAE;haploide-euploide;0.9033;0.03103;9.111;18....                                                                                                                                    "
      ]
     },
     "execution_count": 4,
     "metadata": {},
     "output_type": "execute_result"
    }
   ],
   "source": [
    "phenotypes_df.head()"
   ]
  },
  {
   "cell_type": "markdown",
   "id": "8c0856ce-e8fb-48f5-9395-4e259d46d3f3",
   "metadata": {},
   "source": [
    "## KEYS"
   ]
  },
  {
   "cell_type": "code",
   "execution_count": 8,
   "id": "00e1d030-b718-487c-b5e6-64b317462a26",
   "metadata": {},
   "outputs": [
    {
     "name": "stdout",
     "output_type": "stream",
     "text": [
      "Standard\n",
      "Haploide-Diploide\n",
      "SM300-Efficiency\n",
      "SM300-Rate\n",
      "SM300-Lag\n",
      "SM300-AUC\n",
      "SM60-Efficiency\n",
      "SM60-Rate\n",
      "SM60-Lag\n",
      "SM60-AUC\n",
      "Ratio-Efficiency\n",
      "Ratio-Rate\n",
      "Ratio-Lag\n",
      "Ratio-AUC\n",
      "Ecological info\n"
     ]
    }
   ],
   "source": [
    "for i in phenotypes_df.keys():\n",
    "    print(i)"
   ]
  },
  {
   "cell_type": "markdown",
   "id": "98f975a4-8b04-4df8-8cda-a79a5052d6cb",
   "metadata": {},
   "source": [
    "### CLEAN FILE"
   ]
  },
  {
   "cell_type": "markdown",
   "id": "d79f9272-0f9c-42d2-aac0-f9ffd544f076",
   "metadata": {},
   "source": [
    "Chequeamos si existen valores NAN para todas las columnas, sacamos el valor total por columna"
   ]
  },
  {
   "cell_type": "code",
   "execution_count": 9,
   "id": "ae663d9b-4b5a-4387-9ffb-5b64fbd175da",
   "metadata": {},
   "outputs": [],
   "source": [
    "phenotypes_missing_data = []\n",
    "for key in phenotypes_df.keys():\n",
    "    if key != \"Standard\" and key != \"Haploide-Diploide\" and key != \"Ecological info\":\n",
    "        has_na = {}\n",
    "        has_na[key] = phenotypes_df[key].isnull().sum()\n",
    "        phenotypes_missing_data.append(has_na)"
   ]
  },
  {
   "cell_type": "code",
   "execution_count": 10,
   "id": "17f9b92e-b281-46c2-a4aa-5ecff6256d95",
   "metadata": {},
   "outputs": [
    {
     "name": "stdout",
     "output_type": "stream",
     "text": [
      "[{'SM300-Efficiency': 64}, {'SM300-Rate': 64}, {'SM300-Lag': 64}, {'SM300-AUC': 64}, {'SM60-Efficiency': 64}, {'SM60-Rate': 64}, {'SM60-Lag': 64}, {'SM60-AUC': 64}, {'Ratio-Efficiency': 64}, {'Ratio-Rate': 64}, {'Ratio-Lag': 64}, {'Ratio-AUC': 64}]\n"
     ]
    }
   ],
   "source": [
    "print(phenotypes_missing_data)"
   ]
  },
  {
   "cell_type": "code",
   "execution_count": 11,
   "id": "ea18cea9-d071-4185-8bfe-731de9d7c382",
   "metadata": {},
   "outputs": [
    {
     "name": "stdout",
     "output_type": "stream",
     "text": [
      "0.06\n"
     ]
    }
   ],
   "source": [
    "print(round(64/phenotypes_df.shape[0], 2))"
   ]
  },
  {
   "cell_type": "markdown",
   "id": "dfe75f8b-731d-4039-90f5-e16cfd3d7c78",
   "metadata": {},
   "source": [
    "Para todas las columnas existen valores NA, lo que representa el **0,06%** de los datos totales, por lo que se limpia el dataset eliminando las filas que presenten valores NaN."
   ]
  },
  {
   "cell_type": "code",
   "execution_count": 13,
   "id": "cd9c8743-3f73-44b0-9164-6db16f896fb9",
   "metadata": {},
   "outputs": [],
   "source": [
    "phenotypes_df = phenotypes_df.dropna(axis=0, how='any')\n",
    "phenotypes_df = phenotypes_df.reset_index(drop=True)"
   ]
  },
  {
   "cell_type": "markdown",
   "id": "84660aa7-2783-45c1-8af3-3d4273bc74c3",
   "metadata": {},
   "source": [
    "Escribimos el nuevo archivo con los datos limpios."
   ]
  },
  {
   "cell_type": "code",
   "execution_count": 16,
   "id": "b4be18e0-468c-4233-b922-73649f0bde9f",
   "metadata": {},
   "outputs": [],
   "source": [
    "phenotypes_df.to_csv(NEW_FILEPATH, index=False)"
   ]
  },
  {
   "cell_type": "markdown",
   "id": "d9c6741a-5450-4b44-b04b-f2d0d1c441fd",
   "metadata": {},
   "source": [
    "## BOXPLOTS"
   ]
  },
  {
   "cell_type": "markdown",
   "id": "a7b214d8-6f4e-4eeb-8d89-74d9153ae545",
   "metadata": {},
   "source": [
    "#### Efficiency"
   ]
  },
  {
   "cell_type": "code",
   "execution_count": 17,
   "id": "6ce0b4fd-e51d-425f-abd9-24fe85772075",
   "metadata": {},
   "outputs": [
    {
     "data": {
      "image/png": "[encoded data removed]",
      "text/plain": [
       "<Figure size 432x288 with 1 Axes>"
      ]
     },
     "metadata": {
      "needs_background": "light"
     },
     "output_type": "display_data"
    }
   ],
   "source": [
    "phenotypes_df.boxplot(column=['SM300-Efficiency', 'SM60-Efficiency', 'Ratio-Efficiency'])\n",
    "plt.title('Efficiency')\n",
    "plt.show()"
   ]
  },
  {
   "cell_type": "markdown",
   "id": "e5f69b99-75ae-425d-ae96-b3f2b7e7eb68",
   "metadata": {},
   "source": [
    "#### Rate"
   ]
  },
  {
   "cell_type": "code",
   "execution_count": 18,
   "id": "ed8d99cf-39bc-4bd1-a065-3ecaf4b2f609",
   "metadata": {},
   "outputs": [
    {
     "data": {
      "image/png": "[encoded data removed]",
      "text/plain": [
       "<Figure size 432x288 with 1 Axes>"
      ]
     },
     "metadata": {
      "needs_background": "light"
     },
     "output_type": "display_data"
    }
   ],
   "source": [
    "phenotypes_df.boxplot(column=['SM300-Rate', 'SM60-Rate', 'Ratio-Rate'])\n",
    "plt.title('Rate')\n",
    "plt.show()"
   ]
  },
  {
   "cell_type": "markdown",
   "id": "499a58c7-1f9a-41a3-bc8c-0502525f532b",
   "metadata": {},
   "source": [
    "#### Lag"
   ]
  },
  {
   "cell_type": "code",
   "execution_count": 19,
   "id": "a8e7a8b4-88bf-4962-b7c9-b60f3906f034",
   "metadata": {},
   "outputs": [
    {
     "data": {
      "image/png": "[encoded data removed]",
      "text/plain": [
       "<Figure size 432x288 with 1 Axes>"
      ]
     },
     "metadata": {
      "needs_background": "light"
     },
     "output_type": "display_data"
    }
   ],
   "source": [
    "phenotypes_df.boxplot(column=['SM300-Lag', 'SM60-Lag', 'Ratio-Lag'])\n",
    "plt.title('Lag')\n",
    "plt.show()"
   ]
  },
  {
   "cell_type": "markdown",
   "id": "ff19a85e-1dc7-4238-99c3-38d24155f0b1",
   "metadata": {},
   "source": [
    "#### AUC"
   ]
  },
  {
   "cell_type": "code",
   "execution_count": 20,
   "id": "bc7955d5-4dfd-4f44-a6c4-8338f8cb1184",
   "metadata": {},
   "outputs": [
    {
     "data": {
      "image/png": "[encoded data removed]",
      "text/plain": [
       "<Figure size 432x288 with 1 Axes>"
      ]
     },
     "metadata": {
      "needs_background": "light"
     },
     "output_type": "display_data"
    }
   ],
   "source": [
    "phenotypes_df.boxplot(column=['SM300-AUC', 'SM60-AUC', 'Ratio-AUC'])\n",
    "plt.title('AUC')\n",
    "plt.show()"
   ]
  },
  {
   "cell_type": "markdown",
   "id": "8c766f83-26d9-40d2-b6b4-3bbf0846fa03",
   "metadata": {},
   "source": [
    "#### Haploide/Diploide"
   ]
  },
  {
   "cell_type": "code",
   "execution_count": 21,
   "id": "22903e68-6784-4acc-89aa-4c47779eadef",
   "metadata": {},
   "outputs": [
    {
     "data": {
      "text/plain": [
       "<AxesSubplot:>"
      ]
     },
     "execution_count": 21,
     "metadata": {},
     "output_type": "execute_result"
    },
    {
     "data": {
      "image/png": "[encoded data removed]",
      "text/plain": [
       "<Figure size 432x288 with 1 Axes>"
      ]
     },
     "metadata": {
      "needs_background": "light"
     },
     "output_type": "display_data"
    }
   ],
   "source": [
    "phenotypes_df['Haploide-Diploide'].value_counts().plot(kind='bar')"
   ]
  },
  {
   "cell_type": "markdown",
   "id": "b2acbda6-6a53-4f3c-a138-49e73dc4f81e",
   "metadata": {},
   "source": [
    "#### Ecological"
   ]
  },
  {
   "cell_type": "code",
   "execution_count": 22,
   "id": "3addbceb-9980-4188-8e78-97610e85beef",
   "metadata": {},
   "outputs": [
    {
     "data": {
      "text/plain": [
       "<AxesSubplot:>"
      ]
     },
     "execution_count": 22,
     "metadata": {},
     "output_type": "execute_result"
    },
    {
     "data": {
      "image/png": "[encoded data removed]",
      "text/plain": [
       "<Figure size 432x288 with 1 Axes>"
      ]
     },
     "metadata": {
      "needs_background": "light"
     },
     "output_type": "display_data"
    }
   ],
   "source": [
    "phenotypes_df['Ecological info'].value_counts().plot(kind='bar')"
   ]
  },
  {
   "cell_type": "code",
   "execution_count": null,
   "id": "d8335671-381c-4ab5-943a-a75f90aba874",
   "metadata": {},
   "outputs": [],
   "source": []
  }
 ],
 "metadata": {
  "kernelspec": {
   "display_name": "Python 3 (ipykernel)",
   "language": "python",
   "name": "python3"
  },
  "language_info": {
   "codemirror_mode": {
    "name": "ipython",
    "version": 3
   },
   "file_extension": ".py",
   "mimetype": "text/x-python",
   "name": "python",
   "nbconvert_exporter": "python",
   "pygments_lexer": "ipython3",
   "version": "3.10.1"
  }
 },
 "nbformat": 4,
 "nbformat_minor": 5
}
