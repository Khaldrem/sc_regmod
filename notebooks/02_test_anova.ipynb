{
 "cells": [
  {
   "cell_type": "code",
   "execution_count": 1,
   "id": "200771aa-f589-4382-beae-e6d1c8557a13",
   "metadata": {},
   "outputs": [],
   "source": [
    "import matplotlib.pyplot as plt\n",
    "import pandas as pd\n",
    "import numpy as np\n",
    "import scipy.stats as stats\n",
    "from sc_regmod.io import read_phylip_file, read_phenotypes_file, get_dataset_filepaths, read_phylip_file"
   ]
  },
  {
   "cell_type": "code",
   "execution_count": 2,
   "id": "bdb43117-41bd-4579-9a0e-91b321cd7783",
   "metadata": {},
   "outputs": [],
   "source": [
    "FILEPATH = \"C:\\\\Users\\\\Hector\\\\Desktop\\\\code\\\\sc_regmod\\\\dataset\\\\fenotipos\\\\fenotipos.csv\""
   ]
  },
  {
   "cell_type": "code",
   "execution_count": 3,
   "id": "ac462877-a6a4-4747-bc07-30904f842bfb",
   "metadata": {},
   "outputs": [],
   "source": [
    "phenotypes_df = read_phenotypes_file(FILEPATH)"
   ]
  },
  {
   "cell_type": "code",
   "execution_count": 4,
   "id": "2f8e7aed-ec92-4a58-855f-1fd2e4e8c80c",
   "metadata": {},
   "outputs": [
    {
     "data": {
      "text/html": [
       "<div>\n",
       "<style scoped>\n",
       "    .dataframe tbody tr th:only-of-type {\n",
       "        vertical-align: middle;\n",
       "    }\n",
       "\n",
       "    .dataframe tbody tr th {\n",
       "        vertical-align: top;\n",
       "    }\n",
       "\n",
       "    .dataframe thead th {\n",
       "        text-align: right;\n",
       "    }\n",
       "</style>\n",
       "<table border=\"1\" class=\"dataframe\">\n",
       "  <thead>\n",
       "    <tr style=\"text-align: right;\">\n",
       "      <th></th>\n",
       "      <th>Standard</th>\n",
       "      <th>Haploide-Diploide</th>\n",
       "      <th>SM300-Efficiency</th>\n",
       "      <th>SM300-Rate</th>\n",
       "      <th>SM300-Lag</th>\n",
       "      <th>SM300-AUC</th>\n",
       "      <th>SM60-Efficiency</th>\n",
       "      <th>SM60-Rate</th>\n",
       "      <th>SM60-Lag</th>\n",
       "      <th>SM60-AUC</th>\n",
       "      <th>Ratio-Efficiency</th>\n",
       "      <th>Ratio-Rate</th>\n",
       "      <th>Ratio-Lag</th>\n",
       "      <th>Ratio-AUC</th>\n",
       "      <th>Ecological info</th>\n",
       "    </tr>\n",
       "  </thead>\n",
       "  <tbody>\n",
       "    <tr>\n",
       "      <th>0</th>\n",
       "      <td>AAA</td>\n",
       "      <td>haploide-euploide</td>\n",
       "      <td>NaN</td>\n",
       "      <td>NaN</td>\n",
       "      <td>NaN</td>\n",
       "      <td>NaN</td>\n",
       "      <td>NaN</td>\n",
       "      <td>NaN</td>\n",
       "      <td>NaN</td>\n",
       "      <td>NaN</td>\n",
       "      <td>NaN</td>\n",
       "      <td>NaN</td>\n",
       "      <td>NaN</td>\n",
       "      <td>NaN</td>\n",
       "      <td>Domesticated (wine)</td>\n",
       "    </tr>\n",
       "    <tr>\n",
       "      <th>1</th>\n",
       "      <td>AAB</td>\n",
       "      <td>haploide-euploide</td>\n",
       "      <td>0.4400</td>\n",
       "      <td>0.01612</td>\n",
       "      <td>9.220</td>\n",
       "      <td>9.497</td>\n",
       "      <td>0.4115</td>\n",
       "      <td>0.01132</td>\n",
       "      <td>10.390</td>\n",
       "      <td>6.954</td>\n",
       "      <td>0.935227</td>\n",
       "      <td>0.702233</td>\n",
       "      <td>1.126898</td>\n",
       "      <td>0.732231</td>\n",
       "      <td>Domesticated (non-wine)</td>\n",
       "    </tr>\n",
       "    <tr>\n",
       "      <th>2</th>\n",
       "      <td>AAC</td>\n",
       "      <td>diploides-euploides</td>\n",
       "      <td>NaN</td>\n",
       "      <td>NaN</td>\n",
       "      <td>NaN</td>\n",
       "      <td>NaN</td>\n",
       "      <td>NaN</td>\n",
       "      <td>NaN</td>\n",
       "      <td>NaN</td>\n",
       "      <td>NaN</td>\n",
       "      <td>NaN</td>\n",
       "      <td>NaN</td>\n",
       "      <td>NaN</td>\n",
       "      <td>NaN</td>\n",
       "      <td>Domesticated (non-wine)</td>\n",
       "    </tr>\n",
       "    <tr>\n",
       "      <th>3</th>\n",
       "      <td>AAD</td>\n",
       "      <td>---</td>\n",
       "      <td>1.0620</td>\n",
       "      <td>0.03776</td>\n",
       "      <td>6.062</td>\n",
       "      <td>25.590</td>\n",
       "      <td>0.6657</td>\n",
       "      <td>0.02605</td>\n",
       "      <td>7.240</td>\n",
       "      <td>15.840</td>\n",
       "      <td>0.626836</td>\n",
       "      <td>0.689883</td>\n",
       "      <td>1.194325</td>\n",
       "      <td>0.618992</td>\n",
       "      <td>Domesticated (non-wine)</td>\n",
       "    </tr>\n",
       "    <tr>\n",
       "      <th>4</th>\n",
       "      <td>AAE</td>\n",
       "      <td>haploide-euploide</td>\n",
       "      <td>0.9033</td>\n",
       "      <td>0.03103</td>\n",
       "      <td>9.111</td>\n",
       "      <td>18.860</td>\n",
       "      <td>0.6704</td>\n",
       "      <td>0.01607</td>\n",
       "      <td>6.166</td>\n",
       "      <td>12.300</td>\n",
       "      <td>0.742168</td>\n",
       "      <td>0.517886</td>\n",
       "      <td>0.676764</td>\n",
       "      <td>0.652174</td>\n",
       "      <td>Domesticated (wine)</td>\n",
       "    </tr>\n",
       "  </tbody>\n",
       "</table>\n",
       "</div>"
      ],
      "text/plain": [
       "  Standard    Haploide-Diploide  SM300-Efficiency  SM300-Rate  SM300-Lag  \\\n",
       "0      AAA    haploide-euploide               NaN         NaN        NaN   \n",
       "1      AAB    haploide-euploide            0.4400     0.01612      9.220   \n",
       "2      AAC  diploides-euploides               NaN         NaN        NaN   \n",
       "3      AAD                  ---            1.0620     0.03776      6.062   \n",
       "4      AAE    haploide-euploide            0.9033     0.03103      9.111   \n",
       "\n",
       "   SM300-AUC  SM60-Efficiency  SM60-Rate  SM60-Lag  SM60-AUC  \\\n",
       "0        NaN              NaN        NaN       NaN       NaN   \n",
       "1      9.497           0.4115    0.01132    10.390     6.954   \n",
       "2        NaN              NaN        NaN       NaN       NaN   \n",
       "3     25.590           0.6657    0.02605     7.240    15.840   \n",
       "4     18.860           0.6704    0.01607     6.166    12.300   \n",
       "\n",
       "   Ratio-Efficiency  Ratio-Rate  Ratio-Lag  Ratio-AUC          Ecological info  \n",
       "0               NaN         NaN        NaN        NaN      Domesticated (wine)  \n",
       "1          0.935227    0.702233   1.126898   0.732231  Domesticated (non-wine)  \n",
       "2               NaN         NaN        NaN        NaN  Domesticated (non-wine)  \n",
       "3          0.626836    0.689883   1.194325   0.618992  Domesticated (non-wine)  \n",
       "4          0.742168    0.517886   0.676764   0.652174      Domesticated (wine)  "
      ]
     },
     "execution_count": 4,
     "metadata": {},
     "output_type": "execute_result"
    }
   ],
   "source": [
    "phenotypes_df.head()"
   ]
  },
  {
   "cell_type": "code",
   "execution_count": 5,
   "id": "4156b29a-4444-4f50-afff-a12a01bef512",
   "metadata": {},
   "outputs": [
    {
     "data": {
      "text/plain": [
       "Index(['Standard', 'Haploide-Diploide', 'SM300-Efficiency', 'SM300-Rate',\n",
       "       'SM300-Lag', 'SM300-AUC', 'SM60-Efficiency', 'SM60-Rate', 'SM60-Lag',\n",
       "       'SM60-AUC', 'Ratio-Efficiency', 'Ratio-Rate', 'Ratio-Lag', 'Ratio-AUC',\n",
       "       'Ecological info'],\n",
       "      dtype='object')"
      ]
     },
     "execution_count": 5,
     "metadata": {},
     "output_type": "execute_result"
    }
   ],
   "source": [
    "phenotypes_df.keys()"
   ]
  },
  {
   "cell_type": "markdown",
   "id": "1d579dc4-7a6b-4998-ac00-3ab93244ac18",
   "metadata": {},
   "source": [
    "Chequeamos si existen valores NAN para todas las columnas, sacamos el valor total por columna"
   ]
  },
  {
   "cell_type": "code",
   "execution_count": 6,
   "id": "8d21d20a-0e9e-44ce-a3e8-202bca524c19",
   "metadata": {},
   "outputs": [],
   "source": [
    "phenotypes_missing_data = []\n",
    "for key in phenotypes_df.keys():\n",
    "    if key != \"Standard\" and key != \"Haploide-Diploide\" and key != \"Ecological info\":\n",
    "        has_na = {}\n",
    "        has_na[key] = phenotypes_df[key].isnull().sum()\n",
    "        phenotypes_missing_data.append(has_na)"
   ]
  },
  {
   "cell_type": "code",
   "execution_count": 7,
   "id": "0de49f0b-4f0b-4412-8a06-dd4e2616e006",
   "metadata": {},
   "outputs": [
    {
     "name": "stdout",
     "output_type": "stream",
     "text": [
      "[{'SM300-Efficiency': 64}, {'SM300-Rate': 64}, {'SM300-Lag': 64}, {'SM300-AUC': 64}, {'SM60-Efficiency': 64}, {'SM60-Rate': 64}, {'SM60-Lag': 64}, {'SM60-AUC': 64}, {'Ratio-Efficiency': 64}, {'Ratio-Rate': 64}, {'Ratio-Lag': 64}, {'Ratio-AUC': 64}]\n"
     ]
    }
   ],
   "source": [
    "print(phenotypes_missing_data)"
   ]
  },
  {
   "cell_type": "code",
   "execution_count": 8,
   "id": "7cd561a9-f41c-486b-8c82-e13ab5563a56",
   "metadata": {},
   "outputs": [
    {
     "name": "stdout",
     "output_type": "stream",
     "text": [
      "0.06\n"
     ]
    }
   ],
   "source": [
    "print(round(64/phenotypes_df.shape[0], 2))"
   ]
  },
  {
   "cell_type": "markdown",
   "id": "d3a9da84-32db-4115-9a25-b8e7fca8cd9c",
   "metadata": {},
   "source": [
    "Para todas las columnas existen valores NA, lo que representa el **0,06%** de los datos totales, por lo que se limpia el dataset eliminando las filas que presenten valores NaN."
   ]
  },
  {
   "cell_type": "code",
   "execution_count": 9,
   "id": "8d4954dc-41cc-4762-886e-758988c556be",
   "metadata": {},
   "outputs": [],
   "source": [
    "phenotypes_df = phenotypes_df.dropna(axis=0, how='any')\n",
    "phenotypes_df = phenotypes_df.reset_index(drop=True)"
   ]
  },
  {
   "cell_type": "code",
   "execution_count": 10,
   "id": "2a156004-f396-431f-8414-50e2a1c2416b",
   "metadata": {},
   "outputs": [
    {
     "data": {
      "image/png": "[encoded data removed]",
      "text/plain": [
       "<Figure size 432x288 with 1 Axes>"
      ]
     },
     "metadata": {
      "needs_background": "light"
     },
     "output_type": "display_data"
    }
   ],
   "source": [
    "phenotypes_df.boxplot(column=['SM300-Efficiency', 'SM300-Rate', 'SM300-Lag', 'SM300-AUC'])\n",
    "plt.title('SM300')\n",
    "plt.show()"
   ]
  },
  {
   "cell_type": "code",
   "execution_count": 11,
   "id": "23a43e00-73de-4d97-8549-5fa79f3523e1",
   "metadata": {},
   "outputs": [
    {
     "data": {
      "image/png": "[encoded data removed]",
      "text/plain": [
       "<Figure size 432x288 with 1 Axes>"
      ]
     },
     "metadata": {
      "needs_background": "light"
     },
     "output_type": "display_data"
    }
   ],
   "source": [
    "phenotypes_df.boxplot(column=['SM60-Efficiency', 'SM60-Rate', 'SM60-Lag', 'SM60-AUC'])\n",
    "plt.title('SM60')\n",
    "plt.show()"
   ]
  },
  {
   "cell_type": "code",
   "execution_count": 12,
   "id": "066032b0-f1e6-4dbc-92c7-067c4a35d08b",
   "metadata": {},
   "outputs": [
    {
     "data": {
      "image/png": "[encoded data removed]",
      "text/plain": [
       "<Figure size 432x288 with 1 Axes>"
      ]
     },
     "metadata": {
      "needs_background": "light"
     },
     "output_type": "display_data"
    }
   ],
   "source": [
    "phenotypes_df.boxplot(column=['Ratio-Efficiency', 'Ratio-Rate', 'Ratio-Lag', 'Ratio-AUC'])\n",
    "plt.title('Ratio')\n",
    "plt.show()"
   ]
  },
  {
   "cell_type": "code",
   "execution_count": 13,
   "id": "9e7d4254-60c2-4e7b-97ce-0b9d4fe1adc4",
   "metadata": {},
   "outputs": [
    {
     "data": {
      "text/plain": [
       "<AxesSubplot:>"
      ]
     },
     "execution_count": 13,
     "metadata": {},
     "output_type": "execute_result"
    },
    {
     "data": {
      "image/png": "[encoded data removed]",
      "text/plain": [
       "<Figure size 432x288 with 1 Axes>"
      ]
     },
     "metadata": {
      "needs_background": "light"
     },
     "output_type": "display_data"
    }
   ],
   "source": [
    "phenotypes_df['Haploide-Diploide'].value_counts().plot(kind='bar')"
   ]
  },
  {
   "cell_type": "code",
   "execution_count": 14,
   "id": "1ddd1c12-53bb-4833-9271-d46345b40186",
   "metadata": {},
   "outputs": [
    {
     "data": {
      "text/plain": [
       "<AxesSubplot:>"
      ]
     },
     "execution_count": 14,
     "metadata": {},
     "output_type": "execute_result"
    },
    {
     "data": {
      "image/png": "[encoded data removed]",
      "text/plain": [
       "<Figure size 432x288 with 1 Axes>"
      ]
     },
     "metadata": {
      "needs_background": "light"
     },
     "output_type": "display_data"
    }
   ],
   "source": [
    "phenotypes_df['Ecological info'].value_counts().plot(kind='bar')"
   ]
  },
  {
   "cell_type": "markdown",
   "id": "1776527f-3aee-4dcd-8bc5-368055f3b7d3",
   "metadata": {},
   "source": [
    "## Test ANOVA"
   ]
  },
  {
   "cell_type": "markdown",
   "id": "a20f4fcb-b8a5-4f8a-8a4c-ac3ea7c86d86",
   "metadata": {},
   "source": [
    "Leemos el directorios con el dataset, extraemos todos los 'path' a los archivos (ya comprimidos o reducidos) e iteramos por cada uno de ellos. De esta forma no cargamos todo el dataset en memoria."
   ]
  },
  {
   "cell_type": "code",
   "execution_count": 15,
   "id": "4893044b-86ac-48c1-a3c4-c51482ee30f1",
   "metadata": {},
   "outputs": [],
   "source": [
    "PHYLIP_FILEPATH=\"C:\\\\Users\\\\Hector\\\\Desktop\\\\code\\\\sc_regmod\\\\dataset\\\\compressed_sequences\""
   ]
  },
  {
   "cell_type": "code",
   "execution_count": 16,
   "id": "f0271561-08e7-42c6-8795-49b625463df7",
   "metadata": {},
   "outputs": [],
   "source": [
    "paths = get_dataset_filepaths(PHYLIP_FILEPATH, \".phylip\")"
   ]
  },
  {
   "cell_type": "markdown",
   "id": "1a805456-9209-43cc-8b88-f1bcd2b4d891",
   "metadata": {},
   "source": [
    "En el ciclo realizamos las siguientes operaciones:\n",
    "\n",
    "- Leemos los datos del archivo.\n",
    "- Creamos un dataframe especifico para este archivo.\n",
    "- Por cada columna en la secuencia:\n",
    "    - Extraemos los genes presentes en el archivo de fenotipos de la columna.\n",
    "    - \n",
    "   "
   ]
  },
  {
   "cell_type": "code",
   "execution_count": 17,
   "id": "4f9974da-a9b2-48ad-b7d4-9a33ff6aa775",
   "metadata": {},
   "outputs": [],
   "source": [
    "# #BORRAR\n",
    "# just_for_1_file = 0\n",
    "\n",
    "# for path in paths:\n",
    "#     if just_for_1_file == 0:\n",
    "#         data = read_phylip_file(path)\n",
    "        \n",
    "#         print(data)\n",
    "#         just_for_1_file = just_for_1_file + 1"
   ]
  },
  {
   "cell_type": "markdown",
   "id": "962bdbc3-4422-40fc-8992-72f194a83509",
   "metadata": {},
   "source": [
    "Filtramos los datos y nos quedamos con los genes presentes en el archivo de fenotipos (Esto porque removimos filas del archivo de fenotipos)"
   ]
  },
  {
   "cell_type": "code",
   "execution_count": 18,
   "id": "19bc343c-4ee1-4524-ae7f-ee4e4619bce5",
   "metadata": {},
   "outputs": [
    {
     "name": "stdout",
     "output_type": "stream",
     "text": [
      "RangeIndex(start=0, stop=947, step=1)\n"
     ]
    }
   ],
   "source": [
    "print(phenotypes_df.index)"
   ]
  },
  {
   "cell_type": "code",
   "execution_count": 21,
   "id": "65ef82cb-fcc1-4798-a1e8-68df35ec0643",
   "metadata": {},
   "outputs": [],
   "source": [
    "data = read_phylip_file(paths[0])\n",
    "\n",
    "new_columns = {}\n",
    "for col in range(data.get_alignment_length()):\n",
    "    col_seq = []\n",
    "    for row in range(len(data)):\n",
    "        for id in phenotypes_df['Standard'].tolist():\n",
    "            if id == data[row].id:\n",
    "                col_seq.append(data[row, col])\n",
    "    \n",
    "    #Add to dataframe\n",
    "    new_key = \"x\" + str(col)\n",
    "    new_columns[new_key] = pd.Series(col_seq, index=phenotypes_df.index, name=new_key)\n",
    "    \n",
    "        \n",
    "        \n",
    "# for row in data:\n",
    "#     t = {}\n",
    "#     t[row.id] = list(row.seq)\n",
    "#     test_dataframe.append(t)\n",
    "#     # print(list(row.seq[:5]))\n",
    "\n",
    "# print(test_dataframe)\n",
    "\n",
    "temp = pd.DataFrame(new_columns)\n",
    "anova_data = pd.concat([phenotypes_df, temp], axis=1)"
   ]
  },
  {
   "cell_type": "code",
   "execution_count": 22,
   "id": "d5fd2eb3-2919-411a-b8eb-ebd0b16e667e",
   "metadata": {},
   "outputs": [],
   "source": [
    "# phenotypes_df.to_csv(\"C:\\\\Users\\\\Hector\\\\Desktop\\\\code\\\\sc_regmod\\\\dataset\\\\df.csv\")"
   ]
  },
  {
   "cell_type": "code",
   "execution_count": 35,
   "id": "16321af4-610d-4ba4-bc1e-215dc29831a4",
   "metadata": {},
   "outputs": [
    {
     "name": "stdout",
     "output_type": "stream",
     "text": [
      "0      g\n",
      "1      g\n",
      "2      g\n",
      "3      g\n",
      "4      g\n",
      "      ..\n",
      "942    g\n",
      "943    g\n",
      "944    g\n",
      "945    g\n",
      "946    g\n",
      "Name: x0, Length: 947, dtype: object\n",
      "Index(['SM300-Efficiency', 'SM300-Rate', 'SM300-Lag', 'SM300-AUC',\n",
      "       'SM60-Efficiency', 'SM60-Rate', 'SM60-Lag', 'SM60-AUC',\n",
      "       'Ratio-Efficiency', 'Ratio-Rate', 'Ratio-Lag', 'Ratio-AUC'],\n",
      "      dtype='object')\n"
     ]
    }
   ],
   "source": [
    "# print(anova_data.head())\n",
    "print(anova_data.iloc[:, 15])\n",
    "print(phenotypes_df.keys()[2:-1])"
   ]
  },
  {
   "cell_type": "code",
   "execution_count": 50,
   "id": "6967a61e-378a-4b37-b470-fc61ce4b0ec2",
   "metadata": {},
   "outputs": [],
   "source": [
    "START_GEN_ROW = 15\n",
    "\n",
    "gen_means = []\n",
    "#Calculamos las medias para cada gen\n",
    "\n",
    "for gen in anova_data.iloc[:, 15].unique():\n",
    "    temp = {}\n",
    "    values = anova_data[anova_data.iloc[:, 15] == gen].mean(numeric_only=True)\n",
    "    for index, value in values.items():\n",
    "        temp[index] = value\n",
    "    \n",
    "    gen_means.append(temp)\n",
    "\n",
    "# print(gen_means[0])\n",
    "    \n",
    "prev_data = {}\n",
    "\n",
    "for key in phenotypes_df.keys()[2:-1]:\n",
    "    prev_data[key] = []\n",
    "    \n",
    "    for data in gen_means:\n",
    "        prev_data[key].append(data[key])\n",
    "\n",
    "prev_data['seq'] = anova_data.iloc[:, 15].unique()"
   ]
  },
  {
   "cell_type": "code",
   "execution_count": 52,
   "id": "9713e77c-849f-4ec6-8187-05044d2ee5a3",
   "metadata": {},
   "outputs": [
    {
     "data": {
      "text/html": [
       "<div>\n",
       "<style scoped>\n",
       "    .dataframe tbody tr th:only-of-type {\n",
       "        vertical-align: middle;\n",
       "    }\n",
       "\n",
       "    .dataframe tbody tr th {\n",
       "        vertical-align: top;\n",
       "    }\n",
       "\n",
       "    .dataframe thead th {\n",
       "        text-align: right;\n",
       "    }\n",
       "</style>\n",
       "<table border=\"1\" class=\"dataframe\">\n",
       "  <thead>\n",
       "    <tr style=\"text-align: right;\">\n",
       "      <th></th>\n",
       "      <th>SM300-Efficiency</th>\n",
       "      <th>SM300-Rate</th>\n",
       "      <th>SM300-Lag</th>\n",
       "      <th>SM300-AUC</th>\n",
       "      <th>SM60-Efficiency</th>\n",
       "      <th>SM60-Rate</th>\n",
       "      <th>SM60-Lag</th>\n",
       "      <th>SM60-AUC</th>\n",
       "      <th>Ratio-Efficiency</th>\n",
       "      <th>Ratio-Rate</th>\n",
       "      <th>Ratio-Lag</th>\n",
       "      <th>Ratio-AUC</th>\n",
       "      <th>seq</th>\n",
       "    </tr>\n",
       "  </thead>\n",
       "  <tbody>\n",
       "    <tr>\n",
       "      <th>0</th>\n",
       "      <td>0.74335</td>\n",
       "      <td>0.030697</td>\n",
       "      <td>8.521643</td>\n",
       "      <td>17.545159</td>\n",
       "      <td>0.623385</td>\n",
       "      <td>0.017588</td>\n",
       "      <td>7.171276</td>\n",
       "      <td>12.136119</td>\n",
       "      <td>0.859312</td>\n",
       "      <td>0.600287</td>\n",
       "      <td>0.841906</td>\n",
       "      <td>0.709660</td>\n",
       "      <td>g</td>\n",
       "    </tr>\n",
       "    <tr>\n",
       "      <th>1</th>\n",
       "      <td>0.80015</td>\n",
       "      <td>0.036165</td>\n",
       "      <td>9.615500</td>\n",
       "      <td>19.095000</td>\n",
       "      <td>0.597600</td>\n",
       "      <td>0.017305</td>\n",
       "      <td>7.926500</td>\n",
       "      <td>11.465000</td>\n",
       "      <td>0.750602</td>\n",
       "      <td>0.477050</td>\n",
       "      <td>0.819538</td>\n",
       "      <td>0.598195</td>\n",
       "      <td>k</td>\n",
       "    </tr>\n",
       "    <tr>\n",
       "      <th>2</th>\n",
       "      <td>0.67160</td>\n",
       "      <td>0.025450</td>\n",
       "      <td>7.878000</td>\n",
       "      <td>15.600000</td>\n",
       "      <td>0.815800</td>\n",
       "      <td>0.022250</td>\n",
       "      <td>8.180000</td>\n",
       "      <td>15.070000</td>\n",
       "      <td>1.214711</td>\n",
       "      <td>0.874263</td>\n",
       "      <td>1.038335</td>\n",
       "      <td>0.966026</td>\n",
       "      <td>t</td>\n",
       "    </tr>\n",
       "  </tbody>\n",
       "</table>\n",
       "</div>"
      ],
      "text/plain": [
       "   SM300-Efficiency  SM300-Rate  SM300-Lag  SM300-AUC  SM60-Efficiency  \\\n",
       "0           0.74335    0.030697   8.521643  17.545159         0.623385   \n",
       "1           0.80015    0.036165   9.615500  19.095000         0.597600   \n",
       "2           0.67160    0.025450   7.878000  15.600000         0.815800   \n",
       "\n",
       "   SM60-Rate  SM60-Lag   SM60-AUC  Ratio-Efficiency  Ratio-Rate  Ratio-Lag  \\\n",
       "0   0.017588  7.171276  12.136119          0.859312    0.600287   0.841906   \n",
       "1   0.017305  7.926500  11.465000          0.750602    0.477050   0.819538   \n",
       "2   0.022250  8.180000  15.070000          1.214711    0.874263   1.038335   \n",
       "\n",
       "   Ratio-AUC seq  \n",
       "0   0.709660   g  \n",
       "1   0.598195   k  \n",
       "2   0.966026   t  "
      ]
     },
     "execution_count": 52,
     "metadata": {},
     "output_type": "execute_result"
    }
   ],
   "source": [
    "# print(anova_data[anova_data.iloc[:, 15] == gen].mean(numeric_only=True))\n",
    "# test = anova_data[anova_data.iloc[:, 15] == gen].mean(numeric_only=True)\n",
    "# type(test)\n",
    "# print(prev_data)\n",
    "df_to_test = pd.DataFrame(prev_data)\n",
    "df_to_test.head()"
   ]
  },
  {
   "cell_type": "code",
   "execution_count": 53,
   "id": "c13877cb-4159-4802-a2ba-742db4ce36bf",
   "metadata": {},
   "outputs": [
    {
     "name": "stdout",
     "output_type": "stream",
     "text": [
      "159.51505151891865 1.175897341520585e-19\n"
     ]
    }
   ],
   "source": [
    "fvalue, pvalue = stats.f_oneway(df_to_test['SM300-Efficiency'], df_to_test['SM300-Rate'], df_to_test['SM300-Lag'], df_to_test['SM300-AUC'],\n",
    "                                df_to_test['SM60-Efficiency'],  df_to_test['SM60-Rate'],  df_to_test['SM60-Lag'],  df_to_test['SM60-AUC'],\n",
    "                                df_to_test['Ratio-Efficiency'], df_to_test['Ratio-Rate'], df_to_test['Ratio-Lag'], df_to_test['Ratio-AUC'])\n",
    "print(fvalue, pvalue)"
   ]
  },
  {
   "cell_type": "code",
   "execution_count": 54,
   "id": "da960e95-da64-4ab7-bbdf-5102397d9157",
   "metadata": {},
   "outputs": [
    {
     "name": "stdout",
     "output_type": "stream",
     "text": [
      "206.82301307682235 6.428388157222915e-08\n"
     ]
    }
   ],
   "source": [
    "fvalue, pvalue = stats.f_oneway(df_to_test['SM300-Efficiency'], df_to_test['SM300-Rate'], df_to_test['SM300-Lag'], df_to_test['SM300-AUC'])\n",
    "print(fvalue, pvalue)"
   ]
  },
  {
   "cell_type": "markdown",
   "id": "954c1639-22c0-4f31-aa4e-c9fe6db2e204",
   "metadata": {},
   "source": [
    "### ===================================================="
   ]
  },
  {
   "cell_type": "markdown",
   "id": "f04389c3-972c-4273-ba40-a7edf090b477",
   "metadata": {},
   "source": [
    "Obtengo un set haciendo la interseccion entre la columna y los data_ids."
   ]
  },
  {
   "cell_type": "code",
   "execution_count": 19,
   "id": "7439a94e-330c-4ea8-b6b2-aa80c03881cb",
   "metadata": {},
   "outputs": [
    {
     "data": {
      "text/plain": [
       "947"
      ]
     },
     "execution_count": 19,
     "metadata": {},
     "output_type": "execute_result"
    }
   ],
   "source": [
    "# uniques_data_ids = set(phenotypes_df['Standard']).intersection(data_ids)\n",
    "# len(uniques_data_ids)"
   ]
  },
  {
   "cell_type": "code",
   "execution_count": 20,
   "id": "98e3d92c-cae8-4f23-8b02-0e167cf92865",
   "metadata": {},
   "outputs": [],
   "source": [
    "# selected_seq = []\n",
    "# rows = len(uniques_data_ids)\n",
    "\n",
    "\n",
    "\n",
    "# for id in uniques_data_ids:\n",
    "    \n",
    "\n",
    "# for i in range(rows):\n",
    "#     if data[i].id in uniques_data_ids:\n",
    "#         x = {}\n",
    "#         x['id'] = data[i].id\n",
    "#         x['value'] = data[i][0]\n",
    "        \n",
    "#         selected_seq.append(x)"
   ]
  },
  {
   "cell_type": "code",
   "execution_count": 21,
   "id": "4c3d7e73-d8d5-423b-8125-5809081ecbd3",
   "metadata": {},
   "outputs": [],
   "source": [
    "#print(selected_seq)"
   ]
  },
  {
   "cell_type": "markdown",
   "id": "15c3b967-7346-461a-8227-629908182f97",
   "metadata": {},
   "source": [
    "Creamos el dataframe con el que haremos el ANOVA"
   ]
  },
  {
   "cell_type": "code",
   "execution_count": 22,
   "id": "c9ad4b12-035d-403f-a483-b68bfc0b746a",
   "metadata": {},
   "outputs": [],
   "source": [
    "anova_df = phenotypes_df"
   ]
  },
  {
   "cell_type": "code",
   "execution_count": 23,
   "id": "264e7f27-d797-42d2-ae65-03937c1eb8e2",
   "metadata": {},
   "outputs": [],
   "source": [
    "# for id in uniques_data_ids:\n",
    "#     if anova_df[anova_df[\"Standard\"] == id]:\n",
    "#         print(id)\n",
    "        \n",
    "selected_seq = []\n",
    "for id_dataframe in anova_df[\"Standard\"]:\n",
    "    for row in data:\n",
    "        if id_dataframe == row.id:\n",
    "            selected_seq.append(row[0])\n",
    "            #print(f\"anova_df: {id_dataframe} ; data: {row[0]}\")\n",
    "\n",
    "#print(selected_seq)"
   ]
  },
  {
   "cell_type": "code",
   "execution_count": 24,
   "id": "8b729d9d-5586-41c2-91bd-302a5a5ad544",
   "metadata": {},
   "outputs": [],
   "source": [
    "anova_df.insert(anova_df.shape[1], 'seq', selected_seq)"
   ]
  },
  {
   "cell_type": "code",
   "execution_count": 25,
   "id": "7cb94cf4-e4cf-4726-bceb-f4f1fc15c36d",
   "metadata": {},
   "outputs": [
    {
     "data": {
      "text/html": [
       "<div>\n",
       "<style scoped>\n",
       "    .dataframe tbody tr th:only-of-type {\n",
       "        vertical-align: middle;\n",
       "    }\n",
       "\n",
       "    .dataframe tbody tr th {\n",
       "        vertical-align: top;\n",
       "    }\n",
       "\n",
       "    .dataframe thead th {\n",
       "        text-align: right;\n",
       "    }\n",
       "</style>\n",
       "<table border=\"1\" class=\"dataframe\">\n",
       "  <thead>\n",
       "    <tr style=\"text-align: right;\">\n",
       "      <th></th>\n",
       "      <th>Standard</th>\n",
       "      <th>Haploide-Diploide</th>\n",
       "      <th>SM300-Efficiency</th>\n",
       "      <th>SM300-Rate</th>\n",
       "      <th>SM300-Lag</th>\n",
       "      <th>SM300-AUC</th>\n",
       "      <th>SM60-Efficiency</th>\n",
       "      <th>SM60-Rate</th>\n",
       "      <th>SM60-Lag</th>\n",
       "      <th>SM60-AUC</th>\n",
       "      <th>Ratio-Efficiency</th>\n",
       "      <th>Ratio-Rate</th>\n",
       "      <th>Ratio-Lag</th>\n",
       "      <th>Ratio-AUC</th>\n",
       "      <th>Ecological info</th>\n",
       "      <th>seq</th>\n",
       "    </tr>\n",
       "  </thead>\n",
       "  <tbody>\n",
       "    <tr>\n",
       "      <th>1</th>\n",
       "      <td>AAB</td>\n",
       "      <td>haploide-euploide</td>\n",
       "      <td>0.4400</td>\n",
       "      <td>0.01612</td>\n",
       "      <td>9.220</td>\n",
       "      <td>9.497</td>\n",
       "      <td>0.4115</td>\n",
       "      <td>0.01132</td>\n",
       "      <td>10.390</td>\n",
       "      <td>6.954</td>\n",
       "      <td>0.935227</td>\n",
       "      <td>0.702233</td>\n",
       "      <td>1.126898</td>\n",
       "      <td>0.732231</td>\n",
       "      <td>Domesticated (non-wine)</td>\n",
       "      <td>g</td>\n",
       "    </tr>\n",
       "    <tr>\n",
       "      <th>3</th>\n",
       "      <td>AAD</td>\n",
       "      <td>---</td>\n",
       "      <td>1.0620</td>\n",
       "      <td>0.03776</td>\n",
       "      <td>6.062</td>\n",
       "      <td>25.590</td>\n",
       "      <td>0.6657</td>\n",
       "      <td>0.02605</td>\n",
       "      <td>7.240</td>\n",
       "      <td>15.840</td>\n",
       "      <td>0.626836</td>\n",
       "      <td>0.689883</td>\n",
       "      <td>1.194325</td>\n",
       "      <td>0.618992</td>\n",
       "      <td>Domesticated (non-wine)</td>\n",
       "      <td>g</td>\n",
       "    </tr>\n",
       "    <tr>\n",
       "      <th>4</th>\n",
       "      <td>AAE</td>\n",
       "      <td>haploide-euploide</td>\n",
       "      <td>0.9033</td>\n",
       "      <td>0.03103</td>\n",
       "      <td>9.111</td>\n",
       "      <td>18.860</td>\n",
       "      <td>0.6704</td>\n",
       "      <td>0.01607</td>\n",
       "      <td>6.166</td>\n",
       "      <td>12.300</td>\n",
       "      <td>0.742168</td>\n",
       "      <td>0.517886</td>\n",
       "      <td>0.676764</td>\n",
       "      <td>0.652174</td>\n",
       "      <td>Domesticated (wine)</td>\n",
       "      <td>g</td>\n",
       "    </tr>\n",
       "    <tr>\n",
       "      <th>5</th>\n",
       "      <td>AAG</td>\n",
       "      <td>haploide-euploide</td>\n",
       "      <td>0.5714</td>\n",
       "      <td>0.02492</td>\n",
       "      <td>13.140</td>\n",
       "      <td>11.470</td>\n",
       "      <td>0.3127</td>\n",
       "      <td>0.01012</td>\n",
       "      <td>9.617</td>\n",
       "      <td>6.117</td>\n",
       "      <td>0.547252</td>\n",
       "      <td>0.406100</td>\n",
       "      <td>0.731887</td>\n",
       "      <td>0.533304</td>\n",
       "      <td>Unknown</td>\n",
       "      <td>g</td>\n",
       "    </tr>\n",
       "    <tr>\n",
       "      <th>6</th>\n",
       "      <td>AAH</td>\n",
       "      <td>haploide-euploide</td>\n",
       "      <td>1.1170</td>\n",
       "      <td>0.02765</td>\n",
       "      <td>22.390</td>\n",
       "      <td>8.306</td>\n",
       "      <td>0.7819</td>\n",
       "      <td>0.02157</td>\n",
       "      <td>13.020</td>\n",
       "      <td>11.530</td>\n",
       "      <td>0.700000</td>\n",
       "      <td>0.780108</td>\n",
       "      <td>0.581510</td>\n",
       "      <td>1.388153</td>\n",
       "      <td>Unknown</td>\n",
       "      <td>g</td>\n",
       "    </tr>\n",
       "  </tbody>\n",
       "</table>\n",
       "</div>"
      ],
      "text/plain": [
       "  Standard  Haploide-Diploide  SM300-Efficiency  SM300-Rate  SM300-Lag  \\\n",
       "1      AAB  haploide-euploide            0.4400     0.01612      9.220   \n",
       "3      AAD                ---            1.0620     0.03776      6.062   \n",
       "4      AAE  haploide-euploide            0.9033     0.03103      9.111   \n",
       "5      AAG  haploide-euploide            0.5714     0.02492     13.140   \n",
       "6      AAH  haploide-euploide            1.1170     0.02765     22.390   \n",
       "\n",
       "   SM300-AUC  SM60-Efficiency  SM60-Rate  SM60-Lag  SM60-AUC  \\\n",
       "1      9.497           0.4115    0.01132    10.390     6.954   \n",
       "3     25.590           0.6657    0.02605     7.240    15.840   \n",
       "4     18.860           0.6704    0.01607     6.166    12.300   \n",
       "5     11.470           0.3127    0.01012     9.617     6.117   \n",
       "6      8.306           0.7819    0.02157    13.020    11.530   \n",
       "\n",
       "   Ratio-Efficiency  Ratio-Rate  Ratio-Lag  Ratio-AUC  \\\n",
       "1          0.935227    0.702233   1.126898   0.732231   \n",
       "3          0.626836    0.689883   1.194325   0.618992   \n",
       "4          0.742168    0.517886   0.676764   0.652174   \n",
       "5          0.547252    0.406100   0.731887   0.533304   \n",
       "6          0.700000    0.780108   0.581510   1.388153   \n",
       "\n",
       "           Ecological info seq  \n",
       "1  Domesticated (non-wine)   g  \n",
       "3  Domesticated (non-wine)   g  \n",
       "4      Domesticated (wine)   g  \n",
       "5                  Unknown   g  \n",
       "6                  Unknown   g  "
      ]
     },
     "execution_count": 25,
     "metadata": {},
     "output_type": "execute_result"
    }
   ],
   "source": [
    "anova_df.head()"
   ]
  },
  {
   "cell_type": "markdown",
   "id": "7c114d76-1028-414e-a771-f3924a23b389",
   "metadata": {},
   "source": [
    "Seleccionamos columnas de interés para realizar ANOVA"
   ]
  },
  {
   "cell_type": "code",
   "execution_count": 26,
   "id": "53fae57a-d47b-4104-8c0f-c5d121a47d8d",
   "metadata": {},
   "outputs": [
    {
     "data": {
      "text/plain": [
       "array(['g', 't', 'k'], dtype=object)"
      ]
     },
     "execution_count": 26,
     "metadata": {},
     "output_type": "execute_result"
    }
   ],
   "source": [
    "anova_df.seq.unique()"
   ]
  },
  {
   "cell_type": "code",
   "execution_count": 49,
   "id": "d66ff779-77b6-424d-9cba-93a5d5c2f2d8",
   "metadata": {},
   "outputs": [
    {
     "data": {
      "text/html": [
       "<div>\n",
       "<style scoped>\n",
       "    .dataframe tbody tr th:only-of-type {\n",
       "        vertical-align: middle;\n",
       "    }\n",
       "\n",
       "    .dataframe tbody tr th {\n",
       "        vertical-align: top;\n",
       "    }\n",
       "\n",
       "    .dataframe thead th {\n",
       "        text-align: right;\n",
       "    }\n",
       "</style>\n",
       "<table border=\"1\" class=\"dataframe\">\n",
       "  <thead>\n",
       "    <tr style=\"text-align: right;\">\n",
       "      <th></th>\n",
       "      <th>seq</th>\n",
       "      <th>SM300-Efficiency</th>\n",
       "      <th>SM300-Rate</th>\n",
       "      <th>SM300-Lag</th>\n",
       "      <th>SM300-AUC</th>\n",
       "      <th>SM60-Efficiency</th>\n",
       "      <th>SM60-Rate</th>\n",
       "      <th>SM60-Lag</th>\n",
       "      <th>SM60-AUC</th>\n",
       "      <th>Ratio-Efficiency</th>\n",
       "      <th>Ratio-Rate</th>\n",
       "      <th>Ratio-Lag</th>\n",
       "      <th>Ratio-AUC</th>\n",
       "    </tr>\n",
       "  </thead>\n",
       "  <tbody>\n",
       "    <tr>\n",
       "      <th>0</th>\n",
       "      <td>g</td>\n",
       "      <td>0.742807</td>\n",
       "      <td>0.030674</td>\n",
       "      <td>8.520706</td>\n",
       "      <td>17.532882</td>\n",
       "      <td>0.622912</td>\n",
       "      <td>0.017565</td>\n",
       "      <td>7.172336</td>\n",
       "      <td>12.121723</td>\n",
       "      <td>0.859324</td>\n",
       "      <td>0.600017</td>\n",
       "      <td>0.842111</td>\n",
       "      <td>0.709315</td>\n",
       "    </tr>\n",
       "    <tr>\n",
       "      <th>1</th>\n",
       "      <td>t</td>\n",
       "      <td>1.123000</td>\n",
       "      <td>0.051470</td>\n",
       "      <td>9.042000</td>\n",
       "      <td>27.520000</td>\n",
       "      <td>0.806900</td>\n",
       "      <td>0.024010</td>\n",
       "      <td>8.964000</td>\n",
       "      <td>15.240000</td>\n",
       "      <td>0.718522</td>\n",
       "      <td>0.466485</td>\n",
       "      <td>0.991374</td>\n",
       "      <td>0.553779</td>\n",
       "    </tr>\n",
       "    <tr>\n",
       "      <th>2</th>\n",
       "      <td>k</td>\n",
       "      <td>0.830750</td>\n",
       "      <td>0.034025</td>\n",
       "      <td>9.476000</td>\n",
       "      <td>18.930000</td>\n",
       "      <td>0.825150</td>\n",
       "      <td>0.027370</td>\n",
       "      <td>7.034500</td>\n",
       "      <td>18.175000</td>\n",
       "      <td>0.993440</td>\n",
       "      <td>0.808315</td>\n",
       "      <td>0.746644</td>\n",
       "      <td>0.967409</td>\n",
       "    </tr>\n",
       "  </tbody>\n",
       "</table>\n",
       "</div>"
      ],
      "text/plain": [
       "  seq  SM300-Efficiency  SM300-Rate  SM300-Lag  SM300-AUC  SM60-Efficiency  \\\n",
       "0   g          0.742807    0.030674   8.520706  17.532882         0.622912   \n",
       "1   t          1.123000    0.051470   9.042000  27.520000         0.806900   \n",
       "2   k          0.830750    0.034025   9.476000  18.930000         0.825150   \n",
       "\n",
       "   SM60-Rate  SM60-Lag   SM60-AUC  Ratio-Efficiency  Ratio-Rate  Ratio-Lag  \\\n",
       "0   0.017565  7.172336  12.121723          0.859324    0.600017   0.842111   \n",
       "1   0.024010  8.964000  15.240000          0.718522    0.466485   0.991374   \n",
       "2   0.027370  7.034500  18.175000          0.993440    0.808315   0.746644   \n",
       "\n",
       "   Ratio-AUC  \n",
       "0   0.709315  \n",
       "1   0.553779  \n",
       "2   0.967409  "
      ]
     },
     "execution_count": 49,
     "metadata": {},
     "output_type": "execute_result"
    }
   ],
   "source": [
    "g_mean = anova_df[anova_df['seq'] == 'g'].mean(numeric_only=True)\n",
    "t_mean = anova_df[anova_df['seq'] == 't'].mean(numeric_only=True)\n",
    "k_mean = anova_df[anova_df['seq'] == 'k'].mean(numeric_only=True)\n",
    "\n",
    "prev_data = {\n",
    "    'seq': ['g', 't', 'k'],\n",
    "    'SM300-Efficiency': [g_mean['SM300-Efficiency'], t_mean['SM300-Efficiency'], k_mean['SM300-Efficiency']],\n",
    "    'SM300-Rate':       [g_mean['SM300-Rate'],       t_mean['SM300-Rate'],       k_mean['SM300-Rate']],\n",
    "    'SM300-Lag':        [g_mean['SM300-Lag'],        t_mean['SM300-Lag'],        k_mean['SM300-Lag']],\n",
    "    'SM300-AUC':        [g_mean['SM300-AUC'],        t_mean['SM300-AUC'],        k_mean['SM300-AUC']],\n",
    "    'SM60-Efficiency':  [g_mean['SM60-Efficiency'],  t_mean['SM60-Efficiency'],  k_mean['SM60-Efficiency']],\n",
    "    'SM60-Rate':        [g_mean['SM60-Rate'],        t_mean['SM60-Rate'],        k_mean['SM60-Rate']],\n",
    "    'SM60-Lag':         [g_mean['SM60-Lag'],         t_mean['SM60-Lag'],         k_mean['SM60-Lag']],\n",
    "    'SM60-AUC':         [g_mean['SM60-AUC'],         t_mean['SM60-AUC'],         k_mean['SM60-AUC']],\n",
    "    'Ratio-Efficiency': [g_mean['Ratio-Efficiency'], t_mean['Ratio-Efficiency'], k_mean['Ratio-Efficiency']],\n",
    "    'Ratio-Rate':       [g_mean['Ratio-Rate'],       t_mean['Ratio-Rate'],       k_mean['Ratio-Rate']],\n",
    "    'Ratio-Lag':        [g_mean['Ratio-Lag'],        t_mean['Ratio-Lag'],        k_mean['Ratio-Lag']],\n",
    "    'Ratio-AUC':        [g_mean['Ratio-AUC'],        t_mean['Ratio-AUC'],        k_mean['Ratio-AUC']],\n",
    "}\n",
    "\n",
    "# y_mean = anova_df[anova_df['seq'] == 'y'].mean()\n",
    "# t_mean = anova_df[anova_df['seq'] == 't'].mean()\n",
    "\n",
    "# prev_data = {\n",
    "#     'seq': ['t', 'y'],\n",
    "#     'SM300-Efficiency': [t_mean['SM300-Efficiency'], y_mean['SM300-Efficiency']],\n",
    "#     'SM300-Rate':       [t_mean['SM300-Rate'],       y_mean['SM300-Rate']],\n",
    "#     'SM300-Lag':        [t_mean['SM300-Lag'],        y_mean['SM300-Lag']],\n",
    "#     'SM300-AUC':        [t_mean['SM300-AUC'],        y_mean['SM300-AUC']],\n",
    "#     'SM60-Efficiency':  [t_mean['SM60-Efficiency'],  y_mean['SM60-Efficiency']],\n",
    "#     'SM60-Rate':        [t_mean['SM60-Rate'],        y_mean['SM60-Rate']],\n",
    "#     'SM60-Lag':         [t_mean['SM60-Lag'],         y_mean['SM60-Lag']],\n",
    "#     'SM60-AUC':         [t_mean['SM60-AUC'],         y_mean['SM60-AUC']],\n",
    "#     'Ratio-Efficiency': [t_mean['Ratio-Efficiency'], y_mean['Ratio-Efficiency']],\n",
    "#     'Ratio-Rate':       [t_mean['Ratio-Rate'],       y_mean['Ratio-Rate']],\n",
    "#     'Ratio-Lag':        [t_mean['Ratio-Lag'],        y_mean['Ratio-Lag']],\n",
    "#     'Ratio-AUC':        [t_mean['Ratio-AUC'],        y_mean['Ratio-AUC']],\n",
    "# }\n",
    "\n",
    "anova2 = pd.DataFrame(prev_data)\n",
    "anova2.head()\n"
   ]
  },
  {
   "cell_type": "code",
   "execution_count": 50,
   "id": "7a4078dc-5ae7-451d-9789-da323578116e",
   "metadata": {},
   "outputs": [
    {
     "name": "stdout",
     "output_type": "stream",
     "text": [
      "44.98367895449646 2.6949036408909837e-13\n"
     ]
    }
   ],
   "source": [
    "fvalue, pvalue = stats.f_oneway(anova2['SM300-Efficiency'], anova2['SM300-Rate'], anova2['SM300-Lag'], anova2['SM300-AUC'],\n",
    "                                anova2['SM60-Efficiency'], anova2['SM60-Rate'], anova2['SM60-Lag'], anova2['SM60-AUC'],\n",
    "                                anova2['Ratio-Efficiency'], anova2['Ratio-Rate'], anova2['Ratio-Lag'], anova2['Ratio-AUC'])\n",
    "print(fvalue, pvalue)"
   ]
  },
  {
   "cell_type": "code",
   "execution_count": 31,
   "id": "41f7dffa-866a-4ac0-aafb-1fdf00ca81bc",
   "metadata": {},
   "outputs": [
    {
     "data": {
      "text/html": [
       "<div>\n",
       "<style scoped>\n",
       "    .dataframe tbody tr th:only-of-type {\n",
       "        vertical-align: middle;\n",
       "    }\n",
       "\n",
       "    .dataframe tbody tr th {\n",
       "        vertical-align: top;\n",
       "    }\n",
       "\n",
       "    .dataframe thead th {\n",
       "        text-align: right;\n",
       "    }\n",
       "</style>\n",
       "<table border=\"1\" class=\"dataframe\">\n",
       "  <thead>\n",
       "    <tr style=\"text-align: right;\">\n",
       "      <th></th>\n",
       "      <th>SM300-Efficiency</th>\n",
       "      <th>SM300-Rate</th>\n",
       "      <th>SM300-Lag</th>\n",
       "      <th>SM300-AUC</th>\n",
       "      <th>SM60-Efficiency</th>\n",
       "      <th>SM60-Rate</th>\n",
       "      <th>SM60-Lag</th>\n",
       "      <th>SM60-AUC</th>\n",
       "      <th>Ratio-Efficiency</th>\n",
       "      <th>Ratio-Rate</th>\n",
       "      <th>Ratio-Lag</th>\n",
       "      <th>Ratio-AUC</th>\n",
       "      <th>seq</th>\n",
       "    </tr>\n",
       "  </thead>\n",
       "  <tbody>\n",
       "    <tr>\n",
       "      <th>1</th>\n",
       "      <td>0.4400</td>\n",
       "      <td>0.01612</td>\n",
       "      <td>9.220</td>\n",
       "      <td>9.497</td>\n",
       "      <td>0.4115</td>\n",
       "      <td>0.01132</td>\n",
       "      <td>10.390</td>\n",
       "      <td>6.954</td>\n",
       "      <td>0.935227</td>\n",
       "      <td>0.702233</td>\n",
       "      <td>1.126898</td>\n",
       "      <td>0.732231</td>\n",
       "      <td>g</td>\n",
       "    </tr>\n",
       "    <tr>\n",
       "      <th>3</th>\n",
       "      <td>1.0620</td>\n",
       "      <td>0.03776</td>\n",
       "      <td>6.062</td>\n",
       "      <td>25.590</td>\n",
       "      <td>0.6657</td>\n",
       "      <td>0.02605</td>\n",
       "      <td>7.240</td>\n",
       "      <td>15.840</td>\n",
       "      <td>0.626836</td>\n",
       "      <td>0.689883</td>\n",
       "      <td>1.194325</td>\n",
       "      <td>0.618992</td>\n",
       "      <td>g</td>\n",
       "    </tr>\n",
       "    <tr>\n",
       "      <th>4</th>\n",
       "      <td>0.9033</td>\n",
       "      <td>0.03103</td>\n",
       "      <td>9.111</td>\n",
       "      <td>18.860</td>\n",
       "      <td>0.6704</td>\n",
       "      <td>0.01607</td>\n",
       "      <td>6.166</td>\n",
       "      <td>12.300</td>\n",
       "      <td>0.742168</td>\n",
       "      <td>0.517886</td>\n",
       "      <td>0.676764</td>\n",
       "      <td>0.652174</td>\n",
       "      <td>g</td>\n",
       "    </tr>\n",
       "    <tr>\n",
       "      <th>5</th>\n",
       "      <td>0.5714</td>\n",
       "      <td>0.02492</td>\n",
       "      <td>13.140</td>\n",
       "      <td>11.470</td>\n",
       "      <td>0.3127</td>\n",
       "      <td>0.01012</td>\n",
       "      <td>9.617</td>\n",
       "      <td>6.117</td>\n",
       "      <td>0.547252</td>\n",
       "      <td>0.406100</td>\n",
       "      <td>0.731887</td>\n",
       "      <td>0.533304</td>\n",
       "      <td>g</td>\n",
       "    </tr>\n",
       "    <tr>\n",
       "      <th>6</th>\n",
       "      <td>1.1170</td>\n",
       "      <td>0.02765</td>\n",
       "      <td>22.390</td>\n",
       "      <td>8.306</td>\n",
       "      <td>0.7819</td>\n",
       "      <td>0.02157</td>\n",
       "      <td>13.020</td>\n",
       "      <td>11.530</td>\n",
       "      <td>0.700000</td>\n",
       "      <td>0.780108</td>\n",
       "      <td>0.581510</td>\n",
       "      <td>1.388153</td>\n",
       "      <td>g</td>\n",
       "    </tr>\n",
       "    <tr>\n",
       "      <th>...</th>\n",
       "      <td>...</td>\n",
       "      <td>...</td>\n",
       "      <td>...</td>\n",
       "      <td>...</td>\n",
       "      <td>...</td>\n",
       "      <td>...</td>\n",
       "      <td>...</td>\n",
       "      <td>...</td>\n",
       "      <td>...</td>\n",
       "      <td>...</td>\n",
       "      <td>...</td>\n",
       "      <td>...</td>\n",
       "      <td>...</td>\n",
       "    </tr>\n",
       "    <tr>\n",
       "      <th>986</th>\n",
       "      <td>0.9388</td>\n",
       "      <td>0.03685</td>\n",
       "      <td>8.016</td>\n",
       "      <td>22.120</td>\n",
       "      <td>0.9171</td>\n",
       "      <td>0.03812</td>\n",
       "      <td>6.137</td>\n",
       "      <td>12.010</td>\n",
       "      <td>0.976885</td>\n",
       "      <td>1.034464</td>\n",
       "      <td>0.765594</td>\n",
       "      <td>0.542948</td>\n",
       "      <td>g</td>\n",
       "    </tr>\n",
       "    <tr>\n",
       "      <th>987</th>\n",
       "      <td>0.7786</td>\n",
       "      <td>0.03354</td>\n",
       "      <td>6.953</td>\n",
       "      <td>20.020</td>\n",
       "      <td>0.5408</td>\n",
       "      <td>0.01095</td>\n",
       "      <td>7.606</td>\n",
       "      <td>8.117</td>\n",
       "      <td>0.694580</td>\n",
       "      <td>0.326476</td>\n",
       "      <td>1.093916</td>\n",
       "      <td>0.405445</td>\n",
       "      <td>g</td>\n",
       "    </tr>\n",
       "    <tr>\n",
       "      <th>1008</th>\n",
       "      <td>0.8823</td>\n",
       "      <td>0.03675</td>\n",
       "      <td>10.080</td>\n",
       "      <td>19.760</td>\n",
       "      <td>0.7659</td>\n",
       "      <td>0.02743</td>\n",
       "      <td>10.740</td>\n",
       "      <td>15.270</td>\n",
       "      <td>0.868072</td>\n",
       "      <td>0.746395</td>\n",
       "      <td>1.065476</td>\n",
       "      <td>0.772773</td>\n",
       "      <td>g</td>\n",
       "    </tr>\n",
       "    <tr>\n",
       "      <th>1009</th>\n",
       "      <td>0.5738</td>\n",
       "      <td>0.02647</td>\n",
       "      <td>8.164</td>\n",
       "      <td>14.610</td>\n",
       "      <td>0.4249</td>\n",
       "      <td>0.01096</td>\n",
       "      <td>8.709</td>\n",
       "      <td>7.282</td>\n",
       "      <td>0.740502</td>\n",
       "      <td>0.414054</td>\n",
       "      <td>1.066756</td>\n",
       "      <td>0.498426</td>\n",
       "      <td>g</td>\n",
       "    </tr>\n",
       "    <tr>\n",
       "      <th>1010</th>\n",
       "      <td>0.8967</td>\n",
       "      <td>0.03098</td>\n",
       "      <td>9.080</td>\n",
       "      <td>18.790</td>\n",
       "      <td>0.8063</td>\n",
       "      <td>0.01906</td>\n",
       "      <td>8.889</td>\n",
       "      <td>12.960</td>\n",
       "      <td>0.899186</td>\n",
       "      <td>0.615236</td>\n",
       "      <td>0.978965</td>\n",
       "      <td>0.689729</td>\n",
       "      <td>g</td>\n",
       "    </tr>\n",
       "  </tbody>\n",
       "</table>\n",
       "<p>947 rows × 13 columns</p>\n",
       "</div>"
      ],
      "text/plain": [
       "      SM300-Efficiency  SM300-Rate  SM300-Lag  SM300-AUC  SM60-Efficiency  \\\n",
       "1               0.4400     0.01612      9.220      9.497           0.4115   \n",
       "3               1.0620     0.03776      6.062     25.590           0.6657   \n",
       "4               0.9033     0.03103      9.111     18.860           0.6704   \n",
       "5               0.5714     0.02492     13.140     11.470           0.3127   \n",
       "6               1.1170     0.02765     22.390      8.306           0.7819   \n",
       "...                ...         ...        ...        ...              ...   \n",
       "986             0.9388     0.03685      8.016     22.120           0.9171   \n",
       "987             0.7786     0.03354      6.953     20.020           0.5408   \n",
       "1008            0.8823     0.03675     10.080     19.760           0.7659   \n",
       "1009            0.5738     0.02647      8.164     14.610           0.4249   \n",
       "1010            0.8967     0.03098      9.080     18.790           0.8063   \n",
       "\n",
       "      SM60-Rate  SM60-Lag  SM60-AUC  Ratio-Efficiency  Ratio-Rate  Ratio-Lag  \\\n",
       "1       0.01132    10.390     6.954          0.935227    0.702233   1.126898   \n",
       "3       0.02605     7.240    15.840          0.626836    0.689883   1.194325   \n",
       "4       0.01607     6.166    12.300          0.742168    0.517886   0.676764   \n",
       "5       0.01012     9.617     6.117          0.547252    0.406100   0.731887   \n",
       "6       0.02157    13.020    11.530          0.700000    0.780108   0.581510   \n",
       "...         ...       ...       ...               ...         ...        ...   \n",
       "986     0.03812     6.137    12.010          0.976885    1.034464   0.765594   \n",
       "987     0.01095     7.606     8.117          0.694580    0.326476   1.093916   \n",
       "1008    0.02743    10.740    15.270          0.868072    0.746395   1.065476   \n",
       "1009    0.01096     8.709     7.282          0.740502    0.414054   1.066756   \n",
       "1010    0.01906     8.889    12.960          0.899186    0.615236   0.978965   \n",
       "\n",
       "      Ratio-AUC seq  \n",
       "1      0.732231   g  \n",
       "3      0.618992   g  \n",
       "4      0.652174   g  \n",
       "5      0.533304   g  \n",
       "6      1.388153   g  \n",
       "...         ...  ..  \n",
       "986    0.542948   g  \n",
       "987    0.405445   g  \n",
       "1008   0.772773   g  \n",
       "1009   0.498426   g  \n",
       "1010   0.689729   g  \n",
       "\n",
       "[947 rows x 13 columns]"
      ]
     },
     "execution_count": 31,
     "metadata": {},
     "output_type": "execute_result"
    }
   ],
   "source": [
    "test_anova = anova_df.iloc[:, 2:14]\n",
    "test_anova['seq'] = anova_df.iloc[:, 15]\n",
    "test_anova.reset_index()\n",
    "test_anova"
   ]
  },
  {
   "cell_type": "code",
   "execution_count": 29,
   "id": "e8a889ea-f32f-4c2d-b8ec-df76f3f30e0d",
   "metadata": {},
   "outputs": [
    {
     "name": "stdout",
     "output_type": "stream",
     "text": [
      "5317.907701616452 0.0\n"
     ]
    }
   ],
   "source": [
    "fvalue, pvalue = stats.f_oneway(test_anova['SM300-Efficiency'], test_anova['SM300-Rate'], test_anova['SM300-Lag'], test_anova['SM300-AUC'],\n",
    "                                test_anova['SM60-Efficiency'], test_anova['SM60-Rate'], test_anova['SM60-Lag'], test_anova['SM60-AUC'],\n",
    "                                test_anova['Ratio-Efficiency'], test_anova['Ratio-Rate'], test_anova['Ratio-Lag'], test_anova['Ratio-AUC'])\n",
    "print(fvalue, pvalue)"
   ]
  },
  {
   "cell_type": "code",
   "execution_count": null,
   "id": "3564ca34-48c7-494a-98bc-167418dba84a",
   "metadata": {},
   "outputs": [],
   "source": []
  }
 ],
 "metadata": {
  "kernelspec": {
   "display_name": "Python 3 (ipykernel)",
   "language": "python",
   "name": "python3"
  },
  "language_info": {
   "codemirror_mode": {
    "name": "ipython",
    "version": 3
   },
   "file_extension": ".py",
   "mimetype": "text/x-python",
   "name": "python",
   "nbconvert_exporter": "python",
   "pygments_lexer": "ipython3",
   "version": "3.10.1"
  }
 },
 "nbformat": 4,
 "nbformat_minor": 5
}
