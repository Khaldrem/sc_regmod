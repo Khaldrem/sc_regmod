{
 "cells": [
  {
   "cell_type": "markdown",
   "metadata": {},
   "source": [
    "Realiza la funcion de tomar los datos originales y remover las columnas\n",
    "que no presenten variacion en sus bases. Es decir, si una columna se conforma\n",
    "de la siguiente manera:\n",
    "\n",
    "[g, g, g, g, g,g ] -> se elimina\n",
    "\n",
    "[g, g, g, g, g,a ] -> no se elimina\n",
    "\n",
    "Considerar filas eliminadas del archivo fenotipos.csv"
   ]
  },
  {
   "cell_type": "code",
   "execution_count": 1,
   "metadata": {},
   "outputs": [],
   "source": [
    "#Imports\n",
    "\n",
    "import os, sys\n",
    "path_to_package = os.path.abspath(os.path.join('../..'))\n",
    "if path_to_package not in sys.path:\n",
    "    sys.path.append(path_to_package)\n",
    "\n",
    "\n",
    "from src.io import *\n",
    "from src.utils import *\n",
    "from src.filters import *\n",
    "from src.indexes import *"
   ]
  },
  {
   "cell_type": "code",
   "execution_count": 2,
   "metadata": {},
   "outputs": [],
   "source": [
    "# PATH DEFINITIONS\n",
    "if check_working_os():\n",
    "    ORIGINAL_DATASET_PATH = \"/home/khaldrem/code/sc_regmod/dataset/original\"\n",
    "    CLEAN_DATASET_PATH = \"/home/khaldrem/code/sc_regmod/dataset/clean\"\n",
    "    ELIMINATED_ROW_JSON_PATH = \"/home/khaldrem/code/sc_regmod/dataset/phenotypes\"\n",
    "    INDEX_PATH = \"/home/khaldrem/code/sc_regmod/dataset/index\"\n",
    "\n",
    "else:\n",
    "    ORIGINAL_DATASET_PATH = \"C:\\\\Users\\\\Hector\\\\Desktop\\\\code\\\\sc_regmod\\\\dataset\\\\original\"\n",
    "    CLEAN_DATASET_PATH = \"C:\\\\Users\\\\Hector\\\\Desktop\\\\code\\\\sc_regmod\\\\dataset\\\\clean\"\n",
    "    ELIMINATED_ROW_JSON_PATH = \"C:\\\\Users\\\\Hector\\\\Desktop\\\\code\\\\sc_regmod\\\\dataset\\\\phenotypes\"\n",
    "    INDEX_PATH = \"C:\\\\Users\\\\Hector\\\\Desktop\\\\code\\\\sc_regmod\\\\dataset\\\\index\""
   ]
  },
  {
   "cell_type": "code",
   "execution_count": 3,
   "metadata": {},
   "outputs": [],
   "source": [
    "#Cargar json\n",
    "json_row_data = load_json(ELIMINATED_ROW_JSON_PATH, \"eliminated_rows\") \n"
   ]
  },
  {
   "cell_type": "code",
   "execution_count": null,
   "metadata": {},
   "outputs": [],
   "source": [
    "#ETA: 44min\n",
    "#Por cada archivo, realizar la limpieza\n",
    "\n",
    "filepaths = get_filepaths(ORIGINAL_DATASET_PATH)\n",
    "for fp in filepaths:\n",
    "    data, index_cols = clean_data(fp, json_row_data[\"ids\"])\n",
    "    filename = get_filename(fp)\n",
    "\n",
    "    #Que index_cols sea disntinto de vacio significa que el archivo\n",
    "    #presenta columnas con al menos 2 bases. \n",
    "    #No escribiremos archivos que no posean ningun cambio\n",
    "    if index_cols != []:\n",
    "        # Guardo las columnas posiciones originales \n",
    "        # de las columnas que quedaron\n",
    "        insert_col_positions_data(index_cols, \"clean\", INDEX_PATH, filename)\n",
    "\n",
    "        #Guardo el archivo phylip resultante\n",
    "        write_phylip_file(data, CLEAN_DATASET_PATH, filename)\n",
    "    "
   ]
  },
  {
   "cell_type": "markdown",
   "metadata": {},
   "source": [
    "```text\n",
    "File: YLR159W todas sus columnas poseen un solo caracter.\n",
    "File: YAR060C todas sus columnas poseen un solo caracter.\n",
    "File: YEL076C todas sus columnas poseen un solo caracter.\n",
    "File: YPR203W todas sus columnas poseen un solo caracter.\n",
    "File: YBL111C todas sus columnas poseen un solo caracter.\n",
    "File: YLR466W todas sus columnas poseen un solo caracter.\n",
    "File: YIL176C todas sus columnas poseen un solo caracter.\n",
    "File: YLR156W todas sus columnas poseen un solo caracter.\n",
    "File: YIL173W todas sus columnas poseen un solo caracter.\n",
    "File: YPL282C todas sus columnas poseen un solo caracter.\n",
    "File: YLR464W todas sus columnas poseen un solo caracter.\n",
    "File: YDR545W todas sus columnas poseen un solo caracter.\n",
    "File: YDL246C todas sus columnas poseen un solo caracter.\n",
    "File: YFL068W todas sus columnas poseen un solo caracter.\n",
    "File: YDR039C todas sus columnas poseen un solo caracter.\n",
    "File: YOR396W todas sus columnas poseen un solo caracter.\n",
    "File: YJR158W todas sus columnas poseen un solo caracter.\n",
    "File: YLR158C todas sus columnas poseen un solo caracter.\n",
    "File: YIL172C todas sus columnas poseen un solo caracter.\n",
    "File: YHR214W todas sus columnas poseen un solo caracter.\n",
    "File: YGR296W todas sus columnas poseen un solo caracter.\n",
    "File: YLR157C todas sus columnas poseen un solo caracter.\n",
    "File: YLR467W todas sus columnas poseen un solo caracter.\n",
    "File: YNL339C todas sus columnas poseen un solo caracter.\n",
    "File: YOR394W todas sus columnas poseen un solo caracter.\n",
    "File: YCL067C todas sus columnas poseen un solo caracter.\n",
    "File: YML133C todas sus columnas poseen un solo caracter.\n",
    "File: YPL283C todas sus columnas poseen un solo caracter.\n",
    "File: YEL075C todas sus columnas poseen un solo caracter.\n",
    "File: YHR218W todas sus columnas poseen un solo caracter.\n",
    "File: YHR212C todas sus columnas poseen un solo caracter.\n",
    "File: YHR213W todas sus columnas poseen un solo caracter.\n",
    "File: YJL223C todas sus columnas poseen un solo caracter.\n",
    "File: YJL225C todas sus columnas poseen un solo caracter.\n",
    "File: YLR160C todas sus columnas poseen un solo caracter.\n",
    "File: YIL177C todas sus columnas poseen un solo caracter.\n",
    "File: YLR155C todas sus columnas poseen un solo caracter.\n",
    "File: YLR465C todas sus columnas poseen un solo caracter.\n",
    "```"
   ]
  }
 ],
 "metadata": {
  "interpreter": {
   "hash": "0c553806f052202d33c4aa0bba9e6ab658aab5d30cc44140daa08f372e9629d7"
  },
  "kernelspec": {
   "display_name": "Python 3.10.4 ('.env': venv)",
   "language": "python",
   "name": "python3"
  },
  "language_info": {
   "codemirror_mode": {
    "name": "ipython",
    "version": 3
   },
   "file_extension": ".py",
   "mimetype": "text/x-python",
   "name": "python",
   "nbconvert_exporter": "python",
   "pygments_lexer": "ipython3",
   "version": "3.10.4"
  },
  "orig_nbformat": 4
 },
 "nbformat": 4,
 "nbformat_minor": 2
}
