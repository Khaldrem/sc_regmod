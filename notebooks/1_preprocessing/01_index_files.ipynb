{
 "cells": [
  {
   "cell_type": "markdown",
   "metadata": {},
   "source": [
    "Crea los archivos de indice, y agrega informacion importante\n",
    "a ellos"
   ]
  },
  {
   "cell_type": "code",
   "execution_count": 1,
   "metadata": {},
   "outputs": [],
   "source": [
    "#Imports\n",
    "\n",
    "import os, sys\n",
    "path_to_package = os.path.abspath(os.path.join('../..'))\n",
    "if path_to_package not in sys.path:\n",
    "    sys.path.append(path_to_package)\n",
    "\n",
    "import os\n",
    "from src.io import *\n",
    "from src.utils import *\n",
    "from src.indexes import *"
   ]
  },
  {
   "cell_type": "code",
   "execution_count": 2,
   "metadata": {},
   "outputs": [],
   "source": [
    "# PATH DEFINITIONS\n",
    "if check_working_os():\n",
    "    ORIGINAL_DATASET_PATH = \"/home/khaldrem/code/sc_regmod/dataset/original\"\n",
    "    CLEAN_DATASET_PATH = \"/home/khaldrem/code/sc_regmod/dataset/clean\"\n",
    "    INDEX_PATH = \"/home/khaldrem/code/sc_regmod/dataset/index\"\n",
    "\n",
    "else:\n",
    "    ORIGINAL_DATASET_PATH = \"C:\\\\Users\\\\Hector\\\\Desktop\\\\code\\\\sc_regmod\\\\dataset\\\\original\"\n",
    "    CLEAN_DATASET_PATH = \"C:\\\\Users\\\\Hector\\\\Desktop\\\\code\\\\sc_regmod\\\\dataset\\\\clean\"\n",
    "    INDEX_PATH = \"C:\\\\Users\\\\Hector\\\\Desktop\\\\code\\\\sc_regmod\\\\dataset\\\\index\""
   ]
  },
  {
   "cell_type": "code",
   "execution_count": 3,
   "metadata": {},
   "outputs": [],
   "source": [
    "original_filepaths = []\n",
    "if os.path.exists(ORIGINAL_DATASET_PATH):\n",
    "    original_filepaths = get_filepaths(ORIGINAL_DATASET_PATH)"
   ]
  },
  {
   "cell_type": "code",
   "execution_count": 4,
   "metadata": {},
   "outputs": [],
   "source": [
    "#Create index files\n",
    "#Cuidado con correr esta celda, pq puede borrar toda la info (!)\n",
    "\n",
    "for fp in original_filepaths:\n",
    "    filename = get_filename(fp)\n",
    "\n",
    "    create_index_file(INDEX_PATH, filename)"
   ]
  },
  {
   "cell_type": "code",
   "execution_count": 5,
   "metadata": {},
   "outputs": [],
   "source": [
    "#ETA: 52seg\n",
    "#Update index to insert original length\n",
    "for fp in original_filepaths:\n",
    "    data = read_phylip_file(fp)\n",
    "    filename = get_filename(fp)\n",
    "    length = data.get_alignment_length()\n",
    "\n",
    "    insert_length(length, \"original\", INDEX_PATH, filename)\n"
   ]
  },
  {
   "cell_type": "code",
   "execution_count": 6,
   "metadata": {},
   "outputs": [],
   "source": [
    "# ETA: 33seg\n",
    "# Update index to insert clean length\n",
    "\n",
    "#Check if clean folder exists\n",
    "if os.path.exists(CLEAN_DATASET_PATH):\n",
    "    clean_filepaths = get_filepaths(CLEAN_DATASET_PATH)\n",
    "    \n",
    "    for fp in clean_filepaths:    \n",
    "        data = read_phylip_file(fp)\n",
    "        filename = get_filename(fp)\n",
    "        length = data.get_alignment_length()\n",
    "        \n",
    "        insert_length(length, \"clean\", INDEX_PATH, filename)"
   ]
  },
  {
   "cell_type": "code",
   "execution_count": null,
   "metadata": {},
   "outputs": [],
   "source": []
  }
 ],
 "metadata": {
  "interpreter": {
   "hash": "0c553806f052202d33c4aa0bba9e6ab658aab5d30cc44140daa08f372e9629d7"
  },
  "kernelspec": {
   "display_name": "Python 3.10.4 ('.env': venv)",
   "language": "python",
   "name": "python3"
  },
  "language_info": {
   "codemirror_mode": {
    "name": "ipython",
    "version": 3
   },
   "file_extension": ".py",
   "mimetype": "text/x-python",
   "name": "python",
   "nbconvert_exporter": "python",
   "pygments_lexer": "ipython3",
   "version": "3.10.4"
  },
  "orig_nbformat": 4
 },
 "nbformat": 4,
 "nbformat_minor": 2
}
