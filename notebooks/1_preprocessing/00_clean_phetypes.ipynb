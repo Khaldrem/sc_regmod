{
 "cells": [
  {
   "cell_type": "markdown",
   "metadata": {},
   "source": [
    "Limpia las filas con NA del archivo de fenotipo.csv. Ademas, crea un json, con los ids (ej. SACE_YAY, SACE_YAU) de las filas eliminadas."
   ]
  },
  {
   "cell_type": "code",
   "execution_count": 5,
   "metadata": {},
   "outputs": [],
   "source": [
    "import os, sys\n",
    "path_to_package = os.path.abspath(os.path.join('../..'))\n",
    "if path_to_package not in sys.path:\n",
    "    sys.path.append(path_to_package)\n",
    "\n",
    "import matplotlib.pyplot as plt\n",
    "import pandas as pd\n",
    "\n",
    "from src.utils import check_working_os\n",
    "from src.io import read_phenotypes_file, write_json"
   ]
  },
  {
   "cell_type": "code",
   "execution_count": 6,
   "metadata": {},
   "outputs": [],
   "source": [
    "# PATH DEFINITIONS\n",
    "if check_working_os():\n",
    "    ORIGINAL_CSV_PATH = \"/home/khaldrem/code/sc_regmod/dataset/phenotypes/phenotypes.csv\"\n",
    "    NEW_CSV_PATH = \"/home/khaldrem/code/sc_regmod/dataset/phenotypes/clean_phenotypes.csv\"\n",
    "    JSON_PATH = \"/home/khaldrem/code/sc_regmod/dataset/phenotypes\"\n",
    "    \n",
    "else:\n",
    "    ORIGINAL_DATASET_PATH = \"C:\\\\Users\\\\Hector\\\\Desktop\\\\code\\\\sc_regmod\\\\dataset\\\\phenotypes\\\\phenotypes.csv\"\n",
    "    CLEAN_DATASET_PATH = \"C:\\\\Users\\\\Hector\\\\Desktop\\\\code\\\\sc_regmod\\\\dataset\\\\phenotypes\\\\clean_phenotypes.csv\"\n",
    "    JSON_PATH = \"C:\\\\Users\\\\Hector\\\\Desktop\\\\code\\\\sc_regmod\\\\dataset\\\\phenotypes\"\n"
   ]
  },
  {
   "cell_type": "code",
   "execution_count": 7,
   "metadata": {},
   "outputs": [
    {
     "data": {
      "text/html": [
       "<div>\n",
       "<style scoped>\n",
       "    .dataframe tbody tr th:only-of-type {\n",
       "        vertical-align: middle;\n",
       "    }\n",
       "\n",
       "    .dataframe tbody tr th {\n",
       "        vertical-align: top;\n",
       "    }\n",
       "\n",
       "    .dataframe thead th {\n",
       "        text-align: right;\n",
       "    }\n",
       "</style>\n",
       "<table border=\"1\" class=\"dataframe\">\n",
       "  <thead>\n",
       "    <tr style=\"text-align: right;\">\n",
       "      <th></th>\n",
       "      <th>Standard</th>\n",
       "      <th>Haploide-Diploide</th>\n",
       "      <th>SM300-Efficiency</th>\n",
       "      <th>SM300-Rate</th>\n",
       "      <th>SM300-Lag</th>\n",
       "      <th>SM300-AUC</th>\n",
       "      <th>SM60-Efficiency</th>\n",
       "      <th>SM60-Rate</th>\n",
       "      <th>SM60-Lag</th>\n",
       "      <th>SM60-AUC</th>\n",
       "      <th>Ratio-Efficiency</th>\n",
       "      <th>Ratio-Rate</th>\n",
       "      <th>Ratio-Lag</th>\n",
       "      <th>Ratio-AUC</th>\n",
       "      <th>Ecological info</th>\n",
       "    </tr>\n",
       "  </thead>\n",
       "  <tbody>\n",
       "    <tr>\n",
       "      <th>0</th>\n",
       "      <td>AAA</td>\n",
       "      <td>haploide-euploide</td>\n",
       "      <td>NaN</td>\n",
       "      <td>NaN</td>\n",
       "      <td>NaN</td>\n",
       "      <td>NaN</td>\n",
       "      <td>NaN</td>\n",
       "      <td>NaN</td>\n",
       "      <td>NaN</td>\n",
       "      <td>NaN</td>\n",
       "      <td>NaN</td>\n",
       "      <td>NaN</td>\n",
       "      <td>NaN</td>\n",
       "      <td>NaN</td>\n",
       "      <td>Domesticated (wine)</td>\n",
       "    </tr>\n",
       "    <tr>\n",
       "      <th>1</th>\n",
       "      <td>AAB</td>\n",
       "      <td>haploide-euploide</td>\n",
       "      <td>0.4400</td>\n",
       "      <td>0.01612</td>\n",
       "      <td>9.220</td>\n",
       "      <td>9.497</td>\n",
       "      <td>0.4115</td>\n",
       "      <td>0.01132</td>\n",
       "      <td>10.390</td>\n",
       "      <td>6.954</td>\n",
       "      <td>0.935227</td>\n",
       "      <td>0.702233</td>\n",
       "      <td>1.126898</td>\n",
       "      <td>0.732231</td>\n",
       "      <td>Domesticated (non-wine)</td>\n",
       "    </tr>\n",
       "    <tr>\n",
       "      <th>2</th>\n",
       "      <td>AAC</td>\n",
       "      <td>diploides-euploides</td>\n",
       "      <td>NaN</td>\n",
       "      <td>NaN</td>\n",
       "      <td>NaN</td>\n",
       "      <td>NaN</td>\n",
       "      <td>NaN</td>\n",
       "      <td>NaN</td>\n",
       "      <td>NaN</td>\n",
       "      <td>NaN</td>\n",
       "      <td>NaN</td>\n",
       "      <td>NaN</td>\n",
       "      <td>NaN</td>\n",
       "      <td>NaN</td>\n",
       "      <td>Domesticated (non-wine)</td>\n",
       "    </tr>\n",
       "    <tr>\n",
       "      <th>3</th>\n",
       "      <td>AAD</td>\n",
       "      <td>---</td>\n",
       "      <td>1.0620</td>\n",
       "      <td>0.03776</td>\n",
       "      <td>6.062</td>\n",
       "      <td>25.590</td>\n",
       "      <td>0.6657</td>\n",
       "      <td>0.02605</td>\n",
       "      <td>7.240</td>\n",
       "      <td>15.840</td>\n",
       "      <td>0.626836</td>\n",
       "      <td>0.689883</td>\n",
       "      <td>1.194325</td>\n",
       "      <td>0.618992</td>\n",
       "      <td>Domesticated (non-wine)</td>\n",
       "    </tr>\n",
       "    <tr>\n",
       "      <th>4</th>\n",
       "      <td>AAE</td>\n",
       "      <td>haploide-euploide</td>\n",
       "      <td>0.9033</td>\n",
       "      <td>0.03103</td>\n",
       "      <td>9.111</td>\n",
       "      <td>18.860</td>\n",
       "      <td>0.6704</td>\n",
       "      <td>0.01607</td>\n",
       "      <td>6.166</td>\n",
       "      <td>12.300</td>\n",
       "      <td>0.742168</td>\n",
       "      <td>0.517886</td>\n",
       "      <td>0.676764</td>\n",
       "      <td>0.652174</td>\n",
       "      <td>Domesticated (wine)</td>\n",
       "    </tr>\n",
       "  </tbody>\n",
       "</table>\n",
       "</div>"
      ],
      "text/plain": [
       "  Standard    Haploide-Diploide  SM300-Efficiency  SM300-Rate  SM300-Lag  \\\n",
       "0      AAA    haploide-euploide               NaN         NaN        NaN   \n",
       "1      AAB    haploide-euploide            0.4400     0.01612      9.220   \n",
       "2      AAC  diploides-euploides               NaN         NaN        NaN   \n",
       "3      AAD                  ---            1.0620     0.03776      6.062   \n",
       "4      AAE    haploide-euploide            0.9033     0.03103      9.111   \n",
       "\n",
       "   SM300-AUC  SM60-Efficiency  SM60-Rate  SM60-Lag  SM60-AUC  \\\n",
       "0        NaN              NaN        NaN       NaN       NaN   \n",
       "1      9.497           0.4115    0.01132    10.390     6.954   \n",
       "2        NaN              NaN        NaN       NaN       NaN   \n",
       "3     25.590           0.6657    0.02605     7.240    15.840   \n",
       "4     18.860           0.6704    0.01607     6.166    12.300   \n",
       "\n",
       "   Ratio-Efficiency  Ratio-Rate  Ratio-Lag  Ratio-AUC          Ecological info  \n",
       "0               NaN         NaN        NaN        NaN      Domesticated (wine)  \n",
       "1          0.935227    0.702233   1.126898   0.732231  Domesticated (non-wine)  \n",
       "2               NaN         NaN        NaN        NaN  Domesticated (non-wine)  \n",
       "3          0.626836    0.689883   1.194325   0.618992  Domesticated (non-wine)  \n",
       "4          0.742168    0.517886   0.676764   0.652174      Domesticated (wine)  "
      ]
     },
     "execution_count": 7,
     "metadata": {},
     "output_type": "execute_result"
    }
   ],
   "source": [
    "#Read phenotypes file\n",
    "phenotypes_df = pd.read_csv(ORIGINAL_CSV_PATH, sep=\";\")\n",
    "\n",
    "phenotypes_df.head()"
   ]
  },
  {
   "cell_type": "code",
   "execution_count": 8,
   "metadata": {},
   "outputs": [
    {
     "name": "stdout",
     "output_type": "stream",
     "text": [
      "['AAA', 'AAC', 'AAP', 'AEK', 'AEM', 'AER', 'AGB', 'AGC', 'AHV', 'AMS', 'AMT', 'ARN', 'BDL', 'BRL', 'CBK', 'CBL', 'CBM', 'CFR', 'CHG', 'CHH', 'CHI', 'CHK', 'CHL', 'CHM', 'CHN', 'CHP', 'CHQ', 'CKB', 'CLQ', 'SACE_GAL', 'SACE_GAP', 'SACE_GAS', 'SACE_GAT', 'SACE_GAV', 'SACE_MAA', 'SACE_MAB', 'SACE_MAL', 'SACE_YBA', 'SACE_YBB', 'SACE_YBM', 'SACE_YBN', 'SACE_YBO', 'SACE_YBP', 'SACE_YCJ', 'SACE_YCS', 'SACE_YCT', 'SACE_YCU', 'SACE_YCV', 'SACE_YCW', 'SACE_YCX', 'SACE_YCY', 'SACE_YCZ', 'SACE_YDA', 'SACE_YDB', 'SACE_YDC', 'SACE_YDD', 'SACE_YDE', 'SACE_YDF', 'SACE_YDG', 'SACE_YDH', 'SACE_YDI', 'SACE_YDJ', 'SACE_YDK', 'SACE_YDL']\n",
      "64\n"
     ]
    }
   ],
   "source": [
    "#Obtengo los ids de las filas que seran eliminas\n",
    "rows_with_NA = phenotypes_df[phenotypes_df.isnull().any(axis=1)]\n",
    "ids_with_NA = list(rows_with_NA[\"Standard\"])\n",
    "\n",
    "print(ids_with_NA)\n",
    "print(len(ids_with_NA))"
   ]
  },
  {
   "cell_type": "code",
   "execution_count": 9,
   "metadata": {},
   "outputs": [],
   "source": [
    "#Guardo el json con los ids de NA\n",
    "data_to_json = {\n",
    "    \"ids\": ids_with_NA\n",
    "}\n",
    "\n",
    "write_json(data_to_json, JSON_PATH, \"eliminated_rows\")"
   ]
  },
  {
   "cell_type": "code",
   "execution_count": 10,
   "metadata": {},
   "outputs": [],
   "source": [
    "#Elimino del df las columnas con NA\n",
    "\n",
    "phenotypes_df = phenotypes_df.dropna(axis=0, how='any')\n",
    "phenotypes_df = phenotypes_df.reset_index(drop=True)\n",
    "\n",
    "#Escribimos el nuevo archivo\n",
    "phenotypes_df.to_csv(NEW_CSV_PATH, index=False)"
   ]
  },
  {
   "cell_type": "code",
   "execution_count": 1,
   "metadata": {},
   "outputs": [
    {
     "data": {
      "text/plain": [
       "0.06330365974282888"
      ]
     },
     "execution_count": 1,
     "metadata": {},
     "output_type": "execute_result"
    }
   ],
   "source": [
    "64/1011"
   ]
  },
  {
   "cell_type": "code",
   "execution_count": null,
   "metadata": {},
   "outputs": [],
   "source": []
  }
 ],
 "metadata": {
  "interpreter": {
   "hash": "0c553806f052202d33c4aa0bba9e6ab658aab5d30cc44140daa08f372e9629d7"
  },
  "kernelspec": {
   "display_name": "Python 3.10.4 ('.env': venv)",
   "language": "python",
   "name": "python3"
  },
  "language_info": {
   "codemirror_mode": {
    "name": "ipython",
    "version": 3
   },
   "file_extension": ".py",
   "mimetype": "text/x-python",
   "name": "python",
   "nbconvert_exporter": "python",
   "pygments_lexer": "ipython3",
   "version": "3.10.4"
  },
  "orig_nbformat": 4
 },
 "nbformat": 4,
 "nbformat_minor": 2
}
