{
 "cells": [
  {
   "cell_type": "code",
   "execution_count": 5,
   "id": "70da65e9-cbb4-4f2f-9ffe-d956b1189663",
   "metadata": {},
   "outputs": [],
   "source": [
    "from sc_regmod.io import get_dataset_filepaths, read_phylip_file, write_phylip_file, write_index_file\n",
    "from sc_regmod.transform import create_compressed_alignment, create_index\n",
    "from sc_regmod.utils import detect_sequence_changes\n",
    "\n",
    "import time"
   ]
  },
  {
   "cell_type": "code",
   "execution_count": 2,
   "id": "2fb3dceb-cafc-4642-9eaf-c8342bba4e3e",
   "metadata": {},
   "outputs": [],
   "source": [
    "base_dir = \"C:\\\\Users\\\\Hector\\\\Desktop\\\\code\\\\sc_regmod\\\\dataset\\\\Secuencias_alineadas\"\n",
    "extension = \".phylip\""
   ]
  },
  {
   "cell_type": "code",
   "execution_count": 3,
   "id": "9bce3ad7-3ea9-4f0d-bb11-71dd35985207",
   "metadata": {},
   "outputs": [],
   "source": [
    "filepaths = get_dataset_filepaths(base_dir, extension)"
   ]
  },
  {
   "cell_type": "code",
   "execution_count": 4,
   "id": "1c34e999-28ca-48bd-9434-029d478b634b",
   "metadata": {
    "collapsed": true,
    "jupyter": {
     "outputs_hidden": true
    },
    "tags": []
   },
   "outputs": [
    {
     "name": "stdout",
     "output_type": "stream",
     "text": [
      "Can't compress this file, because there are no changes in it.\n",
      "File: YAR060C.fasta.phylip has no changes in it.\n",
      "Can't compress this file, because there are no changes in it.\n",
      "File: YBL111C.fasta.phylip has no changes in it.\n",
      "Can't compress this file, because there are no changes in it.\n",
      "File: YCL067C.fasta.phylip has no changes in it.\n",
      "Can't compress this file, because there are no changes in it.\n",
      "File: YDL246C.fasta.phylip has no changes in it.\n",
      "Can't compress this file, because there are no changes in it.\n",
      "File: YDR039C.fasta.phylip has no changes in it.\n",
      "Can't compress this file, because there are no changes in it.\n",
      "File: YDR545W.fasta.phylip has no changes in it.\n",
      "Can't compress this file, because there are no changes in it.\n",
      "File: YEL075C.fasta.phylip has no changes in it.\n",
      "Can't compress this file, because there are no changes in it.\n",
      "File: YEL076C.fasta.phylip has no changes in it.\n",
      "Can't compress this file, because there are no changes in it.\n",
      "File: YFL068W.fasta.phylip has no changes in it.\n",
      "Can't compress this file, because there are no changes in it.\n",
      "File: YGR296W.fasta.phylip has no changes in it.\n",
      "Can't compress this file, because there are no changes in it.\n",
      "File: YHR212C.fasta.phylip has no changes in it.\n",
      "Can't compress this file, because there are no changes in it.\n",
      "File: YHR213W.fasta.phylip has no changes in it.\n",
      "Can't compress this file, because there are no changes in it.\n",
      "File: YHR214W.fasta.phylip has no changes in it.\n",
      "Can't compress this file, because there are no changes in it.\n",
      "File: YHR218W.fasta.phylip has no changes in it.\n",
      "Can't compress this file, because there are no changes in it.\n",
      "File: YIL172C.fasta.phylip has no changes in it.\n",
      "Can't compress this file, because there are no changes in it.\n",
      "File: YIL173W.fasta.phylip has no changes in it.\n",
      "Can't compress this file, because there are no changes in it.\n",
      "File: YIL176C.fasta.phylip has no changes in it.\n",
      "Can't compress this file, because there are no changes in it.\n",
      "File: YIL177C.fasta.phylip has no changes in it.\n",
      "Can't compress this file, because there are no changes in it.\n",
      "File: YJL223C.fasta.phylip has no changes in it.\n",
      "Can't compress this file, because there are no changes in it.\n",
      "File: YJL225C.fasta.phylip has no changes in it.\n",
      "Can't compress this file, because there are no changes in it.\n",
      "File: YJR158W.fasta.phylip has no changes in it.\n",
      "Can't compress this file, because there are no changes in it.\n",
      "File: YLR155C.fasta.phylip has no changes in it.\n",
      "Can't compress this file, because there are no changes in it.\n",
      "File: YLR156W.fasta.phylip has no changes in it.\n",
      "Can't compress this file, because there are no changes in it.\n",
      "File: YLR157C.fasta.phylip has no changes in it.\n",
      "Can't compress this file, because there are no changes in it.\n",
      "File: YLR158C.fasta.phylip has no changes in it.\n",
      "Can't compress this file, because there are no changes in it.\n",
      "File: YLR159W.fasta.phylip has no changes in it.\n",
      "Can't compress this file, because there are no changes in it.\n",
      "File: YLR160C.fasta.phylip has no changes in it.\n",
      "Can't compress this file, because there are no changes in it.\n",
      "File: YLR464W.fasta.phylip has no changes in it.\n",
      "Can't compress this file, because there are no changes in it.\n",
      "File: YLR465C.fasta.phylip has no changes in it.\n",
      "Can't compress this file, because there are no changes in it.\n",
      "File: YLR466W.fasta.phylip has no changes in it.\n",
      "Can't compress this file, because there are no changes in it.\n",
      "File: YLR467W.fasta.phylip has no changes in it.\n",
      "Can't compress this file, because there are no changes in it.\n",
      "File: YML133C.fasta.phylip has no changes in it.\n",
      "Can't compress this file, because there are no changes in it.\n",
      "File: YNL339C.fasta.phylip has no changes in it.\n",
      "Can't compress this file, because there are no changes in it.\n",
      "File: YOR394W.fasta.phylip has no changes in it.\n",
      "Can't compress this file, because there are no changes in it.\n",
      "File: YOR396W.fasta.phylip has no changes in it.\n",
      "Can't compress this file, because there are no changes in it.\n",
      "File: YPL282C.fasta.phylip has no changes in it.\n",
      "Can't compress this file, because there are no changes in it.\n",
      "File: YPL283C.fasta.phylip has no changes in it.\n",
      "Can't compress this file, because there are no changes in it.\n",
      "File: YPR203W.fasta.phylip has no changes in it.\n",
      "Write all compressed files took: 3253.57 seconds.\n"
     ]
    }
   ],
   "source": [
    "COMPRESSED_FILEPATH = \"C:\\\\Users\\\\Hector\\\\Desktop\\\\code\\\\sc_regmod\\\\dataset\\\\compressed_sequences\"\n",
    "\n",
    "#Write compressed file\n",
    "start_time_compressed = time.time()\n",
    "for filepath in filepaths:\n",
    "    data = read_phylip_file(filepath)\n",
    "    changes = detect_sequence_changes(data)\n",
    "    new_align = create_compressed_alignment(data, changes)    \n",
    "    write_phylip_file(new_align, COMPRESSED_FILEPATH, filepath.split(\"\\\\\")[-1])\n",
    "\n",
    "print(\"Write all compressed files took: {:.2f} seconds.\".format((time.time() - start_time_compressed)))"
   ]
  },
  {
   "cell_type": "code",
   "execution_count": 5,
   "id": "7cd2e37a-8281-4beb-a739-bfc89276aff3",
   "metadata": {
    "tags": []
   },
   "outputs": [
    {
     "name": "stdout",
     "output_type": "stream",
     "text": [
      "38\n"
     ]
    }
   ],
   "source": [
    "#3200 seg to min -> 53 min.\n",
    "#38 archivos iguales.\n",
    "\n",
    "files_with_no_changes = [\"YAR060C.fasta.phylip\", \"YBL111C.fasta.phylip\", \"YCL067C.fasta.phylip\",\n",
    "                         \"YDL246C.fasta.phylip\", \"YDR039C.fasta.phylip\", \"YDR545W.fasta.phylip\",\n",
    "                         \"YEL075C.fasta.phylip\", \"YEL076C.fasta.phylip\", \"YFL068W.fasta.phylip\",\n",
    "                         \"YGR296W.fasta.phylip\", \"YHR212C.fasta.phylip\", \"YHR213W.fasta.phylip\",\n",
    "                         \"YHR214W.fasta.phylip\", \"YHR218W.fasta.phylip\", \"YIL172C.fasta.phylip\",\n",
    "                         \"YIL173W.fasta.phylip\", \"YIL176C.fasta.phylip\", \"YIL177C.fasta.phylip\",\n",
    "                         \"YJL223C.fasta.phylip\", \"YJL225C.fasta.phylip\", \"YJR158W.fasta.phylip\",\n",
    "                         \"YLR155C.fasta.phylip\", \"YLR156W.fasta.phylip\", \"YLR157C.fasta.phylip\",\n",
    "                         \"YLR158C.fasta.phylip\", \"YLR159W.fasta.phylip\", \"YLR160C.fasta.phylip\",\n",
    "                         \"YLR464W.fasta.phylip\", \"YLR465C.fasta.phylip\", \"YLR466W.fasta.phylip\",\n",
    "                         \"YLR467W.fasta.phylip\", \"YML133C.fasta.phylip\", \"YNL339C.fasta.phylip\",\n",
    "                         \"YOR394W.fasta.phylip\", \"YOR396W.fasta.phylip\", \"YPL282C.fasta.phylip\",\n",
    "                         \"YPL283C.fasta.phylip\", \"YPR203W.fasta.phylip\"]\n",
    "print(len(files_with_no_changes))"
   ]
  },
  {
   "cell_type": "code",
   "execution_count": null,
   "id": "23dde789-f79b-4e43-a951-a01aeb1131d6",
   "metadata": {},
   "outputs": [],
   "source": [
    "INDEXES_FILEPATH = \"C:\\\\Users\\\\Hector\\\\Desktop\\\\code\\\\sc_regmod\\\\dataset\\\\indexes\"\n",
    "\n",
    "#Write compressed file\n",
    "start_time_indexes = time.time()\n",
    "for filepath in filepaths:\n",
    "    data = read_phylip_file(filepath)\n",
    "    new_index = create_index(data)    \n",
    "    write_index_file(new_index, INDEXES_FILEPATH, filepath.split(\"\\\\\")[-1])\n",
    "\n",
    "print(\"Write all indexes files took: {:.2f} seconds.\".format((time.time() - start_time_indexes)))"
   ]
  },
  {
   "cell_type": "code",
   "execution_count": null,
   "id": "b0aa848c-d67d-44ec-bbbf-26e46b329476",
   "metadata": {},
   "outputs": [],
   "source": []
  }
 ],
 "metadata": {
  "kernelspec": {
   "display_name": "Python 3 (ipykernel)",
   "language": "python",
   "name": "python3"
  },
  "language_info": {
   "codemirror_mode": {
    "name": "ipython",
    "version": 3
   },
   "file_extension": ".py",
   "mimetype": "text/x-python",
   "name": "python",
   "nbconvert_exporter": "python",
   "pygments_lexer": "ipython3",
   "version": "3.10.1"
  }
 },
 "nbformat": 4,
 "nbformat_minor": 5
}
