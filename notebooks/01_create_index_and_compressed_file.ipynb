{
 "cells": [
  {
   "cell_type": "code",
   "execution_count": 5,
   "id": "70da65e9-cbb4-4f2f-9ffe-d956b1189663",
   "metadata": {},
   "outputs": [],
   "source": [
    "from sc_regmod.io import get_dataset_filepaths, read_phylip_file, write_phylip_file, write_index_file\n",
    "from sc_regmod.transform import create_compressed_alignment, create_index\n",
    "from sc_regmod.utils import detect_sequence_changes\n",
    "\n",
    "import time"
   ]
  },
  {
   "cell_type": "code",
   "execution_count": 2,
   "id": "2fb3dceb-cafc-4642-9eaf-c8342bba4e3e",
   "metadata": {},
   "outputs": [],
   "source": [
    "base_dir = \"C:\\\\Users\\\\Hector\\\\Desktop\\\\code\\\\sc_regmod\\\\dataset\\\\Secuencias_alineadas\"\n",
    "extension = \".phylip\""
   ]
  },
  {
   "cell_type": "code",
   "execution_count": 3,
   "id": "9bce3ad7-3ea9-4f0d-bb11-71dd35985207",
   "metadata": {},
   "outputs": [],
   "source": [
    "filepaths = get_dataset_filepaths(base_dir, extension)"
   ]
  },
  {
   "cell_type": "code",
   "execution_count": 4,
   "id": "1c34e999-28ca-48bd-9434-029d478b634b",
   "metadata": {
    "collapsed": true,
    "jupyter": {
     "outputs_hidden": true
    },
    "tags": []
   },
   "outputs": [
    {
     "name": "stdout",
     "output_type": "stream",
     "text": [
      "Can't compress this file, because there are no changes in it.\n",
      "File: YAR060C.fasta.phylip has no changes in it.\n",
      "Can't compress this file, because there are no changes in it.\n",
      "File: YBL111C.fasta.phylip has no changes in it.\n",
      "Can't compress this file, because there are no changes in it.\n",
      "File: YCL067C.fasta.phylip has no changes in it.\n",
      "Can't compress this file, because there are no changes in it.\n",
      "File: YDL246C.fasta.phylip has no changes in it.\n",
      "Can't compress this file, because there are no changes in it.\n",
      "File: YDR039C.fasta.phylip has no changes in it.\n",
      "Can't compress this file, because there are no changes in it.\n",
      "File: YDR545W.fasta.phylip has no changes in it.\n",
      "Can't compress this file, because there are no changes in it.\n",
      "File: YEL075C.fasta.phylip has no changes in it.\n",
      "Can't compress this file, because there are no changes in it.\n",
      "File: YEL076C.fasta.phylip has no changes in it.\n",
      "Can't compress this file, because there are no changes in it.\n",
      "File: YFL068W.fasta.phylip has no changes in it.\n",
      "Can't compress this file, because there are no changes in it.\n",
      "File: YGR296W.fasta.phylip has no changes in it.\n",
      "Can't compress this file, because there are no changes in it.\n",
      "File: YHR212C.fasta.phylip has no changes in it.\n",
      "Can't compress this file, because there are no changes in it.\n",
      "File: YHR213W.fasta.phylip has no changes in it.\n",
      "Can't compress this file, because there are no changes in it.\n",
      "File: YHR214W.fasta.phylip has no changes in it.\n",
      "Can't compress this file, because there are no changes in it.\n",
      "File: YHR218W.fasta.phylip has no changes in it.\n",
      "Can't compress this file, because there are no changes in it.\n",
      "File: YIL172C.fasta.phylip has no changes in it.\n",
      "Can't compress this file, because there are no changes in it.\n",
      "File: YIL173W.fasta.phylip has no changes in it.\n",
      "Can't compress this file, because there are no changes in it.\n",
      "File: YIL176C.fasta.phylip has no changes in it.\n",
      "Can't compress this file, because there are no changes in it.\n",
      "File: YIL177C.fasta.phylip has no changes in it.\n",
      "Can't compress this file, because there are no changes in it.\n",
      "File: YJL223C.fasta.phylip has no changes in it.\n",
      "Can't compress this file, because there are no changes in it.\n",
      "File: YJL225C.fasta.phylip has no changes in it.\n",
      "Can't compress this file, because there are no changes in it.\n",
      "File: YJR158W.fasta.phylip has no changes in it.\n",
      "Can't compress this file, because there are no changes in it.\n",
      "File: YLR155C.fasta.phylip has no changes in it.\n",
      "Can't compress this file, because there are no changes in it.\n",
      "File: YLR156W.fasta.phylip has no changes in it.\n",
      "Can't compress this file, because there are no changes in it.\n",
      "File: YLR157C.fasta.phylip has no changes in it.\n",
      "Can't compress this file, because there are no changes in it.\n",
      "File: YLR158C.fasta.phylip has no changes in it.\n",
      "Can't compress this file, because there are no changes in it.\n",
      "File: YLR159W.fasta.phylip has no changes in it.\n",
      "Can't compress this file, because there are no changes in it.\n",
      "File: YLR160C.fasta.phylip has no changes in it.\n",
      "Can't compress this file, because there are no changes in it.\n",
      "File: YLR464W.fasta.phylip has no changes in it.\n",
      "Can't compress this file, because there are no changes in it.\n",
      "File: YLR465C.fasta.phylip has no changes in it.\n",
      "Can't compress this file, because there are no changes in it.\n",
      "File: YLR466W.fasta.phylip has no changes in it.\n",
      "Can't compress this file, because there are no changes in it.\n",
      "File: YLR467W.fasta.phylip has no changes in it.\n",
      "Can't compress this file, because there are no changes in it.\n",
      "File: YML133C.fasta.phylip has no changes in it.\n",
      "Can't compress this file, because there are no changes in it.\n",
      "File: YNL339C.fasta.phylip has no changes in it.\n",
      "Can't compress this file, because there are no changes in it.\n",
      "File: YOR394W.fasta.phylip has no changes in it.\n",
      "Can't compress this file, because there are no changes in it.\n",
      "File: YOR396W.fasta.phylip has no changes in it.\n",
      "Can't compress this file, because there are no changes in it.\n",
      "File: YPL282C.fasta.phylip has no changes in it.\n",
      "Can't compress this file, because there are no changes in it.\n",
      "File: YPL283C.fasta.phylip has no changes in it.\n",
      "Can't compress this file, because there are no changes in it.\n",
      "File: YPR203W.fasta.phylip has no changes in it.\n",
      "Write all compressed files took: 3253.57 seconds.\n"
     ]
    }
   ],
   "source": [
    "COMPRESSED_FILEPATH = \"C:\\\\Users\\\\Hector\\\\Desktop\\\\code\\\\sc_regmod\\\\dataset\\\\compressed_sequences\"\n",
    "\n",
    "#Write compressed file\n",
    "start_time_compressed = time.time()\n",
    "for filepath in filepaths:\n",
    "    data = read_phylip_file(filepath)\n",
    "    changes = detect_sequence_changes(data)\n",
    "    new_align = create_compressed_alignment(data, changes)    \n",
    "    write_phylip_file(new_align, COMPRESSED_FILEPATH, filepath.split(\"\\\\\")[-1])\n",
    "\n",
    "print(\"Write all compressed files took: {:.2f} seconds.\".format((time.time() - start_time_compressed)))"
   ]
  },
  {
   "cell_type": "code",
   "execution_count": 5,
   "id": "7cd2e37a-8281-4beb-a739-bfc89276aff3",
   "metadata": {
    "tags": []
   },
   "outputs": [
    {
     "name": "stdout",
     "output_type": "stream",
     "text": [
      "38\n"
     ]
    }
   ],
   "source": [
    "#3200 seg to min -> 53 min.\n",
    "#38 archivos iguales.\n",
    "\n",
    "files_with_no_changes = [\"YAR060C.fasta.phylip\", \"YBL111C.fasta.phylip\", \"YCL067C.fasta.phylip\",\n",
    "                         \"YDL246C.fasta.phylip\", \"YDR039C.fasta.phylip\", \"YDR545W.fasta.phylip\",\n",
    "                         \"YEL075C.fasta.phylip\", \"YEL076C.fasta.phylip\", \"YFL068W.fasta.phylip\",\n",
    "                         \"YGR296W.fasta.phylip\", \"YHR212C.fasta.phylip\", \"YHR213W.fasta.phylip\",\n",
    "                         \"YHR214W.fasta.phylip\", \"YHR218W.fasta.phylip\", \"YIL172C.fasta.phylip\",\n",
    "                         \"YIL173W.fasta.phylip\", \"YIL176C.fasta.phylip\", \"YIL177C.fasta.phylip\",\n",
    "                         \"YJL223C.fasta.phylip\", \"YJL225C.fasta.phylip\", \"YJR158W.fasta.phylip\",\n",
    "                         \"YLR155C.fasta.phylip\", \"YLR156W.fasta.phylip\", \"YLR157C.fasta.phylip\",\n",
    "                         \"YLR158C.fasta.phylip\", \"YLR159W.fasta.phylip\", \"YLR160C.fasta.phylip\",\n",
    "                         \"YLR464W.fasta.phylip\", \"YLR465C.fasta.phylip\", \"YLR466W.fasta.phylip\",\n",
    "                         \"YLR467W.fasta.phylip\", \"YML133C.fasta.phylip\", \"YNL339C.fasta.phylip\",\n",
    "                         \"YOR394W.fasta.phylip\", \"YOR396W.fasta.phylip\", \"YPL282C.fasta.phylip\",\n",
    "                         \"YPL283C.fasta.phylip\", \"YPR203W.fasta.phylip\"]\n",
    "print(len(files_with_no_changes))"
   ]
  },
  {
   "cell_type": "code",
   "execution_count": 6,
   "id": "23dde789-f79b-4e43-a951-a01aeb1131d6",
   "metadata": {},
   "outputs": [
    {
     "ename": "KeyboardInterrupt",
     "evalue": "",
     "output_type": "error",
     "traceback": [
      "\u001b[1;31m---------------------------------------------------------------------------\u001b[0m",
      "\u001b[1;31mKeyboardInterrupt\u001b[0m                         Traceback (most recent call last)",
      "\u001b[1;32m~\\AppData\\Local\\Temp/ipykernel_1708/2936594774.py\u001b[0m in \u001b[0;36m<module>\u001b[1;34m\u001b[0m\n\u001b[0;32m      6\u001b[0m     \u001b[0mdata\u001b[0m \u001b[1;33m=\u001b[0m \u001b[0mread_phylip_file\u001b[0m\u001b[1;33m(\u001b[0m\u001b[0mfilepath\u001b[0m\u001b[1;33m)\u001b[0m\u001b[1;33m\u001b[0m\u001b[1;33m\u001b[0m\u001b[0m\n\u001b[0;32m      7\u001b[0m     \u001b[0mnew_index\u001b[0m \u001b[1;33m=\u001b[0m \u001b[0mcreate_index\u001b[0m\u001b[1;33m(\u001b[0m\u001b[0mdata\u001b[0m\u001b[1;33m)\u001b[0m\u001b[1;33m\u001b[0m\u001b[1;33m\u001b[0m\u001b[0m\n\u001b[1;32m----> 8\u001b[1;33m     \u001b[0mwrite_index_file\u001b[0m\u001b[1;33m(\u001b[0m\u001b[0mnew_index\u001b[0m\u001b[1;33m,\u001b[0m \u001b[0mINDEXES_FILEPATH\u001b[0m\u001b[1;33m,\u001b[0m \u001b[0mfilepath\u001b[0m\u001b[1;33m.\u001b[0m\u001b[0msplit\u001b[0m\u001b[1;33m(\u001b[0m\u001b[1;34m\"\\\\\"\u001b[0m\u001b[1;33m)\u001b[0m\u001b[1;33m[\u001b[0m\u001b[1;33m-\u001b[0m\u001b[1;36m1\u001b[0m\u001b[1;33m]\u001b[0m\u001b[1;33m)\u001b[0m\u001b[1;33m\u001b[0m\u001b[1;33m\u001b[0m\u001b[0m\n\u001b[0m\u001b[0;32m      9\u001b[0m \u001b[1;33m\u001b[0m\u001b[0m\n\u001b[0;32m     10\u001b[0m \u001b[0mprint\u001b[0m\u001b[1;33m(\u001b[0m\u001b[1;34m\"Write all indexes files took: {:.2f} seconds.\"\u001b[0m\u001b[1;33m.\u001b[0m\u001b[0mformat\u001b[0m\u001b[1;33m(\u001b[0m\u001b[1;33m(\u001b[0m\u001b[0mtime\u001b[0m\u001b[1;33m.\u001b[0m\u001b[0mtime\u001b[0m\u001b[1;33m(\u001b[0m\u001b[1;33m)\u001b[0m \u001b[1;33m-\u001b[0m \u001b[0mstart_time_indexes\u001b[0m\u001b[1;33m)\u001b[0m\u001b[1;33m)\u001b[0m\u001b[1;33m)\u001b[0m\u001b[1;33m\u001b[0m\u001b[1;33m\u001b[0m\u001b[0m\n",
      "\u001b[1;32m~\\Desktop\\code\\sc_regmod\\.env\\lib\\site-packages\\sc_regmod\\io\\phylip.py\u001b[0m in \u001b[0;36mwrite_index_file\u001b[1;34m(index, filepath, filename)\u001b[0m\n\u001b[0;32m     40\u001b[0m \u001b[1;32mdef\u001b[0m \u001b[0mwrite_index_file\u001b[0m\u001b[1;33m(\u001b[0m\u001b[0mindex\u001b[0m\u001b[1;33m,\u001b[0m \u001b[0mfilepath\u001b[0m\u001b[1;33m=\u001b[0m\u001b[1;34m\"\"\u001b[0m\u001b[1;33m,\u001b[0m \u001b[0mfilename\u001b[0m\u001b[1;33m=\u001b[0m\u001b[1;34m\"\"\u001b[0m\u001b[1;33m)\u001b[0m\u001b[1;33m:\u001b[0m\u001b[1;33m\u001b[0m\u001b[1;33m\u001b[0m\u001b[0m\n\u001b[0;32m     41\u001b[0m     \u001b[1;32mwith\u001b[0m \u001b[0mopen\u001b[0m\u001b[1;33m(\u001b[0m\u001b[1;34mf\"{filepath}\\\\{filename}.json\"\u001b[0m\u001b[1;33m,\u001b[0m \u001b[1;34m\"w\"\u001b[0m\u001b[1;33m)\u001b[0m \u001b[1;32mas\u001b[0m \u001b[0moutfile\u001b[0m\u001b[1;33m:\u001b[0m\u001b[1;33m\u001b[0m\u001b[1;33m\u001b[0m\u001b[0m\n\u001b[1;32m---> 42\u001b[1;33m         \u001b[0mjson\u001b[0m\u001b[1;33m.\u001b[0m\u001b[0mdump\u001b[0m\u001b[1;33m(\u001b[0m\u001b[0mindex\u001b[0m\u001b[1;33m,\u001b[0m \u001b[0moutfile\u001b[0m\u001b[1;33m)\u001b[0m\u001b[1;33m\u001b[0m\u001b[1;33m\u001b[0m\u001b[0m\n\u001b[0m\u001b[0;32m     43\u001b[0m \u001b[1;33m\u001b[0m\u001b[0m\n\u001b[0;32m     44\u001b[0m \u001b[1;33m\u001b[0m\u001b[0m\n",
      "\u001b[1;32m~\\AppData\\Local\\Programs\\Python\\Python310\\lib\\json\\__init__.py\u001b[0m in \u001b[0;36mdump\u001b[1;34m(obj, fp, skipkeys, ensure_ascii, check_circular, allow_nan, cls, indent, separators, default, sort_keys, **kw)\u001b[0m\n\u001b[0;32m    178\u001b[0m     \u001b[1;31m# a debuggability cost\u001b[0m\u001b[1;33m\u001b[0m\u001b[1;33m\u001b[0m\u001b[0m\n\u001b[0;32m    179\u001b[0m     \u001b[1;32mfor\u001b[0m \u001b[0mchunk\u001b[0m \u001b[1;32min\u001b[0m \u001b[0miterable\u001b[0m\u001b[1;33m:\u001b[0m\u001b[1;33m\u001b[0m\u001b[1;33m\u001b[0m\u001b[0m\n\u001b[1;32m--> 180\u001b[1;33m         \u001b[0mfp\u001b[0m\u001b[1;33m.\u001b[0m\u001b[0mwrite\u001b[0m\u001b[1;33m(\u001b[0m\u001b[0mchunk\u001b[0m\u001b[1;33m)\u001b[0m\u001b[1;33m\u001b[0m\u001b[1;33m\u001b[0m\u001b[0m\n\u001b[0m\u001b[0;32m    181\u001b[0m \u001b[1;33m\u001b[0m\u001b[0m\n\u001b[0;32m    182\u001b[0m \u001b[1;33m\u001b[0m\u001b[0m\n",
      "\u001b[1;31mKeyboardInterrupt\u001b[0m: "
     ]
    }
   ],
   "source": [
    "INDEXES_FILEPATH = \"C:\\\\Users\\\\Hector\\\\Desktop\\\\code\\\\sc_regmod\\\\dataset\\\\indexes\"\n",
    "\n",
    "#Write compressed file\n",
    "start_time_indexes = time.time()\n",
    "for filepath in filepaths:\n",
    "    data = read_phylip_file(filepath)\n",
    "    new_index = create_index(data)    \n",
    "    write_index_file(new_index, INDEXES_FILEPATH, filepath.split(\"\\\\\")[-1])\n",
    "\n",
    "print(\"Write all indexes files took: {:.2f} seconds.\".format((time.time() - start_time_indexes)))"
   ]
  },
  {
   "cell_type": "code",
   "execution_count": null,
   "id": "b0aa848c-d67d-44ec-bbbf-26e46b329476",
   "metadata": {},
   "outputs": [],
   "source": []
  }
 ],
 "metadata": {
  "kernelspec": {
   "display_name": "Python 3 (ipykernel)",
   "language": "python",
   "name": "python3"
  },
  "language_info": {
   "codemirror_mode": {
    "name": "ipython",
    "version": 3
   },
   "file_extension": ".py",
   "mimetype": "text/x-python",
   "name": "python",
   "nbconvert_exporter": "python",
   "pygments_lexer": "ipython3",
   "version": "3.10.1"
  }
 },
 "nbformat": 4,
 "nbformat_minor": 5
}
