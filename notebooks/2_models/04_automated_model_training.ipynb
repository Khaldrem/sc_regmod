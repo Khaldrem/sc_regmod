{
 "cells": [
  {
   "cell_type": "markdown",
   "metadata": {},
   "source": [
    "Permite automatizar el entrenamiento de los modelos. Para elllos debemos escoger\n",
    "el algoritmo que deseamos utilizar y los datos que provienen desde anova, considerando\n",
    "los diferentes casos. Ademas, debemos guardar todos los modelos resultantes, juntos a sus\n",
    "propias estadisticas.\n",
    "\n",
    "\n",
    "Pasos a seguir:\n",
    "1. Preparar los datos a entregar al modelo.\n",
    "   1. Leer archivo y el de fenotipos\n",
    "   2. Crear dataframe con los datos\n",
    "   3. Unir datos de los fenotipos\n",
    "2. Separar en "
   ]
  },
  {
   "cell_type": "code",
   "execution_count": 1,
   "metadata": {},
   "outputs": [],
   "source": [
    "#Imports\n",
    "\n",
    "import os, sys\n",
    "path_to_package = os.path.abspath(os.path.join('../..'))\n",
    "if path_to_package not in sys.path:\n",
    "    sys.path.append(path_to_package)\n",
    "\n",
    "\n",
    "from src.io import get_filepaths\n",
    "from src.utils import get_anova_filepaths, check_working_os\n",
    "from src.models import data_preparation, automated_model_train\n",
    "\n"
   ]
  },
  {
   "cell_type": "code",
   "execution_count": 2,
   "metadata": {},
   "outputs": [],
   "source": [
    "# PATH DEFINITIONS\n",
    "if check_working_os():\n",
    "    ANOVA_DATASET_PATH = \"/home/khaldrem/code/sc_regmod/dataset/anova\"\n",
    "    INDEX_PATH = \"/home/khaldrem/code/sc_regmod/dataset/index\"\n",
    "    PHENOTYPES_PATH = \"/home/khaldrem/code/sc_regmod/dataset/phenotypes/clean_phenotypes.csv\"\n",
    "\n",
    "else:\n",
    "    CLEAN_DATASET_PATH = \"C:\\\\Users\\\\Hector\\\\Desktop\\\\code\\\\sc_regmod\\\\dataset\\\\clean\"\n",
    "    ANOVA_DATASET_PATH = \"C:\\\\Users\\\\Hector\\\\Desktop\\\\code\\\\sc_regmod\\\\dataset\\\\anova\"\n",
    "    INDEX_PATH = \"C:\\\\Users\\\\Hector\\\\Desktop\\\\code\\\\sc_regmod\\\\dataset\\\\index\"\n",
    "    PHENOTYPES_PATH = \"C:\\\\Users\\\\Hector\\\\Desktop\\\\code\\\\sc_regmod\\\\dataset\\\\phenotypes\\\\clean_phenotypes.csv\"\n"
   ]
  },
  {
   "cell_type": "code",
   "execution_count": 3,
   "metadata": {},
   "outputs": [
    {
     "name": "stdout",
     "output_type": "stream",
     "text": [
      "[-0.12889117 -0.1280865  -0.13371192 -0.13373724 -0.14313065 -0.12195791\n",
      " -0.13973834 -0.12914411 -0.12026602 -0.13117867 -0.12415995 -0.15415141\n",
      " -0.12066611 -0.14029984 -0.13492349 -0.14172963 -0.15179112 -0.11194048\n",
      " -0.12605886 -0.12347146 -0.13123323 -0.13616721 -0.11251136 -0.13405075\n",
      " -0.12233744 -0.12944762 -0.12871704 -0.14233864 -0.12825887 -0.14195961\n",
      " -0.10393198 -0.1364073  -0.11321708 -0.14303647 -0.12733202 -0.15455067\n",
      " -0.13718509 -0.11103801 -0.14950227 -0.13625899 -0.13369152 -0.13618125\n",
      " -0.11201009 -0.13538798 -0.13281311 -0.15187099 -0.13256059 -0.1227488\n",
      " -0.14431497 -0.12357466]\n",
      "MAE: -0.132 (0.012)\n",
      "Fitting 10 folds for each of 20 candidates, totalling 200 fits\n"
     ]
    },
    {
     "ename": "AttributeError",
     "evalue": "'str' object has no attribute 'key'",
     "output_type": "error",
     "traceback": [
      "\u001b[0;31m---------------------------------------------------------------------------\u001b[0m",
      "\u001b[0;31mAttributeError\u001b[0m                            Traceback (most recent call last)",
      "\u001b[1;32m/home/khaldrem/code/sc_regmod/notebooks/2_models/04_automated_model_training.ipynb Cell 4'\u001b[0m in \u001b[0;36m<cell line: 3>\u001b[0;34m()\u001b[0m\n\u001b[1;32m      <a href='vscode-notebook-cell:/home/khaldrem/code/sc_regmod/notebooks/2_models/04_automated_model_training.ipynb#ch0000003?line=0'>1</a>\u001b[0m DATASET_FILEPATHS \u001b[39m=\u001b[39m get_anova_filepaths(base_path\u001b[39m=\u001b[39mANOVA_DATASET_PATH, type_anova\u001b[39m=\u001b[39m\u001b[39m\"\u001b[39m\u001b[39mat_least_one\u001b[39m\u001b[39m\"\u001b[39m, p_value\u001b[39m=\u001b[39m\u001b[39m0.05\u001b[39m, chromosome\u001b[39m=\u001b[39m\u001b[39m\"\u001b[39m\u001b[39mall\u001b[39m\u001b[39m\"\u001b[39m)\n\u001b[0;32m----> <a href='vscode-notebook-cell:/home/khaldrem/code/sc_regmod/notebooks/2_models/04_automated_model_training.ipynb#ch0000003?line=2'>3</a>\u001b[0m automated_model_train(algorithm\u001b[39m=\u001b[39;49m\u001b[39m\"\u001b[39;49m\u001b[39mrandomForest\u001b[39;49m\u001b[39m\"\u001b[39;49m, choosen_phenotypes\u001b[39m=\u001b[39;49m[\u001b[39m\"\u001b[39;49m\u001b[39mSM300-Efficiency\u001b[39;49m\u001b[39m\"\u001b[39;49m],\n\u001b[1;32m      <a href='vscode-notebook-cell:/home/khaldrem/code/sc_regmod/notebooks/2_models/04_automated_model_training.ipynb#ch0000003?line=3'>4</a>\u001b[0m                     DATASET_PATH\u001b[39m=\u001b[39;49mDATASET_FILEPATHS, PHENOTYPES_PATH\u001b[39m=\u001b[39;49mPHENOTYPES_PATH)\n",
      "File \u001b[0;32m~/code/sc_regmod/src/models.py:93\u001b[0m, in \u001b[0;36mautomated_model_train\u001b[0;34m(algorithm, choosen_phenotypes, DATASET_PATH, PHENOTYPES_PATH)\u001b[0m\n\u001b[1;32m     <a href='file:///home/khaldrem/code/sc_regmod/src/models.py?line=89'>90</a>\u001b[0m grid_model\u001b[39m.\u001b[39mfit(X_train, y_train)\n\u001b[1;32m     <a href='file:///home/khaldrem/code/sc_regmod/src/models.py?line=91'>92</a>\u001b[0m \u001b[39mfor\u001b[39;00m item \u001b[39min\u001b[39;00m grid_model\u001b[39m.\u001b[39mcv_results_:\n\u001b[0;32m---> <a href='file:///home/khaldrem/code/sc_regmod/src/models.py?line=92'>93</a>\u001b[0m     \u001b[39mprint\u001b[39m(\u001b[39mf\u001b[39m\u001b[39m\"\u001b[39m\u001b[39m{\u001b[39;00mitem\u001b[39m.\u001b[39mkey\u001b[39m}\u001b[39;00m\u001b[39m\"\u001b[39m)\n\u001b[1;32m     <a href='file:///home/khaldrem/code/sc_regmod/src/models.py?line=93'>94</a>\u001b[0m     \u001b[39mprint\u001b[39m(\u001b[39mf\u001b[39m\u001b[39m\"\u001b[39m\u001b[39m{\u001b[39;00mitem\u001b[39m.\u001b[39mvalue\u001b[39m}\u001b[39;00m\u001b[39m\"\u001b[39m)\n\u001b[1;32m     <a href='file:///home/khaldrem/code/sc_regmod/src/models.py?line=94'>95</a>\u001b[0m \u001b[39mprint\u001b[39m(grid_model\u001b[39m.\u001b[39mbest_estimator_)\n",
      "\u001b[0;31mAttributeError\u001b[0m: 'str' object has no attribute 'key'"
     ]
    }
   ],
   "source": [
    "DATASET_FILEPATHS = get_anova_filepaths(base_path=ANOVA_DATASET_PATH, type_anova=\"at_least_one\", p_value=0.05, chromosome=\"all\")\n",
    "\n",
    "automated_model_train(algorithm=\"randomForest\", choosen_phenotypes=[\"SM300-Efficiency\"],\n",
    "                    DATASET_PATH=DATASET_FILEPATHS, PHENOTYPES_PATH=PHENOTYPES_PATH)"
   ]
  }
 ],
 "metadata": {
  "interpreter": {
   "hash": "0c553806f052202d33c4aa0bba9e6ab658aab5d30cc44140daa08f372e9629d7"
  },
  "kernelspec": {
   "display_name": "Python 3.10.4 ('.env': venv)",
   "language": "python",
   "name": "python3"
  },
  "language_info": {
   "codemirror_mode": {
    "name": "ipython",
    "version": 3
   },
   "file_extension": ".py",
   "mimetype": "text/x-python",
   "name": "python",
   "nbconvert_exporter": "python",
   "pygments_lexer": "ipython3",
   "version": "3.10.4"
  },
  "orig_nbformat": 4
 },
 "nbformat": 4,
 "nbformat_minor": 2
}
