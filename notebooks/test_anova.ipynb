{
 "cells": [
  {
   "cell_type": "code",
   "execution_count": 1,
   "metadata": {},
   "outputs": [],
   "source": [
    "import os, sys\n",
    "path_to_package = os.path.abspath(os.path.join('../'))\n",
    "if path_to_package not in sys.path:\n",
    "    sys.path.append(path_to_package)\n",
    "\n",
    "import matplotlib.pyplot as plt\n",
    "import pandas as pd\n",
    "import json\n",
    "import glob\n",
    "\n",
    "from src.utils import check_working_os\n",
    "from src.io import get_filepaths, write_json"
   ]
  },
  {
   "cell_type": "code",
   "execution_count": 2,
   "metadata": {},
   "outputs": [],
   "source": [
    "def load_index(filename):\n",
    "    index_path = \"/home/khaldrem/code/sc_regmod/dataset/index\"\n",
    "    f = open(f\"{index_path}/{filename}.json\", \"r\")\n",
    "    json_data = json.load(f)\n",
    "    f.close()\n",
    "\n",
    "    return json_data\n",
    "    "
   ]
  },
  {
   "cell_type": "code",
   "execution_count": 3,
   "metadata": {},
   "outputs": [],
   "source": [
    "phenotypes = [\n",
    "    \"SM300-Efficiency\", \"SM300-Rate\", \"SM300-Lag\", \"SM300-AUC\",\n",
    "    \"SM60-Efficiency\",  \"SM60-Rate\",  \"SM60-Lag\",  \"SM60-AUC\",\n",
    "    \"Ratio-Efficiency\", \"Ratio-Rate\", \"Ratio-Lag\", \"Ratio-AUC\",\n",
    "]\n",
    "\n",
    "exp = [\"1\", \"2\", \"3\", \"4\"]\n",
    "chromosomes = [\"all\", \"haploide-euploide\", \"diploides-euploides\", \"---\"]\n",
    "anova_path = \"/home/khaldrem/code/sc_regmod/dataset/anova/anova_at_least_one_phenotype/p_value_0_01/\""
   ]
  },
  {
   "cell_type": "code",
   "execution_count": 4,
   "metadata": {},
   "outputs": [],
   "source": [
    "#Limpiar ANOVA en el index\n",
    "for file in glob.glob(\"/home/khaldrem/code/sc_regmod/dataset/index/*.json\"):\n",
    "    f = open(file, \"r\")\n",
    "    json_data = json.load(f)\n",
    "    f.close()\n",
    "\n",
    "    if 'anova' in json_data.keys():\n",
    "        json_data[\"anova\"] = {}\n"
   ]
  },
  {
   "cell_type": "code",
   "execution_count": 9,
   "metadata": {},
   "outputs": [
    {
     "name": "stdout",
     "output_type": "stream",
     "text": [
      "exp: 4 | chrosomose: all\n"
     ]
    }
   ],
   "source": [
    "#Por cada archivo en el ANOVA\n",
    "for exp, chromosome in zip(exp, chromosomes):\n",
    "    print(f\"exp: {exp} | chrosomose: {chromosome}\")\n",
    "\n",
    "    filepaths = glob.glob(f\"/home/khaldrem/code/sc_regmod/dataset/anova/anova_at_least_one_phenotype/p_value_0_01/{chromosome}/csv/*.csv\")\n",
    "    for fp in filepaths:\n",
    "        filename = fp.split(\"/\")[-1].split(\".\")[0]\n",
    "        data_csv = pd.read_csv(fp)\n",
    "\n",
    "        unique_pos = set()\n",
    "\n",
    "        for idx, row in data_csv.iterrows():\n",
    "            for pt in phenotypes:\n",
    "                if row[f\"{pt}_pvalue\"] < 0.01:\n",
    "                    unique_pos.add(int(row[\"col\"]))\n",
    "\n",
    "        # print(f\"filename: {filename} | len: {len(unique_pos)} pos: {unique_pos}\")\n",
    "\n",
    "        index = load_index(filename)\n",
    "        index['anova'][exp] = sorted(list(unique_pos))\n",
    "\n",
    "        with open(f\"/home/khaldrem/code/sc_regmod/dataset/index/{filename}.json\", 'w') as outfile:\n",
    "            json.dump(index, outfile)\n",
    "    "
   ]
  },
  {
   "cell_type": "code",
   "execution_count": 6,
   "metadata": {},
   "outputs": [],
   "source": [
    "yil = load_index(\"YJL123C\")"
   ]
  },
  {
   "cell_type": "code",
   "execution_count": 8,
   "metadata": {},
   "outputs": [
    {
     "data": {
      "text/plain": [
       "137"
      ]
     },
     "execution_count": 8,
     "metadata": {},
     "output_type": "execute_result"
    }
   ],
   "source": [
    "len(yil[\"anova\"][\"1\"])"
   ]
  },
  {
   "cell_type": "code",
   "execution_count": null,
   "metadata": {},
   "outputs": [],
   "source": []
  }
 ],
 "metadata": {
  "kernelspec": {
   "display_name": "Python 3.10.4 ('.env': venv)",
   "language": "python",
   "name": "python3"
  },
  "language_info": {
   "codemirror_mode": {
    "name": "ipython",
    "version": 3
   },
   "file_extension": ".py",
   "mimetype": "text/x-python",
   "name": "python",
   "nbconvert_exporter": "python",
   "pygments_lexer": "ipython3",
   "version": "3.10.4"
  },
  "orig_nbformat": 4,
  "vscode": {
   "interpreter": {
    "hash": "0c553806f052202d33c4aa0bba9e6ab658aab5d30cc44140daa08f372e9629d7"
   }
  }
 },
 "nbformat": 4,
 "nbformat_minor": 2
}
