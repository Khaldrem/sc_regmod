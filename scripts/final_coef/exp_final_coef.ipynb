{
 "cells": [
  {
   "cell_type": "code",
   "execution_count": 1,
   "metadata": {},
   "outputs": [],
   "source": [
    "#Imports\n",
    "import os, sys\n",
    "path_to_package = os.path.abspath(os.path.join('../'))\n",
    "if path_to_package not in sys.path:\n",
    "    sys.path.append(path_to_package)\n",
    "\n",
    "\n",
    "import matplotlib.pyplot as plt\n",
    "import pandas as pd\n",
    "import json"
   ]
  },
  {
   "cell_type": "code",
   "execution_count": 2,
   "metadata": {},
   "outputs": [],
   "source": [
    "phenotypes = [\n",
    "    \"SM300-Efficiency\", \"SM300-Rate\", \"SM300-Lag\", \"SM300-AUC\",\n",
    "    \"SM60-Efficiency\",  \"SM60-Rate\",  \"SM60-Lag\",  \"SM60-AUC\",\n",
    "    \"Ratio-Efficiency\", \"Ratio-Rate\", \"Ratio-Lag\", \"Ratio-AUC\",\n",
    "]\n",
    "\n",
    "models = [\"ridge\", \"lasso\", 'rf']\n",
    "\n",
    "EXP_NUM = 1"
   ]
  },
  {
   "cell_type": "code",
   "execution_count": 36,
   "metadata": {},
   "outputs": [],
   "source": [
    "def get_original_position(exp_num, index_data, model_pos):\n",
    "    if model_pos > len(index_data['anova'][str(exp_num)]):\n",
    "        print(index_data[\"filename\"])\n",
    "        print(\"exp\", exp_num)\n",
    "        print(model_pos)\n",
    "        print(sorted(index_data['anova'][str(exp_num)]))\n",
    "        print(len(index_data['anova'][str(exp_num)]))\n",
    "        \n",
    "    anova_index = index_data['anova'][str(exp_num)][model_pos]\n",
    "    clean_index = index_data['clean']['index'][anova_index]\n",
    "    # print(f\"anova: {anova_index} | clean: {clean_index}\")\n",
    "    return clean_index\n",
    "\n",
    "\n",
    "def load_index(filename):\n",
    "    index_path = \"/home/khaldrem/code/sc_regmod/dataset/index\"\n",
    "    f = open(f\"{index_path}/{filename}.json\", \"r\")\n",
    "    json_data = json.load(f)\n",
    "    f.close()\n",
    "\n",
    "    return json_data\n",
    "    \n",
    "def create_resume_exp_coef(models, phenotypes, exp_num, top_n_features=15):\n",
    "    save_path = f\"res/{exp_num}\"\n",
    "    \n",
    "    if not os.path.exists(save_path):\n",
    "        os.makedirs(save_path)\n",
    "\n",
    "    for model in models:\n",
    "        final_data = {}\n",
    "\n",
    "        print(f\"model: {model}\")\n",
    "        for pt in phenotypes:\n",
    "            # print(pt)\n",
    "            # print()\n",
    "            path = f\"/home/khaldrem/code/sc_regmod/dataset/models/final/{exp_num}/csv/{model}_coef_results_{pt}.csv\"\n",
    "            all_data = pd.read_csv(path)\n",
    "\n",
    "            data = all_data.iloc[:top_n_features, :]\n",
    "            filenames = data[\"filename\"].tolist()\n",
    "            res_data = []\n",
    "            positions = []\n",
    "\n",
    "            if model == \"rf\":\n",
    "                res_data = data[\"absolute_error\"].tolist()\n",
    "                positions = data[\"feature\"].tolist()\n",
    "            else:\n",
    "                res_data = data[\"coefficients\"].tolist()\n",
    "                positions = data[\"features\"].tolist()\n",
    "\n",
    "            \n",
    "            positions = [int(i.split(\"_\")[1].split(\"x\")[1]) for i in positions]\n",
    "            \n",
    "            original_position = []\n",
    "            for fn, pos in zip(filenames, positions):\n",
    "                # print(fn)\n",
    "                # print(pos)\n",
    "                index_data = load_index(fn)                \n",
    "                original_position.append(get_original_position(exp_num, index_data, pos))\n",
    "\n",
    "            final_data[f'{pt}_filenames'] = filenames\n",
    "            final_data[f'{pt}_importance'] = res_data\n",
    "            final_data[f'{pt}_original_index'] = original_position\n",
    "\n",
    "        final_data_df = pd.DataFrame.from_dict(final_data)\n",
    "        final_data_df.to_csv(f'{save_path}/{model}.csv')\n",
    "        \n",
    "\n",
    "        "
   ]
  },
  {
   "cell_type": "code",
   "execution_count": 47,
   "metadata": {},
   "outputs": [
    {
     "name": "stdout",
     "output_type": "stream",
     "text": [
      "model: ridge\n",
      "model: lasso\n",
      "model: rf\n"
     ]
    }
   ],
   "source": [
    "create_resume_exp_coef(models, phenotypes, 1, 50)"
   ]
  },
  {
   "cell_type": "code",
   "execution_count": 48,
   "metadata": {},
   "outputs": [
    {
     "name": "stdout",
     "output_type": "stream",
     "text": [
      "model: ridge\n",
      "model: lasso\n",
      "model: rf\n"
     ]
    }
   ],
   "source": [
    "create_resume_exp_coef(models, phenotypes, 2, 50)"
   ]
  },
  {
   "cell_type": "code",
   "execution_count": 49,
   "metadata": {},
   "outputs": [
    {
     "name": "stdout",
     "output_type": "stream",
     "text": [
      "model: ridge\n",
      "model: lasso\n",
      "model: rf\n"
     ]
    }
   ],
   "source": [
    "create_resume_exp_coef(models, phenotypes, 3, 50)"
   ]
  },
  {
   "cell_type": "code",
   "execution_count": 50,
   "metadata": {},
   "outputs": [
    {
     "name": "stdout",
     "output_type": "stream",
     "text": [
      "model: ridge\n",
      "model: lasso\n",
      "model: rf\n"
     ]
    }
   ],
   "source": [
    "create_resume_exp_coef(models, phenotypes, 4, 50)"
   ]
  },
  {
   "cell_type": "code",
   "execution_count": null,
   "metadata": {},
   "outputs": [],
   "source": []
  }
 ],
 "metadata": {
  "kernelspec": {
   "display_name": "Python 3.10.4 ('.env': venv)",
   "language": "python",
   "name": "python3"
  },
  "language_info": {
   "codemirror_mode": {
    "name": "ipython",
    "version": 3
   },
   "file_extension": ".py",
   "mimetype": "text/x-python",
   "name": "python",
   "nbconvert_exporter": "python",
   "pygments_lexer": "ipython3",
   "version": "3.10.4"
  },
  "orig_nbformat": 4,
  "vscode": {
   "interpreter": {
    "hash": "0c553806f052202d33c4aa0bba9e6ab658aab5d30cc44140daa08f372e9629d7"
   }
  }
 },
 "nbformat": 4,
 "nbformat_minor": 2
}
