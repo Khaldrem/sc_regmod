{
 "cells": [
  {
   "cell_type": "code",
   "execution_count": null,
   "metadata": {},
   "outputs": [],
   "source": [
    "#Imports\n",
    "import os, sys\n",
    "path_to_package = os.path.abspath(os.path.join('../'))\n",
    "if path_to_package not in sys.path:\n",
    "    sys.path.append(path_to_package)\n",
    "\n",
    "\n",
    "from src.io import get_filepaths\n",
    "from src.models import data_preparation\n",
    "from src.utils import get_filename\n",
    "\n",
    "import matplotlib.pyplot as plt\n",
    "import numpy as np\n",
    "import pandas as pd\n",
    "import scipy as sp\n",
    "\n",
    "import seaborn as sns\n",
    "from sklearn.model_selection import train_test_split\n",
    "from sklearn.metrics import median_absolute_error\n",
    "from sklearn.linear_model import Ridge, RidgeCV"
   ]
  },
  {
   "cell_type": "code",
   "execution_count": null,
   "metadata": {},
   "outputs": [],
   "source": [
    "ANOVA_DATASET_PATH = \"/home/khaldrem/code/sc_regmod/dataset/anova\"\n",
    "INDEX_PATH = \"/home/khaldrem/code/sc_regmod/dataset/index\"\n",
    "PHENOTYPES_PATH = \"/home/khaldrem/code/sc_regmod/dataset/phenotypes/clean_phenotypes.csv\""
   ]
  },
  {
   "cell_type": "code",
   "execution_count": null,
   "metadata": {},
   "outputs": [],
   "source": [
    "# LOAD FILE\n",
    "filepath = '/home/khaldrem/code/sc_regmod/dataset/anova/anova_at_least_one_phenotype/p_value_0_05/all/YDR543C.phylip'\n",
    "filename = get_filename(filepath)\n",
    "df, data_length = data_preparation(filepath, PHENOTYPES_PATH)\n"
   ]
  },
  {
   "cell_type": "code",
   "execution_count": null,
   "metadata": {},
   "outputs": [],
   "source": [
    "choosen_phenotype = 'SM300-Efficiency'"
   ]
  },
  {
   "cell_type": "code",
   "execution_count": null,
   "metadata": {},
   "outputs": [],
   "source": [
    "#Y labels\n",
    "labels = np.array(df[choosen_phenotype])\n",
    "\n",
    "#X features\n",
    "features_ohe = pd.get_dummies(df.iloc[:, 0:data_length])\n",
    "features_list = list(features_ohe.columns)\n",
    "print(f\"features_list: {len(features_list)}\")\n",
    "features = np.array(features_ohe)\n",
    "\n",
    "pd_features = pd.DataFrame(features, columns=features_ohe.columns)\n",
    "\n",
    "\n",
    "#Split Train/Test\n",
    "X_train, X_test, y_train, y_test = train_test_split(pd_features, labels, test_size = 0.25, random_state=42, shuffle=False)\n"
   ]
  },
  {
   "cell_type": "code",
   "execution_count": null,
   "metadata": {},
   "outputs": [],
   "source": [
    "# model = Ridge(alpha=)\n",
    "# model.fit(X_train, y_train)\n",
    "\n",
    "# # y_pred = model.predict(X_train)"
   ]
  },
  {
   "cell_type": "code",
   "execution_count": null,
   "metadata": {},
   "outputs": [],
   "source": [
    "# model = RidgeCV(cv=5)\n",
    "# model.fit(X_train, y_train)\n",
    "\n",
    "# # y_pred = model.predict(X_train)"
   ]
  },
  {
   "cell_type": "code",
   "execution_count": null,
   "metadata": {},
   "outputs": [],
   "source": [
    "# print(f\"alphas: {model.alphas}\")\n",
    "# print(f\"best score: {model.best_score_}\")\n",
    "# print(f\"coef_: {model.coef_.shape}\")\n",
    "# print(f\"cv: {model.cv}\")\n",
    "# # print(f\"features: {model.feature_names_in_}\")\n",
    "# print(f\": {model.}\")\n",
    "\n",
    "\n"
   ]
  },
  {
   "cell_type": "code",
   "execution_count": null,
   "metadata": {},
   "outputs": [],
   "source": [
    "# plt.scatter(y_train, y_pred)\n",
    "# plt.scatter(X_train)\n",
    "\n",
    "\n",
    "\n",
    "\n",
    "print(model.intercept_)\n",
    "print(len(model.coef_))\n",
    "print(X_train.shape)\n",
    "\n",
    "\n",
    "# plt.plot(model.coef_)\n",
    "# # print(X_train)\n",
    "\n",
    "# plt.scatter(X_train.iloc[:, 0], y_train)\n",
    "\n",
    "# plt.scatter(X_train.iloc[:, 1], y_train)\n",
    "\n",
    "# plt.scatter(X_train.iloc[:, 2], y_train)\n",
    "\n",
    "# plt.scatter(X_train.iloc[:, 3], y_train)\n",
    "\n",
    "# print(X_train.shape)\n",
    "# print(len(y_train))\n",
    "\n",
    "# plt.bloxplot(X_train.iloc[:, 0], y_train)\n",
    "\n",
    "\n"
   ]
  },
  {
   "cell_type": "code",
   "execution_count": null,
   "metadata": {},
   "outputs": [],
   "source": [
    "mae = median_absolute_error(y_train, y_pred)\n",
    "string_score = f\"MAE on training set: {mae:.2f}\"\n",
    "\n",
    "y_pred = model.predict(X_test)\n",
    "mae = median_absolute_error(y_test, y_pred)\n",
    "string_score += f\"\\nMAE on testing set: {mae:.2f}\""
   ]
  },
  {
   "cell_type": "code",
   "execution_count": null,
   "metadata": {},
   "outputs": [],
   "source": [
    "fig, ax = plt.subplots(figsize=(5, 5))\n",
    "plt.scatter(y_test, y_pred)\n",
    "# ax.plot([0, 1], [0, 1], transform=ax.transAxes, ls=\"--\", c=\"red\")\n",
    "# plt.text(0.2, 1.3, string_score)\n",
    "plt.title(\"Ridge model, small regularization\")\n",
    "plt.ylabel(\"Model predictions\")\n",
    "plt.xlabel(\"Truths\")\n",
    "# plt.xlim([0, 27])\n",
    "# _ = plt.ylim([0, 27])\n",
    "\n",
    "plt.show()"
   ]
  },
  {
   "cell_type": "code",
   "execution_count": null,
   "metadata": {},
   "outputs": [],
   "source": [
    "coefs = pd.DataFrame(\n",
    "    model.coef_,\n",
    "    columns=[\"Coefficients\"],\n",
    "    index=model.feature_names_in_,\n",
    ")\n",
    "\n",
    "coefs"
   ]
  },
  {
   "cell_type": "code",
   "execution_count": null,
   "metadata": {},
   "outputs": [],
   "source": [
    "coefs = coefs.sort_values(by=\"Coefficients\", ascending=True)\n",
    "coefs[:10]\n"
   ]
  },
  {
   "cell_type": "code",
   "execution_count": null,
   "metadata": {},
   "outputs": [],
   "source": [
    "coefs[:10].plot.barh(figsize=(9, 7))\n",
    "plt.title(\"Ridge model, small regularization\")\n",
    "plt.axvline(x=0, color=\".5\")\n",
    "plt.xlabel(\"Raw coefficient values\")\n",
    "# plt.subplots_adjust(left=0.1)\n"
   ]
  },
  {
   "cell_type": "code",
   "execution_count": null,
   "metadata": {},
   "outputs": [],
   "source": [
    "coefs.plot.barh(figsize=(9, 7))\n",
    "plt.title(\"Feature ranges\")\n",
    "plt.xlabel(\"Std. dev. of feature values\")\n",
    "plt.subplots_adjust(left=0.3)"
   ]
  },
  {
   "cell_type": "code",
   "execution_count": null,
   "metadata": {},
   "outputs": [],
   "source": [
    "import numpy as np"
   ]
  },
  {
   "cell_type": "code",
   "execution_count": null,
   "metadata": {},
   "outputs": [],
   "source": [
    "Y = np.array(df[choosen_phenotype])\n",
    "X = df.iloc[:, :-12]\n",
    "\n",
    "Y"
   ]
  },
  {
   "cell_type": "code",
   "execution_count": null,
   "metadata": {},
   "outputs": [],
   "source": [
    "X_train, X_test, y_train, y_test = train_test_split(X, Y, random_state = 42)"
   ]
  },
  {
   "cell_type": "code",
   "execution_count": null,
   "metadata": {},
   "outputs": [],
   "source": [
    "from sklearn.compose import make_column_transformer\n",
    "from sklearn.preprocessing import OneHotEncoder"
   ]
  },
  {
   "cell_type": "code",
   "execution_count": null,
   "metadata": {},
   "outputs": [],
   "source": [
    "categorical_columns = X.columns\n",
    "\n",
    "preprocessor = make_column_transformer(\n",
    "    (OneHotEncoder(drop=\"if_binary\", handle_unknown=\"ignore\"), categorical_columns),\n",
    "    remainder=\"passthrough\",\n",
    "    verbose_feature_names_out=False,\n",
    ")"
   ]
  },
  {
   "cell_type": "code",
   "execution_count": null,
   "metadata": {},
   "outputs": [],
   "source": [
    "from sklearn.pipeline import make_pipeline\n",
    "from sklearn.linear_model import Ridge\n",
    "from sklearn.compose import TransformedTargetRegressor\n"
   ]
  },
  {
   "cell_type": "code",
   "execution_count": null,
   "metadata": {},
   "outputs": [],
   "source": [
    "model = make_pipeline(\n",
    "    preprocessor,\n",
    "    TransformedTargetRegressor(\n",
    "        regressor=Ridge(alpha=1e-10), func=np.log10, inverse_func=sp.special.exp10\n",
    "    ),\n",
    ")"
   ]
  },
  {
   "cell_type": "code",
   "execution_count": null,
   "metadata": {},
   "outputs": [],
   "source": [
    "model.fit(X_train, y_train)"
   ]
  },
  {
   "cell_type": "code",
   "execution_count": null,
   "metadata": {},
   "outputs": [],
   "source": [
    "from sklearn.metrics import median_absolute_error\n",
    "\n",
    "y_pred = model.predict(X_train)\n",
    "\n",
    "mae = median_absolute_error(y_train, y_pred)\n",
    "print(f\"MAE on training set: {mae:.2f}\")\n",
    "\n",
    "\n",
    "y_pred = model.predict(X_test)\n",
    "mae = median_absolute_error(y_test, y_pred)\n",
    "print(f\"MAE on training set: {mae:.2f}\")\n"
   ]
  },
  {
   "cell_type": "code",
   "execution_count": null,
   "metadata": {},
   "outputs": [],
   "source": [
    "fig, ax = plt.subplots(figsize=(5, 5))\n",
    "plt.scatter(y_test, y_pred)\n",
    "# ax.plot([0, 1], [0, 1], transform=ax.transAxes, ls=\"--\", c=\"red\")\n",
    "# plt.text(3, 20, string_score)\n",
    "plt.title(\"Ridge model, small regularization\")\n",
    "plt.ylabel(\"Model predictions\")\n",
    "plt.xlabel(\"Truths\")\n",
    "# plt.xlim([0, 27])\n",
    "# _ = plt.ylim([0, 27])"
   ]
  },
  {
   "cell_type": "code",
   "execution_count": null,
   "metadata": {},
   "outputs": [],
   "source": [
    "feature_names = model[:-1].get_feature_names_out()\n",
    "\n",
    "coefs = pd.DataFrame(\n",
    "    model[-1].regressor_.coef_,\n",
    "    columns=[\"Coefficients\"],\n",
    "    index=feature_names,\n",
    ")\n",
    "\n",
    "coefs"
   ]
  },
  {
   "cell_type": "code",
   "execution_count": null,
   "metadata": {},
   "outputs": [],
   "source": [
    "coefs.plot.barh(figsize=(9, 7))\n",
    "plt.title(\"Ridge model, small regularization\")\n",
    "plt.axvline(x=0, color=\".5\")\n",
    "plt.xlabel(\"Raw coefficient values\")\n",
    "plt.subplots_adjust(left=0.3)"
   ]
  },
  {
   "cell_type": "code",
   "execution_count": null,
   "metadata": {},
   "outputs": [],
   "source": [
    "X_train_preprocessed = pd.DataFrame(\n",
    "    model[:-1].transform(X_train), columns=feature_names\n",
    ")\n",
    "\n",
    "X_train_preprocessed.std(axis=0).plot.barh(figsize=(9, 7))\n",
    "plt.title(\"Feature ranges\")\n",
    "plt.xlabel(\"Std. dev. of feature values\")\n",
    "plt.subplots_adjust(left=0.3)"
   ]
  },
  {
   "cell_type": "code",
   "execution_count": null,
   "metadata": {},
   "outputs": [],
   "source": [
    "X_train_preprocessed = pd.DataFrame(\n",
    "    model[:-1].transform(X_train), columns=feature_names\n",
    ")"
   ]
  },
  {
   "cell_type": "code",
   "execution_count": null,
   "metadata": {},
   "outputs": [],
   "source": [
    "X_train.shape"
   ]
  },
  {
   "cell_type": "code",
   "execution_count": null,
   "metadata": {},
   "outputs": [],
   "source": [
    "import matplotlib.pyplot as plt\n",
    "import numpy as np\n",
    "\n",
    "from sklearn.datasets import make_regression\n",
    "from sklearn.linear_model import Ridge\n",
    "from sklearn.metrics import mean_squared_error\n",
    "\n",
    "clf = Ridge()\n",
    "\n",
    "\n",
    "coefs10 = []\n",
    "errors = np.zeros((200, 1))\n",
    "\n",
    "alphas = np.logspace(1.2, 1.4, 200)\n",
    "\n",
    "# Train the model with different regularisation strengths\n",
    "for idx, a in enumerate(alphas):\n",
    "    clf.set_params(alpha=a)\n",
    "    clf.fit(X_train, y_train)\n",
    "    coefs10.append(clf.coef_)\n",
    "    y_pred = clf.predict(X_test)\n",
    "    errors[idx] = mean_squared_error(y_test, y_pred)\n",
    "\n",
    "# Display results\n",
    "plt.figure(figsize=(20, 6))\n",
    "\n",
    "plt.subplot(121)\n",
    "ax = plt.gca()\n",
    "ax.plot(alphas, coefs10)\n",
    "ax.set_xscale(\"log\")\n",
    "plt.xlabel(\"alpha\")\n",
    "plt.ylabel(\"weights\")\n",
    "plt.title(\"Ridge coefficients as a function of the regularization\")\n",
    "plt.axis(\"tight\")\n",
    "\n",
    "plt.subplot(122)\n",
    "ax = plt.gca()\n",
    "ax.plot(alphas, errors)\n",
    "ax.set_xscale(\"log\")\n",
    "plt.xlabel(\"alpha\")\n",
    "plt.ylabel(\"error\")\n",
    "plt.title(\"Coefficient error as a function of the regularization\")\n",
    "plt.axis(\"tight\")\n",
    "\n",
    "plt.show()"
   ]
  },
  {
   "cell_type": "code",
   "execution_count": null,
   "metadata": {},
   "outputs": [],
   "source": [
    "errors.argmin()"
   ]
  },
  {
   "cell_type": "code",
   "execution_count": null,
   "metadata": {},
   "outputs": [],
   "source": [
    "alphas[109]"
   ]
  },
  {
   "cell_type": "code",
   "execution_count": null,
   "metadata": {},
   "outputs": [],
   "source": [
    "\n",
    "model = Ridge(alpha = alphas[109])\n",
    "model.fit(X_train, y_train)\n",
    "\n",
    "\n",
    "\n"
   ]
  }
 ],
 "metadata": {
  "interpreter": {
   "hash": "0c553806f052202d33c4aa0bba9e6ab658aab5d30cc44140daa08f372e9629d7"
  },
  "kernelspec": {
   "display_name": "Python 3.10.4 ('.env': venv)",
   "language": "python",
   "name": "python3"
  },
  "language_info": {
   "codemirror_mode": {
    "name": "ipython",
    "version": 3
   },
   "file_extension": ".py",
   "mimetype": "text/x-python",
   "name": "python",
   "nbconvert_exporter": "python",
   "pygments_lexer": "ipython3",
   "version": "3.10.4"
  },
  "orig_nbformat": 4
 },
 "nbformat": 4,
 "nbformat_minor": 2
}
